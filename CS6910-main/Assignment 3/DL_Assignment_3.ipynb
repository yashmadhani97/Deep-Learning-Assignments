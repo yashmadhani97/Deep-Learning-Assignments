{
  "nbformat": 4,
  "nbformat_minor": 0,
  "metadata": {
    "accelerator": "GPU",
    "colab": {
      "name": "DL_Assignment_3.ipynb",
      "provenance": [],
      "collapsed_sections": [
        "alKOtn52EsQn",
        "PjBRCw8ihuCS",
        "QtzT-cTy5eWU",
        "WjJLIhhC5yKB"
      ]
    },
    "kernelspec": {
      "display_name": "Python 3",
      "name": "python3"
    },
    "language_info": {
      "name": "python"
    }
  },
  "cells": [
    {
      "cell_type": "markdown",
      "metadata": {
        "id": "exeZxpJWbfNZ"
      },
      "source": [
        "# Checking GPU"
      ]
    },
    {
      "cell_type": "code",
      "metadata": {
        "id": "1szQk-6sSHIf"
      },
      "source": [
        "# memory footprint support libraries/code\n",
        "!ln -sf /opt/bin/nvidia-smi /usr/bin/nvidia-smi\n",
        "!pip install gputil\n",
        "!pip install psutil\n",
        "!pip install humanize\n",
        "import psutil\n",
        "import humanize\n",
        "import os\n",
        "import GPUtil as GPU\n",
        "GPUs = GPU.getGPUs()\n",
        "# XXX: only one GPU on Colab and isn’t guaranteed\n",
        "gpu = GPUs[0]\n",
        "def printm():\n",
        " process = psutil.Process(os.getpid())\n",
        " print(\"Gen RAM Free: \" + humanize.naturalsize( psutil.virtual_memory().available ), \" | Proc size: \" + humanize.naturalsize( process.memory_info().rss))\n",
        " print(\"GPU RAM Free: {0:.0f}MB | Used: {1:.0f}MB | Util {2:3.0f}% | Total {3:.0f}MB\".format(gpu.memoryFree, gpu.memoryUsed, gpu.memoryUtil*100, gpu.memoryTotal))\n",
        "printm()"
      ],
      "execution_count": null,
      "outputs": []
    },
    {
      "cell_type": "markdown",
      "metadata": {
        "id": "Q6k4OVy4EG7R"
      },
      "source": [
        "# Common cell for all Questions\n",
        "#### Downloading and extracting data, importing packages, defining data paths, building character vocab, defining funciton for preprocessing data"
      ]
    },
    {
      "cell_type": "markdown",
      "metadata": {
        "id": "I-2c8hUaa9F-"
      },
      "source": [
        "## Downloading  and extracting data"
      ]
    },
    {
      "cell_type": "code",
      "metadata": {
        "id": "F9T4hdbrKP8g"
      },
      "source": [
        "!wget https://storage.googleapis.com/gresearch/dakshina/dakshina_dataset_v1.0.tar\n",
        "import tarfile\n",
        "\n",
        "tar = tarfile.open('dakshina_dataset_v1.0.tar', \"r:\")\n",
        "tar.extractall()\n",
        "tar.close()"
      ],
      "execution_count": null,
      "outputs": []
    },
    {
      "cell_type": "markdown",
      "metadata": {
        "id": "ihh87k7wbGvu"
      },
      "source": [
        "## Importing packages"
      ]
    },
    {
      "cell_type": "code",
      "metadata": {
        "id": "9ZN0fSSCQr8d"
      },
      "source": [
        "import numpy as np\n",
        "import csv\n",
        "import random\n",
        "import matplotlib.pyplot as plt\n",
        "import matplotlib.ticker as ticker\n",
        "from matplotlib.font_manager import FontProperties\n",
        "import seaborn as sns\n",
        "import matplotlib.image as mpimg\n",
        "from mpl_toolkits.axes_grid1 import ImageGrid\n",
        "\n",
        "# Imports for visualisations\n",
        "from IPython.display import HTML \n",
        "from IPython.display import display\n",
        "\n",
        "import tensorflow as tf\n",
        "from tensorflow import keras\n",
        "from keras.utils.vis_utils import plot_model\n",
        "from tensorflow.keras.callbacks import *\n",
        "from tensorflow.keras.optimizers import *\n",
        "from tensorflow.keras import backend as K\n",
        "from tensorflow.keras.layers import *\n",
        "from tensorflow.keras.models import *\n",
        "\n",
        "!pip install wandb\n",
        "import wandb\n",
        "from wandb.keras import WandbCallback"
      ],
      "execution_count": null,
      "outputs": []
    },
    {
      "cell_type": "markdown",
      "metadata": {
        "id": "8HdveJFycQDe"
      },
      "source": [
        "## Defining data paths"
      ]
    },
    {
      "cell_type": "code",
      "metadata": {
        "id": "EaH_btO8cPtd"
      },
      "source": [
        "train_data_path = \"/content/dakshina_dataset_v1.0/hi/lexicons/hi.translit.sampled.train.tsv\"\n",
        "val_data_path = \"/content/dakshina_dataset_v1.0/hi/lexicons/hi.translit.sampled.dev.tsv\"\n",
        "test_data_path = \"/content/dakshina_dataset_v1.0/hi/lexicons/hi.translit.sampled.test.tsv\""
      ],
      "execution_count": null,
      "outputs": []
    },
    {
      "cell_type": "markdown",
      "metadata": {
        "id": "HgrTeMlIbO6p"
      },
      "source": [
        "## Building character vocab and defining funciton for preprocessing data"
      ]
    },
    {
      "cell_type": "code",
      "metadata": {
        "id": "LLyqulg6bdSj"
      },
      "source": [
        "# build character vocab\n",
        "def build_character_vocab():\n",
        "    \n",
        "    # Vectorize the train data and val data.\n",
        "    input_texts = []\n",
        "    target_texts = []\n",
        "    input_characters = set()\n",
        "    target_characters = set()\n",
        "    \n",
        "    with open(train_data_path, \"r\", encoding=\"utf-8\") as f:\n",
        "        lines = f.read().split(\"\\n\")\n",
        "    lines = [line for line in lines if '\\t' in line]\n",
        "\n",
        "    for line in lines:\n",
        "        target_text, input_text, _ = line.split(\"\\t\")\n",
        "        # We use \"tab\" as the \"start sequence\" character for the targets\n",
        "        target_text = \"\\t\" + target_text\n",
        "        input_texts.append(input_text)\n",
        "        target_texts.append(target_text)\n",
        "        for char in input_text:\n",
        "            if char not in input_characters:\n",
        "                input_characters.add(char)\n",
        "        for char in target_text:\n",
        "            if char not in target_characters:\n",
        "                target_characters.add(char)\n",
        "\n",
        "    # adding space character to the input and target character set\n",
        "    input_characters.add(' ')\n",
        "    target_characters.add(' ')\n",
        "\n",
        "    input_characters = sorted(list(input_characters))\n",
        "    target_characters = sorted(list(target_characters))\n",
        "    num_encoder_tokens = len(input_characters)\n",
        "    num_decoder_tokens = len(target_characters)\n",
        "    max_encoder_seq_length = max([len(txt) for txt in input_texts])\n",
        "    max_decoder_seq_length = max([len(txt) for txt in target_texts])\n",
        "\n",
        "    print(\"Number of samples:\", len(input_texts))\n",
        "    print(\"Number of unique input tokens:\", num_encoder_tokens)\n",
        "    print(\"Number of unique output tokens:\", num_decoder_tokens)\n",
        "    print(\"Max sequence length for inputs:\", max_encoder_seq_length)\n",
        "    print(\"Max sequence length for outputs:\", max_decoder_seq_length)\n",
        "\n",
        "    input_token_index = dict([(char, i) for i, char in enumerate(input_characters)])\n",
        "    target_token_index = dict([(char, i) for i, char in enumerate(target_characters)])\n",
        "\n",
        "    return (num_encoder_tokens, num_decoder_tokens, input_token_index, target_token_index, max_encoder_seq_length, max_decoder_seq_length)"
      ],
      "execution_count": null,
      "outputs": []
    },
    {
      "cell_type": "code",
      "metadata": {
        "id": "JoovSWAocc6E"
      },
      "source": [
        "# preprocess the data\n",
        "def data_preprocessing(data_path, num_encoder_tokens, num_decoder_tokens, input_token_index, target_token_index, max_encoder_seq_length, max_decoder_seq_length):\n",
        "    \n",
        "    # Vectorize the train data and val data.\n",
        "    input_texts = []\n",
        "    target_texts = []\n",
        "    \n",
        "    with open(data_path, \"r\", encoding=\"utf-8\") as f:\n",
        "        lines = f.read().split(\"\\n\")\n",
        "    lines = [line for line in lines if '\\t' in line]\n",
        "    # random.shuffle(lines)\n",
        "    \n",
        "    for line in lines:\n",
        "        target_text, input_text, _ = line.split(\"\\t\")\n",
        "        \n",
        "        # We use \"tab\" as the \"start sequence\" character for the targets.\n",
        "        target_text = \"\\t\" + target_text\n",
        "        input_texts.append(input_text)\n",
        "        target_texts.append(target_text)    \n",
        "\n",
        "    \n",
        "    encoder_input_data = np.zeros(\n",
        "        (len(input_texts), max_encoder_seq_length), dtype=\"int32\"\n",
        "    )\n",
        "    decoder_input_data = np.zeros(\n",
        "        (len(input_texts), max_decoder_seq_length), dtype=\"int32\"\n",
        "    )\n",
        "    decoder_target_data = np.zeros(\n",
        "        (len(input_texts), max_decoder_seq_length, num_decoder_tokens), dtype=\"float32\"\n",
        "    )\n",
        "\n",
        "    for i, (input_text, target_text) in enumerate(zip(input_texts, target_texts)):\n",
        "\n",
        "        for t, char in enumerate(input_text):\n",
        "            if char in input_token_index.keys():\n",
        "                encoder_input_data[i, t] = input_token_index[char]\n",
        "        encoder_input_data[i, t + 1 :] = input_token_index[' ']\n",
        "\n",
        "        for t, char in enumerate(target_text):\n",
        "            # decoder_target_data is ahead of decoder_input_data by one timestep\n",
        "            if char in target_token_index.keys():\n",
        "                decoder_input_data[i, t] = target_token_index[char]\n",
        "                if t > 0:\n",
        "                    # decoder_target_data will be ahead by one timestep and will not include the start character.\n",
        "                    decoder_target_data[i, t - 1, target_token_index[char]] = 1.0\n",
        "        decoder_input_data[i, t + 1 :] = target_token_index[' ']\n",
        "        decoder_target_data[i, t:, target_token_index[' ']] = 1.0\n",
        "    \n",
        "    return (encoder_input_data, decoder_input_data, decoder_target_data)\n"
      ],
      "execution_count": null,
      "outputs": []
    },
    {
      "cell_type": "markdown",
      "metadata": {
        "id": "v_F8wbiwOtuV"
      },
      "source": [
        "# Common cell for Questions [1,2,3,4] \n",
        "#### Defining function for calculating accuracy with greedy search and buiding inference model"
      ]
    },
    {
      "cell_type": "markdown",
      "metadata": {
        "id": "g7PLRxdCMxeR"
      },
      "source": [
        "## Calculate accuracy"
      ]
    },
    {
      "cell_type": "code",
      "metadata": {
        "id": "SNfH7cJWMv-Y"
      },
      "source": [
        "def cal_acc(encoder_inference_model, decoder_inference_model, encoder_input_data, decoder_input_data, decoder_layer):\n",
        "    \n",
        "    # decoder_output_data will be ahead by one timestep and will not include the start character.\n",
        "    decoder_output_data =  decoder_input_data[:, 1:]\n",
        "\n",
        "    # Encode the input as state vectors.\n",
        "    states_value = encoder_inference_model.predict(encoder_input_data)\n",
        "    \n",
        "    # creating list for intial input states for multiple layers\n",
        "    if type(states_value) != list:\n",
        "        states_value = [states_value]\n",
        "    states_value_input_list = states_value * decoder_layer\n",
        "    \n",
        "    # taking intial character for every examples\n",
        "    target_input_seq = np.expand_dims(decoder_input_data[:,0], 1)\n",
        "    \n",
        "    # Sampling loop for a batch of sequences\n",
        "    stop_condition = False\n",
        "    i = 0\n",
        "\n",
        "    # defining prediction array\n",
        "    predictions = np.zeros( decoder_output_data.shape , dtype=\"int32\" ) \n",
        "\n",
        "    while not stop_condition:\n",
        "        output_tokens, states_value_output_list = decoder_inference_model.predict( [target_input_seq] + states_value_input_list)\n",
        "        \n",
        "        # Sample a token\n",
        "        sampled_token_index = np.argmax( output_tokens, axis = 2 )\n",
        "\n",
        "        # storing predicted characters\n",
        "        predictions[:, i] = np.squeeze( sampled_token_index, axis = 1)\n",
        "\n",
        "        # Exit condition: either hit max length or find stop character.\n",
        "        if i == (max_decoder_seq_length-2):\n",
        "            stop_condition = True\n",
        "            break\n",
        "\n",
        "        # Update the target sequence (of length 1).\n",
        "        target_input_seq = sampled_token_index\n",
        "\n",
        "        # Update states\n",
        "        states_value_input_list = states_value_output_list\n",
        "        \n",
        "        i+=1\n",
        "   \n",
        "    # comparing original outputs with predicitons\n",
        "    accuracy = np.sum(np.all(np.equal(predictions, decoder_output_data), axis=1)) / (decoder_output_data.shape[0])\n",
        "    \n",
        "    return accuracy"
      ],
      "execution_count": null,
      "outputs": []
    },
    {
      "cell_type": "markdown",
      "metadata": {
        "id": "7Rt_lE0wVTJb"
      },
      "source": [
        "## Builiding inference model"
      ]
    },
    {
      "cell_type": "code",
      "metadata": {
        "id": "vRN7Z32WVSKi"
      },
      "source": [
        "def build_encoder_inference_model(model, encoder_layer, cell_type):\n",
        "\n",
        "    if cell_type == \"LSTM\":\n",
        "        \n",
        "        # defining encoder inference model\n",
        "        encoder_inputs = model.input[0]\n",
        "        encoder_outputs, state_h_enc, state_c_enc = model.get_layer(\"encoder_layer_\"+str(encoder_layer)).output\n",
        "        encoder_states = [state_h_enc, state_c_enc]\n",
        "\n",
        "        encoder_inference_model = keras.Model(encoder_inputs, encoder_states)\n",
        "\n",
        "        plot_model(encoder_inference_model, to_file='encoder_inference_model.png', show_shapes=True)\n",
        "\n",
        "    elif cell_type == \"GRU\" or cell_type == \"RNN\":\n",
        "\n",
        "        # defining encoder inference model\n",
        "        encoder_inputs = model.input[0]\n",
        "        encoder_outputs, state_c_enc = model.get_layer(\"encoder_layer_\"+str(encoder_layer)).output\n",
        "        encoder_states = [state_c_enc,]\n",
        "\n",
        "        encoder_inference_model = keras.Model(encoder_inputs, encoder_states)\n",
        "\n",
        "        plot_model(encoder_inference_model, to_file='encoder_inference_model.png', show_shapes=True)\n",
        "\n",
        "    return encoder_inference_model"
      ],
      "execution_count": null,
      "outputs": []
    },
    {
      "cell_type": "code",
      "metadata": {
        "id": "_0v6__TuVZex"
      },
      "source": [
        "def build_decoder_inference_model(model, decoder_layer, cell_type, latent_dim):\n",
        "\n",
        "    if cell_type == \"LSTM\":\n",
        "\n",
        "        # defining decoder inference model\n",
        "        decoder_state_input_list = []\n",
        "        for i in range(decoder_layer):\n",
        "            decoder_state_input_list.append(keras.Input(shape=(latent_dim,)) )\n",
        "            decoder_state_input_list.append(keras.Input(shape=(latent_dim,)) )\n",
        "\n",
        "        decoder_state_output_list = []\n",
        "\n",
        "        decoder_inputs = model.input[1]\n",
        "        decoder_character_embedding_layer = model.get_layer('decoder_emb_layer')\n",
        "        decoder_character_embeddings = decoder_character_embedding_layer(decoder_inputs)\n",
        "\n",
        "        # index of layer in decoder_state_input_list\n",
        "        h = 0\n",
        "        c = 1\n",
        "\n",
        "        # hidden layers\n",
        "        decoder_layer_obj = model.get_layer('decoder_layer_1')\n",
        "        decoder_outputs, state_h_dec, state_c_dec = decoder_layer_obj(decoder_character_embeddings, initial_state = [decoder_state_input_list[h],decoder_state_input_list[c]] )\n",
        "        decoder_state_output_list.append( state_h_dec)\n",
        "        decoder_state_output_list.append( state_c_dec)\n",
        "\n",
        "        h += 2\n",
        "        c += 2\n",
        "        for i in range((decoder_layer)-1):\n",
        "            decoder_layer_obj = model.get_layer('decoder_layer_'+str(i+2))\n",
        "            decoder_outputs, state_h_dec, state_c_dec = decoder_layer_obj(decoder_outputs, initial_state = [decoder_state_input_list[h],decoder_state_input_list[c]])\n",
        "            decoder_state_output_list.append( state_h_dec)\n",
        "            decoder_state_output_list.append( state_c_dec)  \n",
        "            h += 2\n",
        "            c += 2\n",
        "\n",
        "        # output layer\n",
        "        decoder_dense = model.get_layer('decoder_output_layer')\n",
        "        decoder_outputs = decoder_dense(decoder_outputs)\n",
        "\n",
        "        decoder_inference_model = keras.Model([decoder_inputs] + decoder_state_input_list, [decoder_outputs] + [decoder_state_output_list] )\n",
        "\n",
        "        plot_model(decoder_inference_model, to_file='decoder_inference_model.png', show_shapes=True)\n",
        "\n",
        "    elif cell_type == \"RNN\" or cell_type == \"GRU\":\n",
        "\n",
        "        # defining decoder inference model\n",
        "        decoder_state_input_list = []\n",
        "        for i in range(decoder_layer):\n",
        "            decoder_state_input_list.append(keras.Input(shape=(latent_dim,)) )\n",
        "\n",
        "        decoder_state_output_list = []\n",
        "\n",
        "        decoder_inputs = model.input[1]\n",
        "        decoder_character_embedding_layer = model.get_layer('decoder_emb_layer')\n",
        "        decoder_character_embeddings = decoder_character_embedding_layer(decoder_inputs)\n",
        "\n",
        "        # index of layer in decoder_state_input_list\n",
        "        c = 0\n",
        "\n",
        "        # hidden layers\n",
        "        decoder_layer_obj = model.get_layer('decoder_layer_1')\n",
        "        decoder_outputs, state_c_dec = decoder_layer_obj(decoder_character_embeddings, initial_state = [decoder_state_input_list[c]] )\n",
        "        decoder_state_output_list.append( state_c_dec)\n",
        "\n",
        "        c += 1\n",
        "        for i in range((decoder_layer)-1):\n",
        "            decoder_layer_obj = model.get_layer('decoder_layer_'+str(i+2))\n",
        "            decoder_outputs, state_c_dec = decoder_layer_obj(decoder_outputs, initial_state = [decoder_state_input_list[c]])\n",
        "            decoder_state_output_list.append( state_c_dec)  \n",
        "            c += 1\n",
        "\n",
        "        # output layer\n",
        "        decoder_dense = model.get_layer('decoder_output_layer')\n",
        "        decoder_outputs = decoder_dense(decoder_outputs)\n",
        "\n",
        "        decoder_inference_model = keras.Model([decoder_inputs] + decoder_state_input_list, [decoder_outputs] + [decoder_state_output_list] )\n",
        "\n",
        "        plot_model(decoder_inference_model, to_file='decoder_inference_model.png', show_shapes=True) \n",
        "    return decoder_inference_model"
      ],
      "execution_count": null,
      "outputs": []
    },
    {
      "cell_type": "markdown",
      "metadata": {
        "id": "F1Fsp72EEVmf"
      },
      "source": [
        "# Question 1 \n",
        "### Build the train model with flexible parameters"
      ]
    },
    {
      "cell_type": "code",
      "metadata": {
        "id": "-W6OVMSyQZ82"
      },
      "source": [
        "def build_model(num_encoder_tokens, num_decoder_tokens, input_embedding_size, latent_dim, dropout, encoder_layer, decoder_layer, cell_type, max_encoder_seq_length, max_decoder_seq_length):\n",
        "    \n",
        "    if cell_type == \"LSTM\":\n",
        "        \n",
        "        # intializing encoder \n",
        "        # Defining input character embedding layer\n",
        "        encoder_inputs = keras.Input(shape=(None,), name = \"encoder_input_layer\")\n",
        "        encoder_character_embedding_layer = tf.keras.layers.Embedding( num_encoder_tokens, input_embedding_size, name = \"encoder_emb_layer\" )\n",
        "        encoder_character_embeddings = encoder_character_embedding_layer(encoder_inputs)\n",
        "            \n",
        "        # Defining first encoder layer\n",
        "        encoder = keras.layers.LSTM(latent_dim, return_state=True, return_sequences=True, dropout = dropout, name = \"encoder_layer_1\")\n",
        "        encoder_outputs, state_h, state_c = encoder(encoder_character_embeddings)\n",
        "\n",
        "        # stacking more encoder layers\n",
        "        for i in range(encoder_layer-1):\n",
        "            encoder = keras.layers.LSTM(latent_dim, return_state=True, return_sequences=True, dropout = dropout, name = \"encoder_layer_\"+str(i+2))\n",
        "            encoder_outputs, state_h, state_c = encoder(encoder_outputs)\n",
        "\n",
        "        # We discard 'encoder_outputs' and only keep the states.\n",
        "        encoder_states = [state_h, state_c]\n",
        "\n",
        "        # intializing decoder\n",
        "        # Defining decoder chracter embedding layer\n",
        "        decoder_inputs = keras.Input(shape=(None,), name = \"decoder_input_layer\")\n",
        "        decoder_character_embedding_layer = tf.keras.layers.Embedding( num_decoder_tokens, input_embedding_size, name = \"decoder_emb_layer\")\n",
        "        decoder_character_embeddings = decoder_character_embedding_layer(decoder_inputs)\n",
        "        \n",
        "        # Set up the decoder, using 'encoder_states' as initial state.\n",
        "        # intilaizing first decoder layer\n",
        "        decoder_lstm = keras.layers.LSTM(latent_dim, return_sequences=True, return_state=True, dropout = dropout, name = \"decoder_layer_1\")\n",
        "        decoder_outputs, _, _ = decoder_lstm(decoder_character_embeddings, initial_state = encoder_states)\n",
        "        \n",
        "        # stacking more decoder layers\n",
        "        for i in range(decoder_layer-1):\n",
        "            decoder_lstm = keras.layers.LSTM(latent_dim, return_sequences=True, return_state=True, dropout = dropout, name = \"decoder_layer_\"+str(i+2))\n",
        "            decoder_outputs, _, _ = decoder_lstm(decoder_outputs, initial_state = encoder_states)\n",
        "        \n",
        "        # output layer\n",
        "        decoder_dense = keras.layers.Dense(num_decoder_tokens, activation=\"softmax\", name = \"decoder_output_layer\")\n",
        "        decoder_outputs = decoder_dense(decoder_outputs)\n",
        "\n",
        "        # Define the model that will turn\n",
        "        # `encoder_input_data` & `decoder_input_data` into `decoder_target_data`\n",
        "        model = keras.Model([encoder_inputs, decoder_inputs], decoder_outputs)\n",
        "    \n",
        "    elif cell_type == \"GRU\":\n",
        "        \n",
        "        # intializing encoder \n",
        "        # Defining input character embedding layer\n",
        "        encoder_inputs = keras.Input(shape=(None,), name = \"encoder_input_layer\")\n",
        "        encoder_character_embedding_layer = tf.keras.layers.Embedding( num_encoder_tokens, input_embedding_size , name = \"encoder_emb_layer\")\n",
        "        encoder_character_embeddings = encoder_character_embedding_layer(encoder_inputs)\n",
        "            \n",
        "        # Defining first encoder layer\n",
        "        encoder = keras.layers.GRU(latent_dim, return_state=True, return_sequences=True, dropout = dropout, name = \"encoder_layer_1\" )\n",
        "        encoder_outputs, state_c = encoder(encoder_character_embeddings)\n",
        "\n",
        "        # stacking more encoder layers\n",
        "        for i in range(encoder_layer-1):\n",
        "            encoder = keras.layers.GRU(latent_dim, return_state=True, return_sequences=True, dropout = dropout, name = \"encoder_layer_\"+str(i+2) )\n",
        "            encoder_outputs, state_c = encoder(encoder_outputs)\n",
        "\n",
        "        # We discard 'encoder_outputs' and only keep the states.\n",
        "        encoder_states = [state_c]\n",
        "\n",
        "        # intializing decoder\n",
        "        # Defining decoder chracter embedding layer\n",
        "        decoder_inputs = keras.Input(shape=(None,), name = \"decoder_input_layer\")\n",
        "        decoder_character_embedding_layer = tf.keras.layers.Embedding( num_decoder_tokens, input_embedding_size, name = \"decoder_emb_layer\")\n",
        "        decoder_character_embeddings = decoder_character_embedding_layer(decoder_inputs)\n",
        "        \n",
        "        # Set up the decoder, using 'encoder_states' as initial state.\n",
        "        # intilaizing first decoder layer\n",
        "        decoder_gru = keras.layers.GRU(latent_dim, return_sequences=True, return_state=True, dropout = dropout, name = \"decoder_layer_1\")\n",
        "        decoder_outputs, _ = decoder_gru(decoder_character_embeddings, initial_state = encoder_states)\n",
        "        \n",
        "        # stacking more decoder layers\n",
        "        for i in range(decoder_layer-1):\n",
        "            decoder_gru = keras.layers.GRU(latent_dim, return_sequences=True, return_state=True, dropout = dropout, name = \"decoder_layer_\"+str(i+2))\n",
        "            decoder_outputs, _ = decoder_gru(decoder_outputs, initial_state = encoder_states)\n",
        "        \n",
        "        # output layer\n",
        "        decoder_dense = keras.layers.Dense(num_decoder_tokens, activation=\"softmax\", name = \"decoder_output_layer\")\n",
        "        decoder_outputs = decoder_dense(decoder_outputs)\n",
        "\n",
        "        # Define the model that will turn\n",
        "        # `encoder_input_data` & `decoder_input_data` into `decoder_target_data`\n",
        "        model = keras.Model([encoder_inputs, decoder_inputs], decoder_outputs)\n",
        "    \n",
        "    elif cell_type == \"RNN\":\n",
        "        \n",
        "        # intializing encoder \n",
        "        # Defining input character embedding layer\n",
        "        encoder_inputs = keras.Input(shape=(max_encoder_seq_length,), name = \"encoder_input_layer\")\n",
        "        encoder_character_embedding_layer = tf.keras.layers.Embedding( num_encoder_tokens, input_embedding_size, input_length = max_encoder_seq_length , name = \"encoder_emb_layer\")\n",
        "        encoder_character_embeddings = encoder_character_embedding_layer(encoder_inputs)\n",
        "            \n",
        "        # Defining first encoder layer\n",
        "        encoder = keras.layers.SimpleRNN(latent_dim, return_state=True, return_sequences=True, dropout = dropout, unroll = True, name = \"encoder_layer_1\")\n",
        "        encoder_outputs, state_c = encoder(encoder_character_embeddings)\n",
        "\n",
        "        # stacking more encoder layers\n",
        "        for i in range(encoder_layer-1):\n",
        "            encoder = keras.layers.SimpleRNN(latent_dim, return_state=True, return_sequences=True, dropout = dropout, unroll = True, name = \"encoder_layer_\"+str(i+2))\n",
        "            encoder_outputs, state_c = encoder(encoder_outputs)\n",
        "\n",
        "        # We discard 'encoder_outputs' and only keep the states.\n",
        "        encoder_states = [state_c]\n",
        "\n",
        "        # intializing decoder\n",
        "        # Defining decoder chracter embedding layer\n",
        "        decoder_inputs = keras.Input(shape=(max_decoder_seq_length,), name = \"decoder_input_layer\")\n",
        "        decoder_character_embedding_layer = tf.keras.layers.Embedding( num_decoder_tokens, input_embedding_size, input_length = max_decoder_seq_length , name = \"decoder_emb_layer\")\n",
        "        decoder_character_embeddings = decoder_character_embedding_layer(decoder_inputs)\n",
        "        \n",
        "        # Set up the decoder, using 'encoder_states' as initial state.\n",
        "        # intilaizing first decoder layer\n",
        "        decoder_simplernn = keras.layers.SimpleRNN(latent_dim, return_sequences=True, return_state=True, dropout = dropout, unroll = True, name = \"decoder_layer_1\")\n",
        "        decoder_outputs, _ = decoder_simplernn(decoder_character_embeddings, initial_state = encoder_states)\n",
        "        \n",
        "        # stacking more decoder layers\n",
        "        for i in range(decoder_layer-1):\n",
        "            decoder_simplernn = keras.layers.SimpleRNN(latent_dim, return_sequences=True, return_state=True, dropout = dropout, unroll = True, name = \"decoder_layer_\"+str(i+2))\n",
        "            decoder_outputs, _ = decoder_simplernn(decoder_outputs, initial_state = encoder_states)\n",
        "        \n",
        "        # output layer lstm\n",
        "        decoder_dense = keras.layers.Dense(num_decoder_tokens, activation=\"softmax\", name = \"decoder_output_layer\")\n",
        "        decoder_outputs = decoder_dense(decoder_outputs)\n",
        "\n",
        "        # Define the model that will turn `encoder_input_data` & `decoder_input_data` into `decoder_target_data`\n",
        "        model = keras.Model([encoder_inputs, decoder_inputs], decoder_outputs)\n",
        "        \n",
        "        \n",
        "    return model"
      ],
      "execution_count": null,
      "outputs": []
    },
    {
      "cell_type": "markdown",
      "metadata": {
        "id": "alKOtn52EsQn"
      },
      "source": [
        "# Question 2\n",
        "### Train model with sweep config"
      ]
    },
    {
      "cell_type": "code",
      "metadata": {
        "id": "2vwZBJyQe2CI"
      },
      "source": [
        "!wandb login"
      ],
      "execution_count": null,
      "outputs": []
    },
    {
      "cell_type": "code",
      "metadata": {
        "id": "e1YEolXAFJen"
      },
      "source": [
        "batch_size = 64  \n",
        "epochs = 25"
      ],
      "execution_count": null,
      "outputs": []
    },
    {
      "cell_type": "code",
      "metadata": {
        "id": "21gJCSDYFlBo"
      },
      "source": [
        "# building common character dictionary for train and val data\n",
        "num_encoder_tokens, num_decoder_tokens, input_token_index, target_token_index, max_encoder_seq_length, max_decoder_seq_length = build_character_vocab()\n",
        "\n",
        "# data preprocessing, creating encoder data and decoder data from text\n",
        "train_encoder_input_data, train_decoder_input_data, train_decoder_target_data = data_preprocessing(train_data_path, num_encoder_tokens, num_decoder_tokens, input_token_index, target_token_index, max_encoder_seq_length, max_decoder_seq_length)\n",
        "val_encoder_input_data, val_decoder_input_data, val_decoder_target_data = data_preprocessing(val_data_path, num_encoder_tokens, num_decoder_tokens, input_token_index, target_token_index, max_encoder_seq_length, max_decoder_seq_length)\n"
      ],
      "execution_count": null,
      "outputs": []
    },
    {
      "cell_type": "code",
      "metadata": {
        "id": "DPPjrG1VAmsW"
      },
      "source": [
        "# sweep config\n",
        "sweep_config = {\n",
        "    'method' : 'bayes',\n",
        "    'metric' : {\n",
        "        'name' : 'val_acc',\n",
        "        'goal' : 'maximize'\n",
        "    },\n",
        "    'parameters' : {\n",
        "        'input_embedding_size' : {\n",
        "            'values' : [16, 32, 64, 128, 256]\n",
        "        },\n",
        "        'encoder_layer' : {\n",
        "            'values' : [1, 2, 3]\n",
        "        },\n",
        "        'decoder_layer' : {\n",
        "            'values' : [1, 2, 3]\n",
        "        },\n",
        "        'latent_dim' : {\n",
        "            'values' : [16, 32, 64, 128, 256, 512]\n",
        "        },\n",
        "        'cell_type' : {\n",
        "            'values' : ['RNN', 'GRU', 'LSTM']\n",
        "        },\n",
        "        'dropout' : {\n",
        "            'values' : [0.2, 0.3, 0.5, 0.7]\n",
        "        }\n",
        "    }\n",
        "}"
      ],
      "execution_count": null,
      "outputs": []
    },
    {
      "cell_type": "code",
      "metadata": {
        "id": "r6Ihd5WTA0Xn"
      },
      "source": [
        "def train():\n",
        "    config_defaults = {\n",
        "        'input_embedding_size' : 32,\n",
        "        'encoder_layer': 1,\n",
        "        'decoder_layer' : 1,\n",
        "        'latent_dim' : 256,\n",
        "        'cell_type' : 'LSTM',\n",
        "        'dropout' : 0.2,\n",
        "    }\n",
        "\n",
        "    # wandb intialization\n",
        "    wandb.init(config = config_defaults, project = \"DL_assignment_3\" )\n",
        "    config = wandb.config\n",
        "    \n",
        "    # setting run name\n",
        "    exp_name = \"emb_size\" + str(config.input_embedding_size) + \"_lt_dim_\"+ str(config.latent_dim) +  \"_cell_\" + str(config.cell_type) + \"_enc_la_\" + str(config.encoder_layer) + \"_dec_la_\" + str(config.decoder_layer) + \"_drp_\" + str(config.dropout)\n",
        "    wandb.run.name = exp_name\n",
        "    \n",
        "    # building model\n",
        "    model = build_model(\n",
        "        num_encoder_tokens, num_decoder_tokens, config.input_embedding_size, config.latent_dim, config.dropout, \n",
        "        config.encoder_layer, config.decoder_layer, config.cell_type, max_encoder_seq_length, max_decoder_seq_length\n",
        "    )\n",
        "\n",
        "    # compiling model\n",
        "    model.compile(\n",
        "        optimizer=\"Adam\", loss=\"categorical_crossentropy\", metrics=[\"accuracy\"]\n",
        "    )\n",
        "    callbacks = [\n",
        "        EarlyStopping(monitor = 'val_loss', patience = 5, verbose=1),\n",
        "        WandbCallback()\n",
        "    ]\n",
        "\n",
        "    model.fit(\n",
        "        [train_encoder_input_data, train_decoder_input_data],train_decoder_target_data,\n",
        "        batch_size = batch_size,\n",
        "        epochs = epochs,\n",
        "        callbacks = callbacks,\n",
        "        validation_data = ([val_encoder_input_data, val_decoder_input_data], val_decoder_target_data),\n",
        "        verbose = 1\n",
        "    )\n",
        "    \n",
        "    # intializing inference model\n",
        "    encoder_inference_model = build_encoder_inference_model(model, config.encoder_layer, config.cell_type)\n",
        "    decoder_inference_model = build_decoder_inference_model(model, config.decoder_layer, config.cell_type, config.latent_dim)\n",
        "    \n",
        "    # calculating validation accuracy\n",
        "    val_acc = cal_acc(encoder_inference_model, decoder_inference_model, val_encoder_input_data, val_decoder_input_data, config.decoder_layer)\n",
        "    \n",
        "    wandb.log({'val_acc':val_acc})\n"
      ],
      "execution_count": null,
      "outputs": []
    },
    {
      "cell_type": "code",
      "metadata": {
        "id": "fPSSNW2eAmiI"
      },
      "source": [
        "sweep_id = wandb.sweep(sweep_config,  entity = \"cs20s002\", project = \"DL_assignment_3\")\n",
        "wandb.agent('pfjck0e8', train, count = 101)"
      ],
      "execution_count": null,
      "outputs": []
    },
    {
      "cell_type": "markdown",
      "metadata": {
        "id": "rZAowXeaEzqf"
      },
      "source": [
        "# Question 4 \n",
        "### Retraining model with best hyperparamters and defining inference model "
      ]
    },
    {
      "cell_type": "markdown",
      "metadata": {
        "id": "9Kt16LGSgnMF"
      },
      "source": [
        "## Retraining model with best hyperparamters"
      ]
    },
    {
      "cell_type": "code",
      "metadata": {
        "id": "Y-nmRd82P2_0"
      },
      "source": [
        "batch_size = 64  \n",
        "epochs = 20\n",
        "\n",
        "# building common character dictionary for train and val data\n",
        "num_encoder_tokens, num_decoder_tokens, input_token_index, target_token_index, max_encoder_seq_length, max_decoder_seq_length = build_character_vocab()\n",
        "\n",
        "# data preprocessing, creating encoder data and decoder data from text\n",
        "train_encoder_input_data, train_decoder_input_data, train_decoder_target_data = data_preprocessing(train_data_path, num_encoder_tokens, num_decoder_tokens, input_token_index, target_token_index, max_encoder_seq_length, max_decoder_seq_length)\n",
        "val_encoder_input_data, val_decoder_input_data, val_decoder_target_data = data_preprocessing(val_data_path, num_encoder_tokens, num_decoder_tokens, input_token_index, target_token_index, max_encoder_seq_length, max_decoder_seq_length)\n"
      ],
      "execution_count": null,
      "outputs": []
    },
    {
      "cell_type": "code",
      "metadata": {
        "colab": {
          "base_uri": "https://localhost:8080/",
          "height": 865
        },
        "id": "7p7n2IMxQtJe",
        "outputId": "ff9fdd41-e076-4624-87fd-98d7d253e4df"
      },
      "source": [
        "input_embedding_size = 256\n",
        "encoder_layer= 3\n",
        "decoder_layer = 2\n",
        "latent_dim = 512\n",
        "cell_type = \"LSTM\"\n",
        "dropout = 0.5\n",
        "\n",
        "# building model\n",
        "model = build_model( num_encoder_tokens, num_decoder_tokens, input_embedding_size, latent_dim, dropout, encoder_layer, decoder_layer, cell_type, max_encoder_seq_length, max_decoder_seq_length)\n",
        "\n",
        "# compiling model\n",
        "model.compile(\n",
        "    optimizer=\"Adam\", loss=\"categorical_crossentropy\", metrics=[\"accuracy\"]\n",
        ")\n",
        "callbacks = [\n",
        "    EarlyStopping(monitor = 'val_loss', patience = 3, verbose=1)\n",
        "]\n",
        "\n",
        "plot_model(model, to_file='model.png', show_shapes=True)\n",
        "\n",
        "    "
      ],
      "execution_count": null,
      "outputs": [
        {
          "output_type": "execute_result",
          "data": {
            "image/png": "[encoded data removed]",
            "text/plain": [
              "<IPython.core.display.Image object>"
            ]
          },
          "metadata": {
            "tags": []
          },
          "execution_count": 12
        }
      ]
    },
    {
      "cell_type": "code",
      "metadata": {
        "id": "_1BCSMgNVvul"
      },
      "source": [
        "model.fit(\n",
        "    [train_encoder_input_data, train_decoder_input_data],train_decoder_target_data,\n",
        "    batch_size = batch_size,\n",
        "    epochs = epochs,\n",
        "    callbacks = callbacks,\n",
        "    validation_data = ([val_encoder_input_data, val_decoder_input_data],val_decoder_target_data),\n",
        "    verbose = 1\n",
        ")"
      ],
      "execution_count": null,
      "outputs": []
    },
    {
      "cell_type": "markdown",
      "metadata": {
        "id": "CxhsmvS7gshB"
      },
      "source": [
        "## Defining inference model "
      ]
    },
    {
      "cell_type": "markdown",
      "metadata": {
        "id": "BCQYVAprxgHz"
      },
      "source": [
        "### Encoder inference model"
      ]
    },
    {
      "cell_type": "code",
      "metadata": {
        "colab": {
          "base_uri": "https://localhost:8080/",
          "height": 533
        },
        "id": "84-N4FsoUVI0",
        "outputId": "7cc68d01-e322-45ef-9d5a-156454f964ce"
      },
      "source": [
        "encoder_inference_model = build_encoder_inference_model(model, encoder_layer, cell_type)\n",
        "\n",
        "plot_model(encoder_inference_model, to_file='encoder_inference_model.png', show_shapes=True)"
      ],
      "execution_count": null,
      "outputs": [
        {
          "output_type": "execute_result",
          "data": {
            "image/png": "[encoded data removed]",
            "text/plain": [
              "<IPython.core.display.Image object>"
            ]
          },
          "metadata": {
            "tags": []
          },
          "execution_count": 14
        }
      ]
    },
    {
      "cell_type": "markdown",
      "metadata": {
        "id": "oZDyYfG7xmKk"
      },
      "source": [
        "### Decoder inference model"
      ]
    },
    {
      "cell_type": "code",
      "metadata": {
        "colab": {
          "base_uri": "https://localhost:8080/",
          "height": 356
        },
        "id": "31geaPYKg1WO",
        "outputId": "35322e4b-847e-4c48-fdff-5dca142ec118"
      },
      "source": [
        "decoder_inference_model = build_decoder_inference_model(model, decoder_layer, cell_type, latent_dim)\n",
        "\n",
        "plot_model(decoder_inference_model, to_file='decoder_inference_model.png', show_shapes=True)"
      ],
      "execution_count": null,
      "outputs": [
        {
          "output_type": "execute_result",
          "data": {
            "image/png": "[encoded data removed]",
            "text/plain": [
              "<IPython.core.display.Image object>"
            ]
          },
          "metadata": {
            "tags": []
          },
          "execution_count": 15
        }
      ]
    },
    {
      "cell_type": "markdown",
      "metadata": {
        "id": "Z0ADNF6oqDDE"
      },
      "source": [
        "### Word wise validation accuracy"
      ]
    },
    {
      "cell_type": "code",
      "metadata": {
        "id": "M316B-O2qBc3"
      },
      "source": [
        "val_acc = cal_acc(encoder_inference_model, decoder_inference_model, val_encoder_input_data, val_decoder_input_data, decoder_layer)\n",
        "print('Word level validation accuracy : ', val_acc)"
      ],
      "execution_count": null,
      "outputs": []
    },
    {
      "cell_type": "markdown",
      "metadata": {
        "id": "0VGtTn_xiWVW"
      },
      "source": [
        "### Test data"
      ]
    },
    {
      "cell_type": "code",
      "metadata": {
        "id": "qBjZ15qkkUDy"
      },
      "source": [
        "# data preprocessing, creating encoder data and decoder data from text\n",
        "test_encoder_input_data, test_decoder_input_data, test_decoder_target_data = data_preprocessing(test_data_path, num_encoder_tokens, num_decoder_tokens, input_token_index, target_token_index, max_encoder_seq_length, max_decoder_seq_length)\n",
        "\n",
        "# Reverse-lookup token index to decode sequences back to something readable.\n",
        "reverse_input_char_index = dict((i, char) for char, i in input_token_index.items())\n",
        "reverse_target_char_index = dict((i, char) for char, i in target_token_index.items())"
      ],
      "execution_count": null,
      "outputs": []
    },
    {
      "cell_type": "markdown",
      "metadata": {
        "id": "EH_RYj6eheh9"
      },
      "source": [
        "### Question 4(a) (Measuring test accuracy with best model)"
      ]
    },
    {
      "cell_type": "code",
      "metadata": {
        "id": "KrFTHHbKtD6w"
      },
      "source": [
        "test_acc = cal_acc(encoder_inference_model, decoder_inference_model, test_encoder_input_data, test_decoder_input_data, decoder_layer)\n",
        "print('test_acc : ', test_acc)"
      ],
      "execution_count": null,
      "outputs": []
    },
    {
      "cell_type": "markdown",
      "metadata": {
        "id": "PjBRCw8ihuCS"
      },
      "source": [
        "### Question 4(b) (Creating csv file for all predictions)"
      ]
    },
    {
      "cell_type": "code",
      "metadata": {
        "id": "5xmfCLh1RNiJ"
      },
      "source": [
        "def decode_sequence(input_seq):\n",
        "    # Encode the input as state vectors.\n",
        "    states_value = encoder_inference_model.predict(input_seq)\n",
        "    \n",
        "    states_value_input_list = []\n",
        "    for i in range(decoder_layer):\n",
        "        states_value_input_list.append(states_value[0])\n",
        "        states_value_input_list.append(states_value[1])\n",
        "   \n",
        "    # Generate empty target sequence of length 1.\n",
        "    target_seq = np.zeros((1, 1), dtype=\"int32\")\n",
        "    \n",
        "    # Populate the first character of target sequence with the start character.\n",
        "    target_seq[0, 0] = target_token_index[\"\\t\"]\n",
        "\n",
        "    # Sampling loop for a batch of sequences\n",
        "    # (to simplify, here we assume a batch of size 1).\n",
        "    stop_condition = False\n",
        "    decoded_sentence = \"\"\n",
        "\n",
        "    while not stop_condition:\n",
        "        output_tokens, states_value_output_list = decoder_inference_model.predict( [target_seq] + states_value_input_list)\n",
        "        \n",
        "        # Sample a token\n",
        "        sampled_token_index = np.argmax(output_tokens[0, -1, :])\n",
        "        sampled_char = reverse_target_char_index[sampled_token_index]\n",
        "\n",
        "        # Exit condition: either hit max length or find stop character.\n",
        "        if sampled_char == \"\\n\" or len(decoded_sentence) > max_decoder_seq_length:\n",
        "            stop_condition = True\n",
        "            break\n",
        "        \n",
        "        decoded_sentence += sampled_char\n",
        "\n",
        "        # Update the target sequence (of length 1).\n",
        "        target_seq = np.zeros((1, 1), dtype=\"int32\")\n",
        "        target_seq[0, 0] = sampled_token_index\n",
        "\n",
        "        # Update states\n",
        "        states_value_input_list = states_value_output_list\n",
        "    return decoded_sentence"
      ],
      "execution_count": null,
      "outputs": []
    },
    {
      "cell_type": "code",
      "metadata": {
        "id": "H-z7AKiAtzdY"
      },
      "source": [
        "# Generate 10 random numbers between 0 and test sample size\n",
        "randomlist = random.sample(range( 0, len(test_encoder_input_data)-1 ), 64)\n",
        "sample_test_input_data = test_encoder_input_data[randomlist]\n",
        "sample_test_output_data = test_decoder_input_data[randomlist][:,1:]\n",
        "\n",
        "results = []\n",
        "match_list = []\n",
        "for i in range(len(sample_test_input_data)):\n",
        "    \n",
        "    match = 0\n",
        "\n",
        "    input_seq = sample_test_input_data[i].reshape(1,-1)\n",
        "    prediction = decode_sequence(input_seq)\n",
        "\n",
        "    output_text = \"\"\n",
        "    for j in sample_test_output_data[i]:\n",
        "        char = reverse_target_char_index[j]\n",
        "        output_text += char\n",
        "\n",
        "    if output_text == prediction[:-2]:\n",
        "        match = 1\n",
        "\n",
        "    input_text = \"\"\n",
        "    for j in sample_test_input_data[i]:\n",
        "        char = reverse_input_char_index[j]\n",
        "        if not (char==\"\\n\" or char==\"\\t\" or char==\" \"):\n",
        "            input_text += char\n",
        "    \n",
        "    for s in range(len(prediction)):\n",
        "        char = prediction[s]\n",
        "        if char==\"\\n\" or char==\"\\t\" or char==\" \":\n",
        "            break\n",
        "    \n",
        "    prediction = prediction[:s]\n",
        "\n",
        "\n",
        "    \n",
        "    match_list.append(match)\n",
        "    results.append( input_text + \"\\n\" + prediction )\n",
        "\n",
        "\n",
        "data = np.array(match_list).reshape(8,8)\n",
        "labels = np.array(results).reshape(8,8)\n",
        "\n",
        "fig, ax = plt.subplots(figsize=(16, 16))\n",
        "\n",
        "fontdict = {'fontsize': 20}\n",
        "# point to the font location with an absolute path\n",
        "\n",
        "nim = '/content/Nirmala.ttf'\n",
        "# configure the Hindi font\n",
        "\n",
        "hindi_font = FontProperties(fname = nim, size = 16)\n",
        "ax = sns.heatmap(data, annot = labels, fmt = '', cmap='Blues', annot_kws = { 'fontproperties' : hindi_font}, vmin=0, vmax=1)\n",
        "ax.set_title(\"Predictions with input strings block colored blue if matched with expected output and white otherwise\", fontsize = 20)\n",
        "\n"
      ],
      "execution_count": null,
      "outputs": []
    },
    {
      "cell_type": "code",
      "metadata": {
        "id": "CgbtnyP7BXfp"
      },
      "source": [
        "# # Wandb config \n",
        "\n",
        "# # Intialize a new run\n",
        "# wandb.init(project=\"DL_assignment_3\", name=\"Question_4b_prediction\")\n",
        "\n",
        "# # Log the image\n",
        "# wandb.log({\"Question_4b_prediction\": [ wandb.Image( fig, caption = \"Predictions with input strings block colored blue if matched with expected output and white otherwise \"  )   ]})\n",
        "# # wandb.log({\"Confusion_matrix\": plt})\n",
        "\n",
        "# wandb.finish()"
      ],
      "execution_count": null,
      "outputs": []
    },
    {
      "cell_type": "code",
      "metadata": {
        "id": "487MjydJNzKi"
      },
      "source": [
        "# saving all predictions in text file in format: number   input_text    expected_output_text   predicted_output_text   match(y/n)\n",
        "\n",
        "title = ['number','input_text','expected_output_text','predicted_output_text','match(1/0)']\n",
        "rows = []\n",
        "\n",
        "\n",
        "for (i, enc_seq, dec_seq) in zip(range(len(test_encoder_input_data)), test_encoder_input_data,test_decoder_input_data):\n",
        "\n",
        "    match = 0\n",
        "    \n",
        "    encoder_input_text = \"\"\n",
        "    for char_index in enc_seq:\n",
        "        char = reverse_input_char_index[char_index]\n",
        "        if not (char==\"\\n\" or char==\"\\t\" or char==\" \"):\n",
        "            encoder_input_text +=  char\n",
        "            \n",
        "    input_encoder_seq = enc_seq.reshape(1,-1)\n",
        "    \n",
        "    prediction = decode_sequence(input_encoder_seq)\n",
        "    \n",
        "    dec_input_text = \"\"\n",
        "    for char_index in dec_seq:\n",
        "        char = reverse_target_char_index[char_index]\n",
        "        if not (char==\"\\n\" or char==\"\\t\" or char==\" \"):\n",
        "            dec_input_text +=  char\n",
        "    \n",
        "    for s in range(len(prediction)):\n",
        "        char = prediction[s]\n",
        "        if char==\"\\n\" or char==\"\\t\" or char==\" \":\n",
        "            break\n",
        "    prediction = prediction[:s]\n",
        "\n",
        "    if dec_input_text == prediction:\n",
        "        match = 1\n",
        "\n",
        "    rows.append( [ str(i+1), encoder_input_text, dec_input_text, prediction, str(match) ] )\n",
        "    print(str(i+1) + \"   \" + encoder_input_text + \"   \" + dec_input_text + \"   \" + prediction + \"   \" + str(match))\n",
        "\n",
        "import csv\n",
        "# name of csv file \n",
        "filename = \"prediction_file.csv\"\n",
        "    \n",
        "# writing to csv file \n",
        "with open(filename, 'w') as csvfile: \n",
        "    # creating a csv writer object \n",
        "    csvwriter = csv.writer(csvfile) \n",
        "        \n",
        "    # writing the fields \n",
        "    csvwriter.writerow(title) \n",
        "        \n",
        "    # writing the data rows \n",
        "    csvwriter.writerows(rows)"
      ],
      "execution_count": null,
      "outputs": []
    },
    {
      "cell_type": "markdown",
      "metadata": {
        "id": "nrI0mDjrLBot"
      },
      "source": [
        "### Beam search"
      ]
    },
    {
      "cell_type": "code",
      "metadata": {
        "id": "nJQrqAwQLBQP"
      },
      "source": [
        "# beam search with one example\n",
        "from math import log\n",
        "from numpy import array\n",
        "from numpy import argmax\n",
        "\n",
        "def beam_search(encoder_inference_model, decoder_inference_model, encoder_input_data, decoder_input_data, decoder_layer, k):\n",
        "    match_count = 0\n",
        "    for example in range(len(encoder_input_data)):\n",
        "\n",
        "        string = \"\"\n",
        "        for i in encoder_input_data[example]:\n",
        "            string+= reverse_input_char_index[i]\n",
        "        print(string)\n",
        "\n",
        "        # Encode the input as state vectors.\n",
        "        states_value = encoder_inference_model.predict(encoder_input_data[example].reshape(1,-1))\n",
        "\n",
        "\n",
        "        # creating list for intial input states for multiple layers\n",
        "        if type(states_value) != list:\n",
        "            states_value = [states_value]\n",
        "        states_value_input_list = states_value * decoder_layer\n",
        "\n",
        "        # intializing sequences\n",
        "        sequences = [ [ [target_token_index['\\t']], 0.0,  states_value_input_list] ]\n",
        "\n",
        "        for _ in range(max_decoder_seq_length):\n",
        "            all_candidates = list()\n",
        "            \n",
        "            # expand each current candidate\n",
        "            for i in range(len(sequences)):\n",
        "                seq, score, state_input_list = sequences[i]\n",
        "\n",
        "                # extarcting the last predicted character from sequence of string\n",
        "                input_seq = np.expand_dims(seq[-1], axis = 0)\n",
        "                \n",
        "                output_tokens, states_value_output_list = decoder_inference_model.predict( [input_seq] + state_input_list )\n",
        "                \n",
        "                # sorting vocab predictions\n",
        "                top_k_elements = output_tokens.argsort(axis = 2)[:,:,-k:][:,:,::-1]\n",
        "                \n",
        "                # storing top k most probable seq in all_candidates per each seq in sequences list\n",
        "                for j in range(k):\n",
        "                    candidate = [seq + [ np.squeeze(top_k_elements)[j] ], score - log( output_tokens[ 0, 0, np.squeeze(top_k_elements)[j] ] ), states_value_output_list ]\n",
        "                    all_candidates.append(candidate)\n",
        "\n",
        "            # order all candidates by score\n",
        "            ordered = sorted(all_candidates, key=lambda tup:tup[1])\n",
        "            \n",
        "            # select k best seq and storing in sequences for next iteration\n",
        "            sequences = ordered[:k]\n",
        "        \n",
        "        # measuring validation accuracy if any one of k predicted seq match to original seq\n",
        "        match = 0\n",
        "        # for seq in sequences:\n",
        "            \n",
        "        if np.all(np.equal(sequences[0][0][:-1], decoder_input_data[example])):\n",
        "            match = 1\n",
        "\n",
        "        string = \"\"\n",
        "        for i in sequences[0][0][1:]:\n",
        "            string += reverse_target_char_index[i]\n",
        "        print(string)\n",
        "        \n",
        "        if match == 1:\n",
        "            match_count += 1\n",
        "    \n",
        "    return match_count/len(encoder_input_data)\n"
      ],
      "execution_count": null,
      "outputs": []
    },
    {
      "cell_type": "markdown",
      "metadata": {
        "id": "MIspGoqaLd1H"
      },
      "source": [
        "#### Measuring test accuracy with Beam search with different beam width"
      ]
    },
    {
      "cell_type": "code",
      "metadata": {
        "id": "_U8odFvCLfbn"
      },
      "source": [
        "beam_width_list = [3]\n",
        "# wandb.init(project=\"DL_assignment_3\", name=\"beam_search\")\n",
        "for k in beam_width_list:\n",
        "    test_acc_beam_search = beam_search(encoder_inference_model, decoder_inference_model, val_encoder_input_data, val_decoder_input_data, decoder_layer, k)\n",
        "    print(\"test accuracy with beam search with beam width : {} is {}.\".format(k,test_acc_beam_search))\n",
        "    # wandb.log({'test_acc_with_beam_width_'+str(k) : test_acc_beam_search})\n",
        "# wandb.finish()"
      ],
      "execution_count": null,
      "outputs": []
    },
    {
      "cell_type": "markdown",
      "metadata": {
        "id": "epI-eOJjH3vF"
      },
      "source": [
        "# Common cell for Question [5, 6]\n",
        "#### Building Attention model, defining function for caculating accuracy for attention model, loss funciton, optimizer"
      ]
    },
    {
      "cell_type": "markdown",
      "metadata": {
        "id": "WvvZ8f3RiqRn"
      },
      "source": [
        "## Attention model "
      ]
    },
    {
      "cell_type": "code",
      "metadata": {
        "id": "QnMYjAoBMkCb"
      },
      "source": [
        "# building Attention model\n",
        "class Encoder(tf.keras.Model):\n",
        "    def __init__(self, vocab_size, embedding_dim, enc_units, batch_sz, dropout, cell_type, encoder_layers):\n",
        "        super(Encoder, self).__init__()\n",
        "        self.batch_sz = batch_sz\n",
        "        self.enc_units = enc_units\n",
        "        self.embedding = tf.keras.layers.Embedding(vocab_size, embedding_dim)\n",
        "        self.encoder_layers = encoder_layers\n",
        "        self.encoder_layer_list = []\n",
        "        \n",
        "        for i in range(self.encoder_layers):\n",
        "            if cell_type == \"GRU\":\n",
        "                layer_cell = tf.keras.layers.GRU(self.enc_units,\n",
        "                                        return_sequences=True,\n",
        "                                        return_state=True,\n",
        "                                        recurrent_initializer='glorot_uniform', \n",
        "                                        dropout = dropout)\n",
        "\n",
        "            elif cell_type == \"LSTM\":\n",
        "                layer_cell = tf.keras.layers.LSTM(self.enc_units,\n",
        "                                        return_sequences=True,\n",
        "                                        return_state=True,\n",
        "                                        recurrent_initializer='glorot_uniform', \n",
        "                                        dropout = dropout)\n",
        "            \n",
        "            self.encoder_layer_list.append(layer_cell)\n",
        "\n",
        "    def call(self, x, cell_type):\n",
        "        x = self.embedding(x)\n",
        "    \n",
        "        for encoder_layer in self.encoder_layer_list:\n",
        "            if cell_type == \"GRU\":\n",
        "                x, state = encoder_layer(x)\n",
        "                enc_state_list = [state]\n",
        "\n",
        "            elif cell_type == \"LSTM\":\n",
        "                x, state, state_c = encoder_layer(x)\n",
        "                enc_state_list = [state, state_c]\n",
        "\n",
        "        return x, enc_state_list\n",
        "\n",
        "\n",
        "class BahdanauAttention(tf.keras.layers.Layer):\n",
        "    def __init__(self, units):\n",
        "        super(BahdanauAttention, self).__init__()\n",
        "        self.W1 = tf.keras.layers.Dense(units)\n",
        "        self.W2 = tf.keras.layers.Dense(units)\n",
        "        self.V = tf.keras.layers.Dense(1)\n",
        "\n",
        "    def call(self, query, values):\n",
        "        # query hidden state shape == (batch_size, hidden size)\n",
        "        # query_with_time_axis shape == (batch_size, 1, hidden size)\n",
        "        # values shape == (batch_size, max_len, hidden size)\n",
        "        # we are doing this to broadcast addition along the time axis to calculate the score\n",
        "        query_with_time_axis = tf.expand_dims(query, 1)\n",
        "\n",
        "        # score shape == (batch_size, max_length, 1)\n",
        "        # we get 1 at the last axis because we are applying score to self.V\n",
        "        # the shape of the tensor before applying self.V is (batch_size, max_length, units)\n",
        "        score = self.V( tf.nn.tanh(self.W1(query_with_time_axis) + self.W2(values)) )\n",
        "\n",
        "        # attention_weights shape == (batch_size, max_length, 1)\n",
        "        attention_weights = tf.nn.softmax(score, axis=1)\n",
        "\n",
        "        # context_vector shape after sum == (batch_size, hidden_size)\n",
        "        context_vector = attention_weights * values\n",
        "        context_vector = tf.reduce_sum(context_vector, axis=1)\n",
        "\n",
        "        return context_vector, attention_weights\n",
        "\n",
        "\n",
        "class Decoder(tf.keras.Model):\n",
        "    def __init__(self, vocab_size, embedding_dim, dec_units, batch_sz, dropout, cell_type, decoder_layers):\n",
        "        super(Decoder, self).__init__()\n",
        "        self.batch_sz = batch_sz\n",
        "        self.dec_units = dec_units\n",
        "        self.embedding = tf.keras.layers.Embedding(vocab_size, embedding_dim)\n",
        "        self.decoder_layers = decoder_layers\n",
        "        \n",
        "        self.decoder_layer_list = []\n",
        "        \n",
        "        for i in range(decoder_layers):\n",
        "\n",
        "            if cell_type == \"GRU\":\n",
        "                layer_cell = tf.keras.layers.GRU(self.dec_units,\n",
        "                                            return_sequences=True,\n",
        "                                            return_state=True,\n",
        "                                            recurrent_initializer='glorot_uniform',\n",
        "                                            dropout = dropout)\n",
        "            elif  cell_type == \"LSTM\":\n",
        "                layer_cell = tf.keras.layers.LSTM(self.dec_units,\n",
        "                                            return_sequences=True,\n",
        "                                            return_state=True,\n",
        "                                            recurrent_initializer='glorot_uniform',\n",
        "                                            dropout = dropout)\n",
        "            self.decoder_layer_list.append(layer_cell)\n",
        "\n",
        "        self.fc = tf.keras.layers.Dense(vocab_size)\n",
        "\n",
        "\n",
        "        self.attention_layer_list = []\n",
        "        \n",
        "        for i in range(decoder_layers):\n",
        "            \n",
        "            # used for attention\n",
        "            attention_layer = BahdanauAttention(self.dec_units)\n",
        "            \n",
        "            self.attention_layer_list.append(attention_layer)\n",
        "\n",
        "    def call(self, x, hidden, enc_output, cell_type):\n",
        "        \n",
        "        # x shape after passing through embedding == (batch_size, 1, embedding_dim)\n",
        "        x = self.embedding(x)\n",
        "\n",
        "        dec_out_state_list = []\n",
        "        \n",
        "        attention_weights_list = []\n",
        "\n",
        "        for i in range(self.decoder_layers):\n",
        "\n",
        "            # enc_output shape == (batch_size, max_length, hidden_size)\n",
        "            context_vector, attention_weights = self.attention_layer_list[i]( hidden[i][0], enc_output )\n",
        "\n",
        "            attention_weights_list.append(attention_weights)\n",
        "\n",
        "            # x shape after concatenation == (batch_size, 1, embedding_dim + hidden_size)\n",
        "            x = tf.concat([tf.expand_dims(context_vector, 1), x], axis=-1)\n",
        "\n",
        "\n",
        "            # passing the concatenated vector to the GRU\n",
        "            if cell_type == \"GRU\":\n",
        "                x, state = self.decoder_layer_list[i](x, initial_state = hidden[i] )\n",
        "                dec_out_state_list.append([state,])\n",
        "            \n",
        "            elif cell_type == \"LSTM\":\n",
        "                x, state, state_c = self.decoder_layer_list[i](x, initial_state = hidden[i] )\n",
        "                dec_out_state_list.append([state, state_c])\n",
        "        \n",
        "        # output shape == (batch_size * 1, hidden_size)\n",
        "        output = tf.reshape(x, (-1, x.shape[2]))\n",
        "\n",
        "        # output shape == (batch_size, vocab)\n",
        "        x = self.fc(output)\n",
        "\n",
        "        return x, dec_out_state_list, attention_weights_list\n"
      ],
      "execution_count": null,
      "outputs": []
    },
    {
      "cell_type": "markdown",
      "metadata": {
        "id": "Jsp3YaG5InEf"
      },
      "source": [
        "## Defining loss funciton and optimizer"
      ]
    },
    {
      "cell_type": "code",
      "metadata": {
        "id": "ZWv1vCU8MvW6"
      },
      "source": [
        "optimizer = tf.keras.optimizers.Adam()\n",
        "loss_object = tf.keras.losses.SparseCategoricalCrossentropy(from_logits=True,reduction='none')\n",
        "\n",
        "def loss_function(real, pred):\n",
        "    mask = tf.math.logical_not(tf.math.equal(real, 0))\n",
        "    loss_ = loss_object(real, pred)\n",
        "\n",
        "    mask = tf.cast(mask, dtype=loss_.dtype)\n",
        "    loss_ *= mask\n",
        "\n",
        "    return tf.reduce_mean(loss_)"
      ],
      "execution_count": null,
      "outputs": []
    },
    {
      "cell_type": "markdown",
      "metadata": {
        "id": "TuoZ6hTBJiyl"
      },
      "source": [
        "## Funciton for calculating accuracy for attention model"
      ]
    },
    {
      "cell_type": "code",
      "metadata": {
        "id": "8vPlZzO5M1ep"
      },
      "source": [
        "def cal_acc_attention(encoder, decoder, encoder_input_data, decoder_input_data, latent_dim, cell_type, decoder_layers):\n",
        "    \n",
        "    decoder_output_data =  decoder_input_data[:, 1:]\n",
        "\n",
        "    encoder_input_data = tf.convert_to_tensor(encoder_input_data)\n",
        "\n",
        "    enc_out, enc_hidden = encoder(encoder_input_data, cell_type)\n",
        "    \n",
        "    dec_hidden = [enc_hidden]*decoder_layers\n",
        "    \n",
        "    dec_input = tf.expand_dims(decoder_input_data[:,0], 1)\n",
        "    \n",
        "    # defining prediction array\n",
        "    prediction_array = np.zeros( decoder_output_data.shape , dtype=\"int32\" ) \n",
        "\n",
        "    for t in range(max_decoder_seq_length-1):\n",
        "\n",
        "        predictions, dec_hidden, attention_weights_list = decoder(dec_input, dec_hidden, enc_out, cell_type)\n",
        "\n",
        "        predicted_ids = tf.argmax(predictions, axis = 1)\n",
        "        \n",
        "\n",
        "        prediction_array[:, t] = tf.make_ndarray(tf.make_tensor_proto(predicted_ids) )\n",
        "\n",
        "        # the predicted ID is fed back into the model\n",
        "        dec_input = tf.expand_dims(predicted_ids,1)\n",
        "   \n",
        "    # comparing original outputs with predicitons\n",
        "    accuracy = np.sum(np.all(np.equal(prediction_array, decoder_output_data), axis=1)) / (decoder_output_data.shape[0])\n",
        "    \n",
        "    return accuracy"
      ],
      "execution_count": null,
      "outputs": []
    },
    {
      "cell_type": "markdown",
      "metadata": {
        "id": "Cx-IqTGGGQqh"
      },
      "source": [
        "# Question 5"
      ]
    },
    {
      "cell_type": "markdown",
      "metadata": {
        "id": "jPBC8RJLE3zO"
      },
      "source": [
        "## Loading dataset"
      ]
    },
    {
      "cell_type": "code",
      "metadata": {
        "id": "8nKs_cf4MkLS"
      },
      "source": [
        "batch_size = 64  \n",
        "epochs = 15\n",
        "\n",
        "# building common character dictionary for train and val data\n",
        "num_encoder_tokens, num_decoder_tokens, input_token_index, target_token_index, max_encoder_seq_length, max_decoder_seq_length = build_character_vocab()\n",
        "\n",
        "# defining dict for reverse index to char mapping\n",
        "reverse_input_char_index = dict((i, char) for char, i in input_token_index.items())\n",
        "reverse_target_char_index = dict((i, char) for char, i in target_token_index.items())\n",
        "\n",
        "# data preprocessing, creating encoder data and decoder data from text\n",
        "train_encoder_input_data, train_decoder_input_data, train_decoder_target_data = data_preprocessing(train_data_path, num_encoder_tokens, num_decoder_tokens, input_token_index, target_token_index, max_encoder_seq_length, max_decoder_seq_length)\n",
        "val_encoder_input_data, val_decoder_input_data, val_decoder_target_data = data_preprocessing(val_data_path, num_encoder_tokens, num_decoder_tokens, input_token_index, target_token_index, max_encoder_seq_length, max_decoder_seq_length)\n",
        "\n",
        "BUFFER_SIZE = len(train_encoder_input_data)\n",
        "steps_per_epoch = len(train_encoder_input_data)//batch_size\n",
        "\n",
        "dataset = tf.data.Dataset.from_tensor_slices((train_encoder_input_data, train_decoder_input_data)).shuffle(BUFFER_SIZE)\n",
        "dataset = dataset.batch(batch_size, drop_remainder=True)"
      ],
      "execution_count": null,
      "outputs": []
    },
    {
      "cell_type": "markdown",
      "metadata": {
        "id": "NHoNxAATYmAc"
      },
      "source": [
        "## Question 5 (a)\n",
        "### Training Attention model with sweep config"
      ]
    },
    {
      "cell_type": "code",
      "metadata": {
        "id": "XfoR2JoYTUMs"
      },
      "source": [
        "# sweep config\n",
        "sweep_config = {\n",
        "    'method' : 'bayes',\n",
        "    'metric' : {\n",
        "        'name' : 'val_accuracy',\n",
        "        'goal' : 'maximize'\n",
        "    },\n",
        "    'parameters' : {\n",
        "        'input_embedding_size' : {\n",
        "            'values' : [32, 64, 128, 256]\n",
        "        },\n",
        "        'encoder_layers' : {\n",
        "            'values' : [1, 2, 3]\n",
        "        },\n",
        "        'decoder_layers' : {\n",
        "            'values' : [1, 2, 3]\n",
        "        },\n",
        "        'latent_dim' : {\n",
        "            'values' : [64, 128, 256, 512]\n",
        "        },\n",
        "        'cell_type' : {\n",
        "            'values' : ['GRU', 'LSTM']\n",
        "        },\n",
        "        'dropout' : {\n",
        "            'values' : [0.2, 0.3, 0.5, 0.7]\n",
        "        }\n",
        "    },\n",
        "    'early_terminate': {\n",
        "        'type': 'hyperband',\n",
        "        'min_iter': 12,\n",
        "    }\n",
        "}"
      ],
      "execution_count": null,
      "outputs": []
    },
    {
      "cell_type": "code",
      "metadata": {
        "id": "ukK3M3hDgzAG"
      },
      "source": [
        "def train():\n",
        "    config_defaults = {\n",
        "        'input_embedding_size' : 32,\n",
        "        'encoder_layers' : 2,\n",
        "        'decoder_layers': 2,\n",
        "        'latent_dim' : 256,\n",
        "        'cell_type' : 'LSTM',\n",
        "        'dropout' : 0.2\n",
        "    }\n",
        "\n",
        "    # wandb intialization\n",
        "    wandb.init(config = config_defaults, project = \"DL_assignment_3\" )\n",
        "    config = wandb.config\n",
        "    \n",
        "    # setting run name\n",
        "    exp_name = \"emb_size\" + str(config.input_embedding_size) + \"_lt_dim_\"+ str(config.latent_dim) +  \"_cell_\" + str(config.cell_type) + \"_drp_\" + str(config.dropout) + \"_enc_\" + str(config.encoder_layers) + \"_dec_\" + str(config.decoder_layers)\n",
        "    wandb.run.name = exp_name\n",
        "\n",
        "    # intializing encoder \n",
        "    # encoder_inputs = keras.Input(shape=(None,), name = \"encoder_input_layer\")\n",
        "    encoder = Encoder(num_encoder_tokens, config.input_embedding_size, config.latent_dim, batch_size, config.dropout, config.cell_type, config.encoder_layers)\n",
        "\n",
        "\n",
        "    # intializing decoder\n",
        "    # decoder_inputs = keras.Input(shape=(None,), name = \"decoder_input_layer\")\n",
        "    decoder = Decoder(num_decoder_tokens, config.input_embedding_size, config.latent_dim, batch_size, config.dropout, config.cell_type, config.decoder_layers)\n",
        "\n",
        "    \n",
        "    @tf.function\n",
        "    def train_step(inp, targ, cell):\n",
        "        loss = 0\n",
        "\n",
        "        with tf.GradientTape() as tape:\n",
        "            enc_output, enc_hidden = encoder(inp, cell)\n",
        "\n",
        "            dec_hidden = [enc_hidden]*(config.decoder_layers)\n",
        "\n",
        "            dec_input = tf.expand_dims([target_token_index['\\t']] * batch_size, 1)\n",
        "\n",
        "            # Teacher forcing - feeding the target as the next input\n",
        "            for t in range(1, targ.shape[1]):\n",
        "                # passing enc_output to the decoder\n",
        "                predictions, dec_hidden, _ = decoder(dec_input, dec_hidden, enc_output, cell)\n",
        "\n",
        "                loss += loss_function(targ[:, t], predictions)\n",
        "\n",
        "                # using teacher forcing\n",
        "                dec_input = tf.expand_dims(targ[:, t], 1)\n",
        "\n",
        "        batch_loss = (loss / int(targ.shape[1]))\n",
        "\n",
        "        variables = encoder.trainable_variables + decoder.trainable_variables\n",
        "\n",
        "        gradients = tape.gradient(loss, variables)\n",
        "\n",
        "        optimizer.apply_gradients(zip(gradients, variables))\n",
        "\n",
        "        return batch_loss\n",
        "\n",
        "    for epoch in range(epochs):\n",
        "\n",
        "        total_loss = 0\n",
        "\n",
        "        for (batch, (inp, targ)) in enumerate(dataset.take(steps_per_epoch)):\n",
        "            batch_loss = train_step(inp, targ, config.cell_type)\n",
        "            total_loss += batch_loss\n",
        "\n",
        "            if batch % 100 == 0:\n",
        "                print(f'Epoch {epoch+1} Batch {batch} Loss {batch_loss.numpy():.4f}')\n",
        "\n",
        "        print(f'Epoch {epoch+1} Loss {total_loss/steps_per_epoch:.4f}')\n",
        "        wandb.log({'train_loss':total_loss/steps_per_epoch})\n",
        "\n",
        "        val_acc = cal_acc_attention(encoder, decoder, val_encoder_input_data, val_decoder_input_data, config.latent_dim, config.cell_type, config.decoder_layers)\n",
        "\n",
        "    # match = 0\n",
        "    # for enc_inp_seq,dec_inp_seq in zip(val_encoder_input_data, val_decoder_input_data):\n",
        "    #     dec_input_text = \"\"\n",
        "    #     for char_index in dec_inp_seq:\n",
        "    #         char = reverse_target_char_index[char_index]\n",
        "    #         if not (char==\"\\n\" or char==\"\\t\" or char==\" \"):\n",
        "    #             dec_input_text +=  char\n",
        "\n",
        "    #     result = evaluate( enc_inp_seq.reshape(1,-1), encoder, decoder, config.latent_dim, config.cell_type)\n",
        "    #     if result == dec_input_text:\n",
        "    #         match += 1\n",
        "        wandb.log({'val_accuracy' : val_acc})\n",
        "        "
      ],
      "execution_count": null,
      "outputs": []
    },
    {
      "cell_type": "code",
      "metadata": {
        "id": "dpZfJKNJTVn7"
      },
      "source": [
        "sweep_id = wandb.sweep(sweep_config,  entity = \"cs20s002\", project = \"DL_assignment_3\")\n",
        "wandb.agent('2ezovvaf', train, count = 100)"
      ],
      "execution_count": null,
      "outputs": []
    },
    {
      "cell_type": "markdown",
      "metadata": {
        "id": "22jydjNDDD1u"
      },
      "source": [
        "## Question 5 (b,c,d)\n",
        "### Attention Model with best hyperparameter and measuring test accuracy"
      ]
    },
    {
      "cell_type": "code",
      "metadata": {
        "id": "AFH8Z0-YDDkL"
      },
      "source": [
        "batch_size = 64  \n",
        "epochs = 20\n",
        "input_embedding_size =  128\n",
        "latent_dim = 128\n",
        "cell_type = 'LSTM'\n",
        "dropout = 0.5\n",
        "encoder_layers = 1\n",
        "decoder_layers = 3"
      ],
      "execution_count": null,
      "outputs": []
    },
    {
      "cell_type": "code",
      "metadata": {
        "id": "5Yn8AMCgM5qx"
      },
      "source": [
        "# intializing encoder \n",
        "encoder = Encoder(num_encoder_tokens, input_embedding_size, latent_dim, batch_size, dropout, cell_type, encoder_layers)\n",
        "\n",
        "# intializing decoder\n",
        "decoder = Decoder(num_decoder_tokens, input_embedding_size, latent_dim, batch_size, dropout, cell_type, decoder_layers )\n",
        "\n",
        "\n",
        "@tf.function\n",
        "def train_step(inp, targ, cell):\n",
        "    loss = 0\n",
        "\n",
        "    with tf.GradientTape() as tape:\n",
        "\n",
        "        enc_output, enc_hidden = encoder(inp, cell)\n",
        "\n",
        "        dec_hidden = [enc_hidden]*decoder_layers\n",
        "\n",
        "        dec_input = tf.expand_dims([target_token_index['\\t']] * batch_size, 1)\n",
        "\n",
        "        # Teacher forcing - feeding the target as the next input\n",
        "        for t in range(1, targ.shape[1]):\n",
        "            # passing enc_output to the decoder\n",
        "            predictions, dec_hidden, _ = decoder(dec_input, dec_hidden, enc_output, cell)\n",
        "\n",
        "            loss += loss_function(targ[:, t], predictions)\n",
        "\n",
        "            # using teacher forcing\n",
        "            dec_input = tf.expand_dims(targ[:, t], 1)\n",
        "\n",
        "    batch_loss = (loss / int(targ.shape[1]))\n",
        "\n",
        "    variables = encoder.trainable_variables + decoder.trainable_variables\n",
        "\n",
        "    gradients = tape.gradient(loss, variables)\n",
        "\n",
        "    optimizer.apply_gradients(zip(gradients, variables))\n",
        "\n",
        "    return batch_loss\n",
        "\n",
        "\n",
        "for epoch in range(epochs):\n",
        "\n",
        "    total_loss = 0\n",
        "\n",
        "    for (batch, (inp, targ)) in enumerate(dataset.take(steps_per_epoch)):\n",
        "        batch_loss = train_step(inp, targ, cell_type)\n",
        "        total_loss += batch_loss\n",
        "\n",
        "        if batch % 100 == 0:\n",
        "            print(f'Epoch {epoch+1} Batch {batch} Loss {batch_loss.numpy():.4f}')\n",
        "\n",
        "    print(f'Epoch {epoch+1} Loss {total_loss/steps_per_epoch:.4f}')\n",
        "\n",
        "\n",
        "    val_acc = cal_acc_attention(encoder, decoder, val_encoder_input_data, val_decoder_input_data, latent_dim, cell_type, decoder_layers)\n",
        "    print(\"val_acc\",val_acc)\n",
        "        "
      ],
      "execution_count": null,
      "outputs": []
    },
    {
      "cell_type": "markdown",
      "metadata": {
        "id": "IX1T0dahzsuW"
      },
      "source": [
        "### b-part\n",
        "#### Loading test data"
      ]
    },
    {
      "cell_type": "code",
      "metadata": {
        "id": "BWXKJX55TVdT"
      },
      "source": [
        "# data preprocessing, creating encoder data and decoder data from text\n",
        "test_encoder_input_data, test_decoder_input_data, test_decoder_target_data = data_preprocessing(test_data_path, num_encoder_tokens, num_decoder_tokens, input_token_index, target_token_index, max_encoder_seq_length, max_decoder_seq_length)\n"
      ],
      "execution_count": null,
      "outputs": []
    },
    {
      "cell_type": "code",
      "metadata": {
        "id": "YiS6JJ5ZTVgB"
      },
      "source": [
        "test_acc = cal_acc_attention(encoder, decoder, test_encoder_input_data, test_decoder_input_data, latent_dim, cell_type, decoder_layers)\n",
        "print(test_acc)"
      ],
      "execution_count": null,
      "outputs": []
    },
    {
      "cell_type": "markdown",
      "metadata": {
        "id": "dnDhDcST0-YP"
      },
      "source": [
        "#### Predicting result and for given input string and saving in csv file"
      ]
    },
    {
      "cell_type": "code",
      "metadata": {
        "id": "2QYBXCyAaFYc"
      },
      "source": [
        "# to print the predicitons\n",
        "def evaluate( encoder_input_data, encoder, decoder, latent_dim, cell_type, decoder_layers):\n",
        "    \n",
        "    encoder_input_data = tf.convert_to_tensor(encoder_input_data)\n",
        "    \n",
        "    result = ''\n",
        "\n",
        "    enc_out, enc_hidden = encoder(encoder_input_data, cell_type)\n",
        "\n",
        "    dec_hidden = [enc_hidden]*decoder_layers\n",
        "    dec_input = tf.expand_dims([ target_token_index['\\t'] ], 0)\n",
        "\n",
        "    for t in range(max_decoder_seq_length):\n",
        "        predictions, dec_hidden, attention_weights = decoder(dec_input, dec_hidden, enc_out, cell_type)\n",
        "        \n",
        "        predicted_id = tf.argmax(predictions[0]).numpy()\n",
        "\n",
        "\n",
        "        if reverse_target_char_index[predicted_id] == '\\n':\n",
        "            return result\n",
        "\n",
        "        result += reverse_target_char_index[predicted_id] + ''\n",
        "        \n",
        "        # the predicted ID is fed back into the model\n",
        "        dec_input = tf.expand_dims([predicted_id], 0)\n",
        "\n",
        "    return result"
      ],
      "execution_count": null,
      "outputs": []
    },
    {
      "cell_type": "code",
      "metadata": {
        "id": "awkRqBNhls5N"
      },
      "source": [
        "# saving all predictions in text file in format: number   input_text    expected_output_text   predicted_output_text   match(y/n)\n",
        "\n",
        "title = ['number','input_text','expected_output_text','predicted_output_text','match(1/0)']\n",
        "rows = []\n",
        "\n",
        "\n",
        "for (i, enc_seq, dec_seq) in zip(range(len(test_encoder_input_data)), test_encoder_input_data, test_decoder_input_data):\n",
        "\n",
        "    match = 0\n",
        "    \n",
        "    encoder_input_text = \"\"\n",
        "    for char_index in enc_seq:\n",
        "        char = reverse_input_char_index[char_index]\n",
        "        if not (char==\"\\n\" or char==\"\\t\" or char==\" \"):\n",
        "            encoder_input_text +=  char\n",
        "            \n",
        "    dec_input_text = \"\"\n",
        "    for char_index in dec_seq:\n",
        "        char = reverse_target_char_index[char_index]\n",
        "        if not (char==\"\\n\" or char==\"\\t\" or char==\" \"):\n",
        "            dec_input_text +=  char\n",
        "\n",
        "    result = evaluate( enc_seq.reshape(1,-1), encoder, decoder, latent_dim, cell_type, decoder_layers)\n",
        "    \n",
        "\n",
        "    for s in range(len(result)):\n",
        "        char = result[s]\n",
        "        if char==\"\\n\" or char==\"\\t\" or char==\" \":\n",
        "            break\n",
        "    result = result[:s]\n",
        "\n",
        "    if result == dec_input_text:\n",
        "        match = 1\n",
        "\n",
        "\n",
        "    rows.append( [ str(i), encoder_input_text, dec_input_text, result, str(match) ] )\n",
        "    print(str(i) + \"   \" + encoder_input_text + \"   \" + dec_input_text + \"   \" + result + \"   \" + str(match))\n",
        "\n",
        "import csv\n",
        "# name of csv file \n",
        "filename = \"prediction_attention_file.csv\"\n",
        "    \n",
        "# writing to csv file \n",
        "with open(filename, 'w') as csvfile: \n",
        "    # creating a csv writer object \n",
        "    csvwriter = csv.writer(csvfile) \n",
        "        \n",
        "    # writing the fields \n",
        "    csvwriter.writerow(title) \n",
        "        \n",
        "    # writing the data rows \n",
        "    csvwriter.writerows(rows)"
      ],
      "execution_count": null,
      "outputs": []
    },
    {
      "cell_type": "markdown",
      "metadata": {
        "id": "J3lLnYD9TquF"
      },
      "source": [
        "### c-part"
      ]
    },
    {
      "cell_type": "code",
      "metadata": {
        "id": "XCeFsaZHTvLr"
      },
      "source": [
        "# saving all predictions in text file in format: number   input_text    expected_output_text   seq2seq_predicted_output_text    Attention_predicted_output_text  \n",
        "\n",
        "title = ['number','input_text','expected_output_text','seq2seq_predicted_output_text','Attention_predicted_output_text']\n",
        "csv_rows = []\n",
        "\n",
        "import pandas as pd\n",
        "\n",
        "seq2seq_model_pred = pd.read_csv('prediction_file.csv', sep=',',header=None).to_numpy()\n",
        "attention_model_pred = pd.read_csv('prediction_attention_file.csv', sep=',',header=None).to_numpy()\n",
        "\n",
        "rows = set(np.where(seq2seq_model_pred[:,4] == '0' )[0]).intersection(set(np.where(attention_model_pred[:,4] == '1')[0]))\n",
        "rows = list(rows)\n",
        "rows.sort()\n",
        "\n",
        "csv_rows = []\n",
        "for i in rows:\n",
        "\n",
        "    print(\"====================================================================\")\n",
        "    print(\"Example \", i+1)\n",
        "    print(\"Input : \",seq2seq_model_pred[i][1], \"output should be : \", seq2seq_model_pred[i,2])\n",
        "    print(\"Wrongly pridected output in seq2seq model : \", seq2seq_model_pred[i][3])\n",
        "    print(\"Rightly pridected output in Attention model : \", attention_model_pred[i][3])\n",
        "    print(\"====================================================================\")\n",
        "    csv_rows.append( [ str(i+1), seq2seq_model_pred[i][1], seq2seq_model_pred[i,2], seq2seq_model_pred[i][3], attention_model_pred[i][3] ] )\n",
        "\n",
        "print(len(rows))\n",
        "\n",
        "import csv\n",
        "# name of csv file \n",
        "filename = \"corrected_predictions_with_attention_file.csv\"\n",
        "    \n",
        "# writing to csv file \n",
        "with open(filename, 'w') as csvfile: \n",
        "    # creating a csv writer object \n",
        "    csvwriter = csv.writer(csvfile) \n",
        "        \n",
        "    # writing the fields \n",
        "    csvwriter.writerow(title) \n",
        "        \n",
        "    # writing the data rows \n",
        "    csvwriter.writerows(csv_rows)"
      ],
      "execution_count": null,
      "outputs": []
    },
    {
      "cell_type": "markdown",
      "metadata": {
        "id": "VzpTnukl1PWu"
      },
      "source": [
        "### d-part\n",
        "### Attention heatmaps"
      ]
    },
    {
      "cell_type": "code",
      "metadata": {
        "id": "6oVPwUJzVpye"
      },
      "source": [
        "def preprocess_input_word(input_text):\n",
        "    encoder_input_data = np.zeros(\n",
        "        (1, max_encoder_seq_length), dtype=\"int32\"\n",
        "    )\n",
        "\n",
        "    for t, char in enumerate(input_text):\n",
        "        if char in input_token_index.keys():\n",
        "            encoder_input_data[0, t] = input_token_index[char]\n",
        "    encoder_input_data[0, t + 1 :] = input_token_index[' ']\n",
        "    return encoder_input_data"
      ],
      "execution_count": null,
      "outputs": []
    },
    {
      "cell_type": "code",
      "metadata": {
        "id": "BanSaTXfN4ZJ"
      },
      "source": [
        "def get_attention_weights(word):\n",
        "    \n",
        "    attention_matrices = np.zeros((decoder_layers, max_decoder_seq_length , max_encoder_seq_length))\n",
        "    \n",
        "    encoder_input_data = preprocess_input_word(word)\n",
        "\n",
        "    encoder_input_data = tf.convert_to_tensor(encoder_input_data)\n",
        "    \n",
        "    result = ''\n",
        "\n",
        "    enc_out, enc_hidden = encoder(encoder_input_data, cell_type)\n",
        "\n",
        "    dec_hidden = [enc_hidden]*decoder_layers\n",
        "    dec_input = tf.expand_dims([ target_token_index['\\t'] ], 0)\n",
        "\n",
        "    for t in range(max_decoder_seq_length):\n",
        "        predictions, dec_hidden, attention_weights_list = decoder(dec_input, dec_hidden, enc_out, cell_type)\n",
        "\n",
        "        # storing the attention weights to plot later on\n",
        "        for a in range(len(attention_weights_list)):\n",
        "            attention_weights = tf.reshape(attention_weights_list[a], (-1, ))\n",
        "            attention_matrices[a][t] = attention_weights.numpy()\n",
        "        \n",
        "        predicted_id = tf.argmax(predictions[0]).numpy()\n",
        "\n",
        "        result += reverse_target_char_index[predicted_id] + ''\n",
        "\n",
        "        # the predicted ID is fed back into the model\n",
        "        dec_input = tf.expand_dims([predicted_id], 0)\n",
        "\n",
        "    return result, encoder_input_data, attention_matrices"
      ],
      "execution_count": null,
      "outputs": []
    },
    {
      "cell_type": "code",
      "metadata": {
        "id": "FdKm3HDels05"
      },
      "source": [
        "def attention_heatmaps(word):\n",
        "    result, input_seq, attention_matrices = get_attention_weights(word)\n",
        "    \n",
        "    input_string_with_spaces = \"\"\n",
        "    \n",
        "    for i in input_seq[0]:\n",
        "        input_string_with_spaces += reverse_input_char_index[i.numpy()]\n",
        "    \n",
        "    return result, input_string_with_spaces, attention_matrices"
      ],
      "execution_count": null,
      "outputs": []
    },
    {
      "cell_type": "code",
      "metadata": {
        "id": "36LCZ9U6HFF9"
      },
      "source": [
        "# Generate 10 random numbers between 0 and test sample size\n",
        "randomlist = random.sample(range( 0, len(test_encoder_input_data)-1 ), 12)\n",
        "attention_matrices_list=[]\n",
        "\n",
        "sample_test_data = test_encoder_input_data[randomlist]\n",
        "\n",
        "for i in range(len(sample_test_data)):\n",
        "    \n",
        "    input_seq = sample_test_data[i].reshape(1,-1)\n",
        "    # print(input_seq)\n",
        "    input_string = \"\"\n",
        "    for char_index in input_seq[0]:\n",
        "        char = reverse_input_char_index[char_index]\n",
        "        if not char == '\\n' or char == ' ' or char == '\\t':\n",
        "            input_string += char \n",
        "\n",
        "    result, input_string_with_spaces, attention_matrices = attention_heatmaps(input_string)\n",
        "    attention_matrices_list.append([result, input_string_with_spaces, attention_matrices])\n",
        "\n",
        "\n",
        "# # wandb config\n",
        "# wandb.init(project=\"DL_assignment_3\", name=\"Question_5d_question\")\n",
        "\n",
        "for a in range( len( attention_matrices_list[0][2] ) ):\n",
        "    \n",
        "    \n",
        "    fig, axs = plt.subplots(3, 4, figsize = ( 22. , 22. ))\n",
        "    fig.suptitle(\"\\n\\n\\nAttention Heatmap for attention weights corresponding to {} decoder layer\".format(a+1), fontsize = 20)\n",
        "\n",
        "    for i in range(3):\n",
        "        for j in range(4):\n",
        "\n",
        "            # Iterating over the grid returns the Axes.\n",
        "\n",
        "            # ax = fig.add_subplot(1, 1, 1)\n",
        "            axs[i,j].matshow(attention_matrices_list[i*3+j][2][a], cmap=\"Blues\")    \n",
        "            \n",
        "            fontdict = {'fontsize': 14}\n",
        "\n",
        "            # point to the font location with an absolute path\n",
        "            nim = '/content/Nirmala.ttf'\n",
        "\n",
        "            # configure the Hindi font\n",
        "            hindi_font = FontProperties(fname = nim)\n",
        "    \n",
        "        \n",
        "            axs[i,j].set_xticklabels(' ' + attention_matrices_list[i*3+j][1], fontdict = fontdict)\n",
        "            axs[i,j].set_yticklabels(' ' + attention_matrices_list[i*3+j][0], fontdict=fontdict, fontproperties = hindi_font)\n",
        "\n",
        "            axs[i,j].xaxis.set_major_locator(ticker.MultipleLocator(1))\n",
        "            axs[i,j].yaxis.set_major_locator(ticker.MultipleLocator(1))\n",
        "    \n",
        "    # Log the image\n",
        "    # wandb.log({\"Question_5d_heatmap_{}\".format(a+1): [ wandb.Image( fig, caption = \"Attention Heatmap for attention weights corresponding to {} decoder layer\".format(a+1))]})\n",
        "\n",
        "\n",
        "# wandb.finish()\n",
        "\n",
        "plt.show()"
      ],
      "execution_count": null,
      "outputs": []
    },
    {
      "cell_type": "code",
      "metadata": {
        "id": "H8PhRSCQlsyg"
      },
      "source": [
        "attention_heatmaps('ankur')"
      ],
      "execution_count": null,
      "outputs": []
    },
    {
      "cell_type": "code",
      "metadata": {
        "id": "0llFSIqKlsuH"
      },
      "source": [
        "def translate(word):\n",
        "    result, input_seq, _ = get_attention_weights(word)\n",
        "\n",
        "    input_string_with_spaces = \"\"\n",
        "    \n",
        "    for i in input_seq[0]:\n",
        "        input_string_with_spaces += reverse_input_char_index[i.numpy()]\n",
        "\n",
        "    print('Input:', input_string_with_spaces)\n",
        "    print('Predicted translation:', result)"
      ],
      "execution_count": null,
      "outputs": []
    },
    {
      "cell_type": "code",
      "metadata": {
        "id": "LUwtZEiSlsrV"
      },
      "source": [
        "translate('ankur')"
      ],
      "execution_count": null,
      "outputs": []
    },
    {
      "cell_type": "markdown",
      "metadata": {
        "id": "Xw7_M5HQ2EMH"
      },
      "source": [
        "# Question 6"
      ]
    },
    {
      "cell_type": "markdown",
      "metadata": {
        "id": "QtzT-cTy5eWU"
      },
      "source": [
        "### Loading dataset "
      ]
    },
    {
      "cell_type": "code",
      "metadata": {
        "id": "3bymwqtU5SFW"
      },
      "source": [
        "batch_size = 64  \n",
        "epochs = 12\n",
        "\n",
        "# building common character dictionary for train and val data\n",
        "num_encoder_tokens, num_decoder_tokens, input_token_index, target_token_index, max_encoder_seq_length, max_decoder_seq_length = build_character_vocab()\n",
        "\n",
        "# defining dict for reverse index to char mapping\n",
        "reverse_input_char_index = dict((i, char) for char, i in input_token_index.items())\n",
        "reverse_target_char_index = dict((i, char) for char, i in target_token_index.items())\n",
        "\n",
        "# data preprocessing, creating encoder data and decoder data from text\n",
        "train_encoder_input_data, train_decoder_input_data, train_decoder_target_data = data_preprocessing(train_data_path, num_encoder_tokens, num_decoder_tokens, input_token_index, target_token_index, max_encoder_seq_length, max_decoder_seq_length)\n",
        "val_encoder_input_data, val_decoder_input_data, val_decoder_target_data = data_preprocessing(val_data_path, num_encoder_tokens, num_decoder_tokens, input_token_index, target_token_index, max_encoder_seq_length, max_decoder_seq_length)\n",
        "\n",
        "BUFFER_SIZE = len(train_encoder_input_data)\n",
        "steps_per_epoch = len(train_encoder_input_data)//batch_size\n",
        "\n",
        "dataset = tf.data.Dataset.from_tensor_slices((train_encoder_input_data, train_decoder_input_data)).shuffle(BUFFER_SIZE)\n",
        "dataset = dataset.batch(batch_size, drop_remainder=True)"
      ],
      "execution_count": null,
      "outputs": []
    },
    {
      "cell_type": "markdown",
      "metadata": {
        "id": "WjJLIhhC5yKB"
      },
      "source": [
        "### Training with best configuration"
      ]
    },
    {
      "cell_type": "code",
      "metadata": {
        "id": "WqoeQVa_5qfu"
      },
      "source": [
        "input_embedding_size =  128\n",
        "latent_dim = 128\n",
        "cell_type = 'LSTM'\n",
        "dropout = 0.5\n",
        "encoder_layers = 1\n",
        "decoder_layers = 3"
      ],
      "execution_count": null,
      "outputs": []
    },
    {
      "cell_type": "code",
      "metadata": {
        "id": "XlGjgDuk5wvR"
      },
      "source": [
        "# intializing encoder \n",
        "encoder = Encoder(num_encoder_tokens, input_embedding_size, latent_dim, batch_size, dropout, cell_type, encoder_layers)\n",
        "\n",
        "# intializing decoder\n",
        "decoder = Decoder(num_decoder_tokens, input_embedding_size, latent_dim, batch_size, dropout, cell_type, decoder_layers )\n",
        "\n",
        "\n",
        "@tf.function\n",
        "def train_step(inp, targ, cell):\n",
        "    loss = 0\n",
        "\n",
        "    with tf.GradientTape() as tape:\n",
        "\n",
        "        enc_output, enc_hidden = encoder(inp, cell)\n",
        "\n",
        "        dec_hidden = [enc_hidden]*decoder_layers\n",
        "\n",
        "        dec_input = tf.expand_dims([target_token_index['\\t']] * batch_size, 1)\n",
        "\n",
        "        # Teacher forcing - feeding the target as the next input\n",
        "        for t in range(1, targ.shape[1]):\n",
        "            # passing enc_output to the decoder\n",
        "            predictions, dec_hidden, _ = decoder(dec_input, dec_hidden, enc_output, cell)\n",
        "\n",
        "            loss += loss_function(targ[:, t], predictions)\n",
        "\n",
        "            # using teacher forcing\n",
        "            dec_input = tf.expand_dims(targ[:, t], 1)\n",
        "\n",
        "    batch_loss = (loss / int(targ.shape[1]))\n",
        "\n",
        "    variables = encoder.trainable_variables + decoder.trainable_variables\n",
        "\n",
        "    gradients = tape.gradient(loss, variables)\n",
        "\n",
        "    optimizer.apply_gradients(zip(gradients, variables))\n",
        "\n",
        "    return batch_loss\n",
        "\n",
        "for epoch in range(epochs):\n",
        "\n",
        "    total_loss = 0\n",
        "\n",
        "    for (batch, (inp, targ)) in enumerate(dataset.take(steps_per_epoch)):\n",
        "        batch_loss = train_step(inp, targ, cell_type)\n",
        "        total_loss += batch_loss\n",
        "\n",
        "        if batch % 100 == 0:\n",
        "            print(f'Epoch {epoch+1} Batch {batch} Loss {batch_loss.numpy():.4f}')\n",
        "\n",
        "    print(f'Epoch {epoch+1} Loss {total_loss/steps_per_epoch:.4f}')\n",
        "\n",
        "\n",
        "val_acc = cal_acc_attention(encoder, decoder, val_encoder_input_data, val_decoder_input_data, latent_dim, cell_type, decoder_layers)\n",
        "val_acc\n"
      ],
      "execution_count": null,
      "outputs": []
    },
    {
      "cell_type": "markdown",
      "metadata": {
        "id": "jbEDODF86SHF"
      },
      "source": [
        "### Getting attention weights"
      ]
    },
    {
      "cell_type": "code",
      "metadata": {
        "id": "_MgPUzLXh7OM"
      },
      "source": [
        "def get_prediction_and_weights(encoder, decoder, input_string, latent_dim, cell_type):\n",
        "    \n",
        "    encoder_input_data = np.zeros(\n",
        "        (1, max_encoder_seq_length), dtype=\"int32\"\n",
        "    )  \n",
        "\n",
        "    i=0\n",
        "    for char in input_string:\n",
        "        encoder_input_data[0][i] = input_token_index[char]\n",
        "        i+=1\n",
        "    \n",
        "    encoder_input_data[0][i:] = input_token_index[' ']\n",
        "\n",
        "    encoder_input_data = tf.convert_to_tensor( encoder_input_data )\n",
        "\n",
        "\n",
        "    enc_out, enc_hidden = encoder(encoder_input_data, cell_type)\n",
        "    \n",
        "    dec_hidden = [enc_hidden]*decoder_layers\n",
        "    dec_input = tf.expand_dims([ target_token_index['\\t'] ], 1)\n",
        "    \n",
        "    predcted_id_list = []\n",
        "    \n",
        "    attention_weights_list_matrix = []\n",
        "\n",
        "    for _ in range(decoder_layers):\n",
        "        attention_weights_list_matrix.append( list() )\n",
        "\n",
        "    for t in range(max_decoder_seq_length-1):\n",
        "\n",
        "        predictions, dec_hidden, attention_weights_list = decoder(dec_input, dec_hidden, enc_out, cell_type)\n",
        "\n",
        "        predicted_id = tf.argmax(predictions, axis = 1)\n",
        "        \n",
        "        predcted_id_list.append(predicted_id)\n",
        "\n",
        "        for d in range(decoder_layers):\n",
        "            attention_weights_list_matrix[d].append( attention_weights_list[d] )\n",
        "        \n",
        "        # attention_weights_list_matrix[:, t] = np.array(attention_weights_list)\n",
        "\n",
        "        # the predicted ID is fed back into the model\n",
        "        dec_input = tf.expand_dims(predicted_id,1)\n",
        "       \n",
        "    return encoder_input_data,predcted_id_list,attention_weights_list_matrix"
      ],
      "execution_count": null,
      "outputs": []
    },
    {
      "cell_type": "markdown",
      "metadata": {
        "id": "FcoOWcgd6Co_"
      },
      "source": [
        "### Visualization"
      ]
    },
    {
      "cell_type": "code",
      "metadata": {
        "id": "EADg3ebbTVuv"
      },
      "source": [
        "# get html element\n",
        "def cstr(s, color):\t\n",
        "    return \"<text style=color:white;background-color:rgba(53,183,121,{}); > {} </text>\".format( color, s)\n",
        "\n",
        "def add_css(predicted_id_list, text_color_list):\n",
        "    css_script = \"\"\" <style> \"\"\"\n",
        "\n",
        "\n",
        "    css_script = css_script + \" h2 {color:#636363; text-align: center; font-size: 27px; padding: 3px 5px 3px 5px;} div {text-align: center; width: 85%; margin: auto;} text {text-align: center; font-size: 25px; padding: 3px 5px 3px 5px; font-family: Arial, Helvetica, sans-serif; } \"\n",
        "    \n",
        "    css_script = css_script + \"\"\" #input{} {{ display:block; background-color:#365d8d; }} \"\"\".format(0)\n",
        "\n",
        "    for i in range(1,len(predicted_id_list)):\n",
        "        css_script = css_script + \"\"\" #input{} {{ display : none; background-color:#365d8d; }} \"\"\".format(i)\n",
        "    \n",
        "\n",
        "    css_script = css_script + \"\"\" .output{} {{ background-color:#365d8d; }} \"\"\".format(0)\n",
        "    \n",
        "    css_script = css_script + \"\"\" .output{}:hover {{ background-color:#35b779; text-decoration:underline; text-decoration-color: white; }} \"\"\".format(0)    \n",
        "    \n",
        "    css_script = css_script + \"\"\" .output{}:hover ~#input{} {{ display : block; background-color:#365d8d;  }} \"\"\".format(0, 0)\n",
        "\n",
        "    for i in range(1,len(predicted_id_list)):\n",
        "\n",
        "        css_script = css_script + \"\"\" .output{} {{ background-color:#365d8d; }} \"\"\".format(i)\n",
        "        \n",
        "        css_script = css_script + \"\"\" .output{}:hover {{ background-color:#35b779; text-decoration:underline; text-decoration-color: white;  }} \"\"\".format(i)\n",
        "\n",
        "        css_script = css_script + \"\"\" .output{}:hover ~#input0 {{ display : none; background-color:#365d8d; }} \"\"\".format(i)\n",
        "        \n",
        "        css_script = css_script + \"\"\" .output{}:hover ~#input{} {{ display : block; background-color:#365d8d; }} \"\"\" .format(i, i)\n",
        "        \n",
        "            \n",
        "    return css_script + \"\"\" </style> \"\"\"\n",
        "\n",
        "def add_text_block(predicted_id_list, text_color_list):\n",
        "\n",
        "    text_block = \"\"\" <body> \"\"\"\n",
        "    text_block = text_block + \"\"\" <h2> Output Text </h2> \"\"\"\n",
        "\n",
        "    for i in range(len(predicted_id_list)):\n",
        "        text_block = text_block + \"\"\"<text class = \"output{}\" style=color:white; > {} </text>\"\"\".format(i, reverse_target_char_index[predicted_id_list[i].numpy()[0]])\n",
        "\n",
        "    text_block = text_block + \"\"\" <h2> Input Text </h2> \"\"\"\n",
        "\n",
        "    for i,text_color in enumerate(text_color_list):\n",
        "        text_block = text_block + \"\"\"<div id = \"input{}\"> \"\"\".format(i)\n",
        "        for ti,ci in text_color:\n",
        "            text_block = text_block + cstr(ti, ci)         \n",
        "        text_block = text_block + \"</div>\"\n",
        "    \n",
        "    return text_block + \"\"\" </body> \"\"\"\n",
        "\n",
        "def call_html_display(predicted_id_list, text_color_list ):\n",
        "    html_script = \"\"\"<!DOCTYPE html> <html> \"\"\"\n",
        "    \n",
        "    css_block = add_css(predicted_id_list, text_color_list)\n",
        "    \n",
        "    html_script = html_script + \"\"\" <head> \"\"\" + css_block + \"\"\" </head> \"\"\"\n",
        "    \n",
        "    text_block = add_text_block(predicted_id_list, text_color_list)\n",
        "    \n",
        "    html_script = html_script + text_block\n",
        "\n",
        "    html_script = html_script + \"\"\"</html>\"\"\"\n",
        "\n",
        "    # print(html_script)\n",
        "    display(HTML(html_script))\n",
        "    \n",
        "    return html_script\n"
      ],
      "execution_count": null,
      "outputs": []
    },
    {
      "cell_type": "code",
      "metadata": {
        "id": "bCk9FtSnh7Ef"
      },
      "source": [
        "def get_text_color(attention_weights, input_seq_id_list):\n",
        "    \n",
        "    text_colours = []\n",
        "    \n",
        "    attention_weights = attention_weights.tolist()\n",
        "\n",
        "    for i in range(len(input_seq_id_list)):\n",
        "        text = ( reverse_input_char_index[input_seq_id_list[i]], attention_weights[i][0]  )\n",
        "        text_colours.append( text )\n",
        "    return text_colours\n",
        "\n",
        "def visualize(input_seq_id_list , predicted_id_list, attention_weight_list ):\n",
        "    text_color_list =[]\n",
        "    for i in range(len(predicted_id_list)):\n",
        "        text_color_list.append( get_text_color( attention_weight_list[i].numpy()[0], input_seq_id_list ) )\n",
        "    return call_html_display( predicted_id_list, text_color_list  )\n"
      ],
      "execution_count": null,
      "outputs": []
    },
    {
      "cell_type": "code",
      "metadata": {
        "colab": {
          "base_uri": "https://localhost:8080/",
          "height": 750
        },
        "id": "ZGZXzTsCh7Ls",
        "outputId": "d69fe5ec-b3c3-4eee-99c4-cbcf957e9e1f"
      },
      "source": [
        "input_string = 'devanagari'\n",
        "\n",
        "input_seq_id_list, predicted_id_list, attention_weights_list_matrix = get_prediction_and_weights(encoder, decoder, input_string, latent_dim, cell_type)\n",
        "\n",
        "# wandb.init(project=\"DL_assignment_3\", name=\"Question_6_visualisation\")\n",
        "\n",
        "for d in range(decoder_layers):\n",
        "    display(HTML(\"<html><h1>Attention corresponding to {} decoder layer</h1></html>\".format(d+1)))\n",
        "    html_script = visualize(input_seq_id_list.numpy()[0] , predicted_id_list, attention_weights_list_matrix[d] )\n",
        "    \n",
        "    # wandb.log({\"visualisation_of_attention_weights_corresponding_to_{}_decoder_layer\".format(d+1) : wandb.Html(html_script)})\n",
        "\n",
        "# wandb.finish()"
      ],
      "execution_count": null,
      "outputs": [
        {
          "output_type": "display_data",
          "data": {
            "text/html": [
              "<html><h1>Attention corresponding to 1 decoder layer</h1></html>"
            ],
            "text/plain": [
              "<IPython.core.display.HTML object>"
            ]
          },
          "metadata": {
            "tags": []
          }
        },
        {
          "output_type": "display_data",
          "data": {
            "text/html": [
              "<!DOCTYPE html> <html>  <head>  <style>  h2 {color:#636363; text-align: center; font-size: 27px; padding: 3px 5px 3px 5px;} div {text-align: center; width: 85%; margin: auto;} text {text-align: center; font-size: 25px; padding: 3px 5px 3px 5px; font-family: Arial, Helvetica, sans-serif; }  #input0 { display:block; background-color:#365d8d; }  #input1 { display : none; background-color:#365d8d; }  #input2 { display : none; background-color:#365d8d; }  #input3 { display : none; background-color:#365d8d; }  #input4 { display : none; background-color:#365d8d; }  #input5 { display : none; background-color:#365d8d; }  #input6 { display : none; background-color:#365d8d; }  #input7 { display : none; background-color:#365d8d; }  #input8 { display : none; background-color:#365d8d; }  #input9 { display : none; background-color:#365d8d; }  #input10 { display : none; background-color:#365d8d; }  #input11 { display : none; background-color:#365d8d; }  #input12 { display : none; background-color:#365d8d; }  #input13 { display : none; background-color:#365d8d; }  #input14 { display : none; background-color:#365d8d; }  #input15 { display : none; background-color:#365d8d; }  #input16 { display : none; background-color:#365d8d; }  #input17 { display : none; background-color:#365d8d; }  #input18 { display : none; background-color:#365d8d; }  .output0 { background-color:#365d8d; }  .output0:hover { background-color:#35b779; text-decoration:underline; text-decoration-color: white; }  .output0:hover ~#input0 { display : block; background-color:#365d8d;  }  .output1 { background-color:#365d8d; }  .output1:hover { background-color:#35b779; text-decoration:underline; text-decoration-color: white;  }  .output1:hover ~#input0 { display : none; background-color:#365d8d; }  .output1:hover ~#input1 { display : block; background-color:#365d8d; }  .output2 { background-color:#365d8d; }  .output2:hover { background-color:#35b779; text-decoration:underline; text-decoration-color: white;  }  .output2:hover ~#input0 { display : none; background-color:#365d8d; }  .output2:hover ~#input2 { display : block; background-color:#365d8d; }  .output3 { background-color:#365d8d; }  .output3:hover { background-color:#35b779; text-decoration:underline; text-decoration-color: white;  }  .output3:hover ~#input0 { display : none; background-color:#365d8d; }  .output3:hover ~#input3 { display : block; background-color:#365d8d; }  .output4 { background-color:#365d8d; }  .output4:hover { background-color:#35b779; text-decoration:underline; text-decoration-color: white;  }  .output4:hover ~#input0 { display : none; background-color:#365d8d; }  .output4:hover ~#input4 { display : block; background-color:#365d8d; }  .output5 { background-color:#365d8d; }  .output5:hover { background-color:#35b779; text-decoration:underline; text-decoration-color: white;  }  .output5:hover ~#input0 { display : none; background-color:#365d8d; }  .output5:hover ~#input5 { display : block; background-color:#365d8d; }  .output6 { background-color:#365d8d; }  .output6:hover { background-color:#35b779; text-decoration:underline; text-decoration-color: white;  }  .output6:hover ~#input0 { display : none; background-color:#365d8d; }  .output6:hover ~#input6 { display : block; background-color:#365d8d; }  .output7 { background-color:#365d8d; }  .output7:hover { background-color:#35b779; text-decoration:underline; text-decoration-color: white;  }  .output7:hover ~#input0 { display : none; background-color:#365d8d; }  .output7:hover ~#input7 { display : block; background-color:#365d8d; }  .output8 { background-color:#365d8d; }  .output8:hover { background-color:#35b779; text-decoration:underline; text-decoration-color: white;  }  .output8:hover ~#input0 { display : none; background-color:#365d8d; }  .output8:hover ~#input8 { display : block; background-color:#365d8d; }  .output9 { background-color:#365d8d; }  .output9:hover { background-color:#35b779; text-decoration:underline; text-decoration-color: white;  }  .output9:hover ~#input0 { display : none; background-color:#365d8d; }  .output9:hover ~#input9 { display : block; background-color:#365d8d; }  .output10 { background-color:#365d8d; }  .output10:hover { background-color:#35b779; text-decoration:underline; text-decoration-color: white;  }  .output10:hover ~#input0 { display : none; background-color:#365d8d; }  .output10:hover ~#input10 { display : block; background-color:#365d8d; }  .output11 { background-color:#365d8d; }  .output11:hover { background-color:#35b779; text-decoration:underline; text-decoration-color: white;  }  .output11:hover ~#input0 { display : none; background-color:#365d8d; }  .output11:hover ~#input11 { display : block; background-color:#365d8d; }  .output12 { background-color:#365d8d; }  .output12:hover { background-color:#35b779; text-decoration:underline; text-decoration-color: white;  }  .output12:hover ~#input0 { display : none; background-color:#365d8d; }  .output12:hover ~#input12 { display : block; background-color:#365d8d; }  .output13 { background-color:#365d8d; }  .output13:hover { background-color:#35b779; text-decoration:underline; text-decoration-color: white;  }  .output13:hover ~#input0 { display : none; background-color:#365d8d; }  .output13:hover ~#input13 { display : block; background-color:#365d8d; }  .output14 { background-color:#365d8d; }  .output14:hover { background-color:#35b779; text-decoration:underline; text-decoration-color: white;  }  .output14:hover ~#input0 { display : none; background-color:#365d8d; }  .output14:hover ~#input14 { display : block; background-color:#365d8d; }  .output15 { background-color:#365d8d; }  .output15:hover { background-color:#35b779; text-decoration:underline; text-decoration-color: white;  }  .output15:hover ~#input0 { display : none; background-color:#365d8d; }  .output15:hover ~#input15 { display : block; background-color:#365d8d; }  .output16 { background-color:#365d8d; }  .output16:hover { background-color:#35b779; text-decoration:underline; text-decoration-color: white;  }  .output16:hover ~#input0 { display : none; background-color:#365d8d; }  .output16:hover ~#input16 { display : block; background-color:#365d8d; }  .output17 { background-color:#365d8d; }  .output17:hover { background-color:#35b779; text-decoration:underline; text-decoration-color: white;  }  .output17:hover ~#input0 { display : none; background-color:#365d8d; }  .output17:hover ~#input17 { display : block; background-color:#365d8d; }  .output18 { background-color:#365d8d; }  .output18:hover { background-color:#35b779; text-decoration:underline; text-decoration-color: white;  }  .output18:hover ~#input0 { display : none; background-color:#365d8d; }  .output18:hover ~#input18 { display : block; background-color:#365d8d; }  </style>  </head>  <body>  <h2> Output Text </h2> <text class = \"output0\" style=color:white; > द </text><text class = \"output1\" style=color:white; > े </text><text class = \"output2\" style=color:white; > व </text><text class = \"output3\" style=color:white; > ा </text><text class = \"output4\" style=color:white; > न </text><text class = \"output5\" style=color:white; > ग </text><text class = \"output6\" style=color:white; > र </text><text class = \"output7\" style=color:white; > ी </text><text class = \"output8\" style=color:white; >   </text><text class = \"output9\" style=color:white; >   </text><text class = \"output10\" style=color:white; >   </text><text class = \"output11\" style=color:white; >   </text><text class = \"output12\" style=color:white; >   </text><text class = \"output13\" style=color:white; >   </text><text class = \"output14\" style=color:white; >   </text><text class = \"output15\" style=color:white; >   </text><text class = \"output16\" style=color:white; >   </text><text class = \"output17\" style=color:white; >   </text><text class = \"output18\" style=color:white; >   </text> <h2> Input Text </h2> <div id = \"input0\"> <text style=color:white;background-color:rgba(53,183,121,0.2837145924568176); > d </text><text style=color:white;background-color:rgba(53,183,121,0.44459056854248047); > e </text><text style=color:white;background-color:rgba(53,183,121,0.2398635298013687); > v </text><text style=color:white;background-color:rgba(53,183,121,0.0011519496329128742); > a </text><text style=color:white;background-color:rgba(53,183,121,0.008507393300533295); > n </text><text style=color:white;background-color:rgba(53,183,121,0.00015082646859809756); > a </text><text style=color:white;background-color:rgba(53,183,121,0.0006735128117725253); > g </text><text style=color:white;background-color:rgba(53,183,121,0.00011747936514439061); > a </text><text style=color:white;background-color:rgba(53,183,121,0.0186158400028944); > r </text><text style=color:white;background-color:rgba(53,183,121,0.00037679029628634453); > i </text><text style=color:white;background-color:rgba(53,183,121,0.0008705984218977392); >   </text><text style=color:white;background-color:rgba(53,183,121,0.0005062518175691366); >   </text><text style=color:white;background-color:rgba(53,183,121,0.0002791298902593553); >   </text><text style=color:white;background-color:rgba(53,183,121,0.00012889275967609137); >   </text><text style=color:white;background-color:rgba(53,183,121,8.842058741720393e-05); >   </text><text style=color:white;background-color:rgba(53,183,121,7.637699309270829e-05); >   </text><text style=color:white;background-color:rgba(53,183,121,7.28763043298386e-05); >   </text><text style=color:white;background-color:rgba(53,183,121,7.177959196269512e-05); >   </text><text style=color:white;background-color:rgba(53,183,121,7.151099998736754e-05); >   </text><text style=color:white;background-color:rgba(53,183,121,7.162566907936707e-05); >   </text></div><div id = \"input1\"> <text style=color:white;background-color:rgba(53,183,121,0.1403544545173645); > d </text><text style=color:white;background-color:rgba(53,183,121,0.8400784134864807); > e </text><text style=color:white;background-color:rgba(53,183,121,0.01937131956219673); > v </text><text style=color:white;background-color:rgba(53,183,121,6.64721994780848e-07); > a </text><text style=color:white;background-color:rgba(53,183,121,4.191542029730044e-05); > n </text><text style=color:white;background-color:rgba(53,183,121,8.762502545778261e-08); > a </text><text style=color:white;background-color:rgba(53,183,121,1.1201785810044385e-06); > g </text><text style=color:white;background-color:rgba(53,183,121,5.3412904321703536e-08); > a </text><text style=color:white;background-color:rgba(53,183,121,0.00014796147297602147); > r </text><text style=color:white;background-color:rgba(53,183,121,9.015466275741346e-07); > i </text><text style=color:white;background-color:rgba(53,183,121,2.1606260816042777e-06); >   </text><text style=color:white;background-color:rgba(53,183,121,3.757861293252063e-07); >   </text><text style=color:white;background-color:rgba(53,183,121,2.0043742665620812e-07); >   </text><text style=color:white;background-color:rgba(53,183,121,1.0096471925180595e-07); >   </text><text style=color:white;background-color:rgba(53,183,121,6.448235723155449e-08); >   </text><text style=color:white;background-color:rgba(53,183,121,5.2213131596090534e-08); >   </text><text style=color:white;background-color:rgba(53,183,121,4.899415984027655e-08); >   </text><text style=color:white;background-color:rgba(53,183,121,4.841181322490229e-08); >   </text><text style=color:white;background-color:rgba(53,183,121,4.8622059267700024e-08); >   </text><text style=color:white;background-color:rgba(53,183,121,4.916162410495417e-08); >   </text></div><div id = \"input2\"> <text style=color:white;background-color:rgba(53,183,121,0.4268322288990021); > d </text><text style=color:white;background-color:rgba(53,183,121,0.5465539693832397); > e </text><text style=color:white;background-color:rgba(53,183,121,0.009608273394405842); > v </text><text style=color:white;background-color:rgba(53,183,121,1.035300829244079e-05); > a </text><text style=color:white;background-color:rgba(53,183,121,0.010450063273310661); > n </text><text style=color:white;background-color:rgba(53,183,121,3.243859225676715e-07); > a </text><text style=color:white;background-color:rgba(53,183,121,2.32618458539946e-06); > g </text><text style=color:white;background-color:rgba(53,183,121,5.9029787280451274e-08); > a </text><text style=color:white;background-color:rgba(53,183,121,0.00647630775347352); > r </text><text style=color:white;background-color:rgba(53,183,121,4.253045972291147e-06); > i </text><text style=color:white;background-color:rgba(53,183,121,3.826551983365789e-05); >   </text><text style=color:white;background-color:rgba(53,183,121,1.2791613698936999e-05); >   </text><text style=color:white;background-color:rgba(53,183,121,5.538036930374801e-06); >   </text><text style=color:white;background-color:rgba(53,183,121,1.8324650454815128e-06); >   </text><text style=color:white;background-color:rgba(53,183,121,8.555483077543613e-07); >   </text><text style=color:white;background-color:rgba(53,183,121,5.80753066969919e-07); >   </text><text style=color:white;background-color:rgba(53,183,121,5.093358481644827e-07); >   </text><text style=color:white;background-color:rgba(53,183,121,4.890225682174787e-07); >   </text><text style=color:white;background-color:rgba(53,183,121,4.842970042773231e-07); >   </text><text style=color:white;background-color:rgba(53,183,121,4.873083980783122e-07); >   </text></div><div id = \"input3\"> <text style=color:white;background-color:rgba(53,183,121,0.10154957324266434); > d </text><text style=color:white;background-color:rgba(53,183,121,0.7993268966674805); > e </text><text style=color:white;background-color:rgba(53,183,121,0.050677716732025146); > v </text><text style=color:white;background-color:rgba(53,183,121,4.071393050253391e-06); > a </text><text style=color:white;background-color:rgba(53,183,121,0.012318809516727924); > n </text><text style=color:white;background-color:rgba(53,183,121,2.3468260224035475e-08); > a </text><text style=color:white;background-color:rgba(53,183,121,2.4327783876287867e-07); > g </text><text style=color:white;background-color:rgba(53,183,121,1.2287965089896602e-09); > a </text><text style=color:white;background-color:rgba(53,183,121,0.036099422723054886); > r </text><text style=color:white;background-color:rgba(53,183,121,9.128032161243027e-07); > i </text><text style=color:white;background-color:rgba(53,183,121,1.4823390301899053e-05); >   </text><text style=color:white;background-color:rgba(53,183,121,4.102695584151661e-06); >   </text><text style=color:white;background-color:rgba(53,183,121,1.753887090671924e-06); >   </text><text style=color:white;background-color:rgba(53,183,121,5.93844958984846e-07); >   </text><text style=color:white;background-color:rgba(53,183,121,2.6784104534272046e-07); >   </text><text style=color:white;background-color:rgba(53,183,121,1.8068858764763718e-07); >   </text><text style=color:white;background-color:rgba(53,183,121,1.5832398503334844e-07); >   </text><text style=color:white;background-color:rgba(53,183,121,1.5235238493005454e-07); >   </text><text style=color:white;background-color:rgba(53,183,121,1.5136036779495043e-07); >   </text><text style=color:white;background-color:rgba(53,183,121,1.52667567476783e-07); >   </text></div><div id = \"input4\"> <text style=color:white;background-color:rgba(53,183,121,0.08907473087310791); > d </text><text style=color:white;background-color:rgba(53,183,121,0.2559022307395935); > e </text><text style=color:white;background-color:rgba(53,183,121,0.01214220467954874); > v </text><text style=color:white;background-color:rgba(53,183,121,6.18480407865718e-05); > a </text><text style=color:white;background-color:rgba(53,183,121,0.22661477327346802); > n </text><text style=color:white;background-color:rgba(53,183,121,1.49465063259413e-06); > a </text><text style=color:white;background-color:rgba(53,183,121,1.7785787349566817e-05); > g </text><text style=color:white;background-color:rgba(53,183,121,1.0677258899249864e-07); > a </text><text style=color:white;background-color:rgba(53,183,121,0.41592803597450256); > r </text><text style=color:white;background-color:rgba(53,183,121,2.2377796994987875e-05); > i </text><text style=color:white;background-color:rgba(53,183,121,0.00016753650561440736); >   </text><text style=color:white;background-color:rgba(53,183,121,3.076779830735177e-05); >   </text><text style=color:white;background-color:rgba(53,183,121,1.7257887520827353e-05); >   </text><text style=color:white;background-color:rgba(53,183,121,6.674932592432015e-06); >   </text><text style=color:white;background-color:rgba(53,183,121,3.011811713804491e-06); >   </text><text style=color:white;background-color:rgba(53,183,121,2.0931402104906738e-06); >   </text><text style=color:white;background-color:rgba(53,183,121,1.8446319245413179e-06); >   </text><text style=color:white;background-color:rgba(53,183,121,1.7685141529000248e-06); >   </text><text style=color:white;background-color:rgba(53,183,121,1.7527778481962741e-06); >   </text><text style=color:white;background-color:rgba(53,183,121,1.773166786733782e-06); >   </text></div><div id = \"input5\"> <text style=color:white;background-color:rgba(53,183,121,0.008285383693873882); > d </text><text style=color:white;background-color:rgba(53,183,121,0.07947807759046555); > e </text><text style=color:white;background-color:rgba(53,183,121,0.005624040961265564); > v </text><text style=color:white;background-color:rgba(53,183,121,4.454063673620112e-05); > a </text><text style=color:white;background-color:rgba(53,183,121,0.011282196268439293); > n </text><text style=color:white;background-color:rgba(53,183,121,3.146069502690807e-07); > a </text><text style=color:white;background-color:rgba(53,183,121,5.565182618738618e-06); > g </text><text style=color:white;background-color:rgba(53,183,121,1.0086150581400943e-08); > a </text><text style=color:white;background-color:rgba(53,183,121,0.8950933218002319); > r </text><text style=color:white;background-color:rgba(53,183,121,6.81609481034684e-06); > i </text><text style=color:white;background-color:rgba(53,183,121,0.0001628860627533868); >   </text><text style=color:white;background-color:rgba(53,183,121,1.122943103837315e-05); >   </text><text style=color:white;background-color:rgba(53,183,121,3.264122824475635e-06); >   </text><text style=color:white;background-color:rgba(53,183,121,9.403775038663298e-07); >   </text><text style=color:white;background-color:rgba(53,183,121,3.587784647152148e-07); >   </text><text style=color:white;background-color:rgba(53,183,121,2.1895991153542127e-07); >   </text><text style=color:white;background-color:rgba(53,183,121,1.8503503440570057e-07); >   </text><text style=color:white;background-color:rgba(53,183,121,1.7567819554642483e-07); >   </text><text style=color:white;background-color:rgba(53,183,121,1.734438086486989e-07); >   </text><text style=color:white;background-color:rgba(53,183,121,1.7454941314554162e-07); >   </text></div><div id = \"input6\"> <text style=color:white;background-color:rgba(53,183,121,0.028318291530013084); > d </text><text style=color:white;background-color:rgba(53,183,121,0.12832972407341003); > e </text><text style=color:white;background-color:rgba(53,183,121,0.012833798304200172); > v </text><text style=color:white;background-color:rgba(53,183,121,0.00014133490913081914); > a </text><text style=color:white;background-color:rgba(53,183,121,0.046671293675899506); > n </text><text style=color:white;background-color:rgba(53,183,121,4.689302386395866e-06); > a </text><text style=color:white;background-color:rgba(53,183,121,6.314507481874898e-05); > g </text><text style=color:white;background-color:rgba(53,183,121,1.092665584678798e-07); > a </text><text style=color:white;background-color:rgba(53,183,121,0.7829791903495789); > r </text><text style=color:white;background-color:rgba(53,183,121,2.6001829610322602e-05); > i </text><text style=color:white;background-color:rgba(53,183,121,0.000522815331351012); >   </text><text style=color:white;background-color:rgba(53,183,121,6.68830907670781e-05); >   </text><text style=color:white;background-color:rgba(53,183,121,2.6211509975837544e-05); >   </text><text style=color:white;background-color:rgba(53,183,121,6.847378699603723e-06); >   </text><text style=color:white;background-color:rgba(53,183,121,2.6293744213035097e-06); >   </text><text style=color:white;background-color:rgba(53,183,121,1.6277044778689742e-06); >   </text><text style=color:white;background-color:rgba(53,183,121,1.3744476063948241e-06); >   </text><text style=color:white;background-color:rgba(53,183,121,1.3037753205935587e-06); >   </text><text style=color:white;background-color:rgba(53,183,121,1.2907825066577061e-06); >   </text><text style=color:white;background-color:rgba(53,183,121,1.308605988015188e-06); >   </text></div><div id = \"input7\"> <text style=color:white;background-color:rgba(53,183,121,0.06988677382469177); > d </text><text style=color:white;background-color:rgba(53,183,121,0.18964757025241852); > e </text><text style=color:white;background-color:rgba(53,183,121,0.10075200349092484); > v </text><text style=color:white;background-color:rgba(53,183,121,0.010035073384642601); > a </text><text style=color:white;background-color:rgba(53,183,121,0.1014556735754013); > n </text><text style=color:white;background-color:rgba(53,183,121,0.0012588980607688427); > a </text><text style=color:white;background-color:rgba(53,183,121,0.00203040917403996); > g </text><text style=color:white;background-color:rgba(53,183,121,2.3513075575465336e-05); > a </text><text style=color:white;background-color:rgba(53,183,121,0.50163334608078); > r </text><text style=color:white;background-color:rgba(53,183,121,0.0012034435058012605); > i </text><text style=color:white;background-color:rgba(53,183,121,0.009840385988354683); >   </text><text style=color:white;background-color:rgba(53,183,121,0.003250850597396493); >   </text><text style=color:white;background-color:rgba(53,183,121,0.002971282694488764); >   </text><text style=color:white;background-color:rgba(53,183,121,0.0019147577695548534); >   </text><text style=color:white;background-color:rgba(53,183,121,0.0010413088602945209); >   </text><text style=color:white;background-color:rgba(53,183,121,0.0007027059327811003); >   </text><text style=color:white;background-color:rgba(53,183,121,0.0006095034186728299); >   </text><text style=color:white;background-color:rgba(53,183,121,0.0005828887224197388); >   </text><text style=color:white;background-color:rgba(53,183,121,0.000577091530431062); >   </text><text style=color:white;background-color:rgba(53,183,121,0.000582496402785182); >   </text></div><div id = \"input8\"> <text style=color:white;background-color:rgba(53,183,121,0.04900391772389412); > d </text><text style=color:white;background-color:rgba(53,183,121,0.1988186240196228); > e </text><text style=color:white;background-color:rgba(53,183,121,0.11296194046735764); > v </text><text style=color:white;background-color:rgba(53,183,121,0.016682429239153862); > a </text><text style=color:white;background-color:rgba(53,183,121,0.0867757797241211); > n </text><text style=color:white;background-color:rgba(53,183,121,0.002373968716710806); > a </text><text style=color:white;background-color:rgba(53,183,121,0.009570132941007614); > g </text><text style=color:white;background-color:rgba(53,183,121,4.578803782351315e-05); > a </text><text style=color:white;background-color:rgba(53,183,121,0.4764091670513153); > r </text><text style=color:white;background-color:rgba(53,183,121,0.004454176872968674); > i </text><text style=color:white;background-color:rgba(53,183,121,0.021080482751131058); >   </text><text style=color:white;background-color:rgba(53,183,121,0.008318372070789337); >   </text><text style=color:white;background-color:rgba(53,183,121,0.006378963589668274); >   </text><text style=color:white;background-color:rgba(53,183,121,0.002469572937116027); >   </text><text style=color:white;background-color:rgba(53,183,121,0.0011306734522804618); >   </text><text style=color:white;background-color:rgba(53,183,121,0.0007884976221248507); >   </text><text style=color:white;background-color:rgba(53,183,121,0.000701313023455441); >   </text><text style=color:white;background-color:rgba(53,183,121,0.0006784076103940606); >   </text><text style=color:white;background-color:rgba(53,183,121,0.000675252522341907); >   </text><text style=color:white;background-color:rgba(53,183,121,0.0006824984448030591); >   </text></div><div id = \"input9\"> <text style=color:white;background-color:rgba(53,183,121,0.015188316814601421); > d </text><text style=color:white;background-color:rgba(53,183,121,0.047567468136548996); > e </text><text style=color:white;background-color:rgba(53,183,121,0.05495027080178261); > v </text><text style=color:white;background-color:rgba(53,183,121,0.0018219490302726626); > a </text><text style=color:white;background-color:rgba(53,183,121,0.03245790675282478); > n </text><text style=color:white;background-color:rgba(53,183,121,0.0008171419030986726); > a </text><text style=color:white;background-color:rgba(53,183,121,0.0032798582687973976); > g </text><text style=color:white;background-color:rgba(53,183,121,2.877140104828868e-05); > a </text><text style=color:white;background-color:rgba(53,183,121,0.7880264520645142); > r </text><text style=color:white;background-color:rgba(53,183,121,0.014618251472711563); > i </text><text style=color:white;background-color:rgba(53,183,121,0.02999819628894329); >   </text><text style=color:white;background-color:rgba(53,183,121,0.006445837672799826); >   </text><text style=color:white;background-color:rgba(53,183,121,0.0026800488121807575); >   </text><text style=color:white;background-color:rgba(53,183,121,0.0008718693861737847); >   </text><text style=color:white;background-color:rgba(53,183,121,0.00033893578802235425); >   </text><text style=color:white;background-color:rgba(53,183,121,0.00021265921532176435); >   </text><text style=color:white;background-color:rgba(53,183,121,0.00018181797349825501); >   </text><text style=color:white;background-color:rgba(53,183,121,0.00017296789155807346); >   </text><text style=color:white;background-color:rgba(53,183,121,0.00017044972628355026); >   </text><text style=color:white;background-color:rgba(53,183,121,0.00017076112271752208); >   </text></div><div id = \"input10\"> <text style=color:white;background-color:rgba(53,183,121,0.021054375916719437); > d </text><text style=color:white;background-color:rgba(53,183,121,0.05225454643368721); > e </text><text style=color:white;background-color:rgba(53,183,121,0.0544327050447464); > v </text><text style=color:white;background-color:rgba(53,183,121,0.0017116295639425516); > a </text><text style=color:white;background-color:rgba(53,183,121,0.0418538972735405); > n </text><text style=color:white;background-color:rgba(53,183,121,0.00010807601938722655); > a </text><text style=color:white;background-color:rgba(53,183,121,0.0010882673086598516); > g </text><text style=color:white;background-color:rgba(53,183,121,2.392446504018153e-06); > a </text><text style=color:white;background-color:rgba(53,183,121,0.8221269249916077); > r </text><text style=color:white;background-color:rgba(53,183,121,0.0006963632768020034); > i </text><text style=color:white;background-color:rgba(53,183,121,0.003223172388970852); >   </text><text style=color:white;background-color:rgba(53,183,121,0.0007129966397769749); >   </text><text style=color:white;background-color:rgba(53,183,121,0.0003543283964972943); >   </text><text style=color:white;background-color:rgba(53,183,121,0.0001345189375570044); >   </text><text style=color:white;background-color:rgba(53,183,121,6.019835564075038e-05); >   </text><text style=color:white;background-color:rgba(53,183,121,4.17323135479819e-05); >   </text><text style=color:white;background-color:rgba(53,183,121,3.7056583096273243e-05); >   </text><text style=color:white;background-color:rgba(53,183,121,3.573498179321177e-05); >   </text><text style=color:white;background-color:rgba(53,183,121,3.542275226209313e-05); >   </text><text style=color:white;background-color:rgba(53,183,121,3.5614681110018864e-05); >   </text></div><div id = \"input11\"> <text style=color:white;background-color:rgba(53,183,121,0.022255225107073784); > d </text><text style=color:white;background-color:rgba(53,183,121,0.0583791621029377); > e </text><text style=color:white;background-color:rgba(53,183,121,0.05600253492593765); > v </text><text style=color:white;background-color:rgba(53,183,121,0.0011763394577428699); > a </text><text style=color:white;background-color:rgba(53,183,121,0.035143688321113586); > n </text><text style=color:white;background-color:rgba(53,183,121,5.084673102828674e-05); > a </text><text style=color:white;background-color:rgba(53,183,121,0.0005061225965619087); > g </text><text style=color:white;background-color:rgba(53,183,121,1.0072675422634347e-06); > a </text><text style=color:white;background-color:rgba(53,183,121,0.8232738375663757); > r </text><text style=color:white;background-color:rgba(53,183,121,0.00033980520674958825); > i </text><text style=color:white;background-color:rgba(53,183,121,0.002039327984675765); >   </text><text style=color:white;background-color:rgba(53,183,121,0.00041911369771696627); >   </text><text style=color:white;background-color:rgba(53,183,121,0.00020505428256001323); >   </text><text style=color:white;background-color:rgba(53,183,121,7.524312241002917e-05); >   </text><text style=color:white;background-color:rgba(53,183,121,3.287426079623401e-05); >   </text><text style=color:white;background-color:rgba(53,183,121,2.252199556096457e-05); >   </text><text style=color:white;background-color:rgba(53,183,121,1.9917033569072373e-05); >   </text><text style=color:white;background-color:rgba(53,183,121,1.919088390422985e-05); >   </text><text style=color:white;background-color:rgba(53,183,121,1.9038452592212707e-05); >   </text><text style=color:white;background-color:rgba(53,183,121,1.91821382031776e-05); >   </text></div><div id = \"input12\"> <text style=color:white;background-color:rgba(53,183,121,0.024660330265760422); > d </text><text style=color:white;background-color:rgba(53,183,121,0.0635441392660141); > e </text><text style=color:white;background-color:rgba(53,183,121,0.061428312212228775); > v </text><text style=color:white;background-color:rgba(53,183,121,0.0011996515095233917); > a </text><text style=color:white;background-color:rgba(53,183,121,0.03668440133333206); > n </text><text style=color:white;background-color:rgba(53,183,121,4.9920494348043576e-05); > a </text><text style=color:white;background-color:rgba(53,183,121,0.0005212239339016378); > g </text><text style=color:white;background-color:rgba(53,183,121,9.677037269284483e-07); > a </text><text style=color:white;background-color:rgba(53,183,121,0.8087380528450012); > r </text><text style=color:white;background-color:rgba(53,183,121,0.0003214867028873414); > i </text><text style=color:white;background-color:rgba(53,183,121,0.0020308562088757753); >   </text><text style=color:white;background-color:rgba(53,183,121,0.0004178074887022376); >   </text><text style=color:white;background-color:rgba(53,183,121,0.0002009385934798047); >   </text><text style=color:white;background-color:rgba(53,183,121,7.214264769572765e-05); >   </text><text style=color:white;background-color:rgba(53,183,121,3.184891102137044e-05); >   </text><text style=color:white;background-color:rgba(53,183,121,2.2011290639056824e-05); >   </text><text style=color:white;background-color:rgba(53,183,121,1.9521148715284653e-05); >   </text><text style=color:white;background-color:rgba(53,183,121,1.8834292859537527e-05); >   </text><text style=color:white;background-color:rgba(53,183,121,1.8702879970078357e-05); >   </text><text style=color:white;background-color:rgba(53,183,121,1.8863469449570403e-05); >   </text></div><div id = \"input13\"> <text style=color:white;background-color:rgba(53,183,121,0.025582730770111084); > d </text><text style=color:white;background-color:rgba(53,183,121,0.06753025949001312); > e </text><text style=color:white;background-color:rgba(53,183,121,0.06522016227245331); > v </text><text style=color:white;background-color:rgba(53,183,121,0.0012491741217672825); > a </text><text style=color:white;background-color:rgba(53,183,121,0.03879930451512337); > n </text><text style=color:white;background-color:rgba(53,183,121,4.8513767978874967e-05); > a </text><text style=color:white;background-color:rgba(53,183,121,0.0005204099579714239); > g </text><text style=color:white;background-color:rgba(53,183,121,8.437316409981577e-07); > a </text><text style=color:white;background-color:rgba(53,183,121,0.7976280450820923); > r </text><text style=color:white;background-color:rgba(53,183,121,0.0003187146794516593); > i </text><text style=color:white;background-color:rgba(53,183,121,0.0022467062808573246); >   </text><text style=color:white;background-color:rgba(53,183,121,0.00044711228110827506); >   </text><text style=color:white;background-color:rgba(53,183,121,0.0002068041212623939); >   </text><text style=color:white;background-color:rgba(53,183,121,7.245494634844363e-05); >   </text><text style=color:white;background-color:rgba(53,183,121,3.173035293002613e-05); >   </text><text style=color:white;background-color:rgba(53,183,121,2.1850693883607164e-05); >   </text><text style=color:white;background-color:rgba(53,183,121,1.9347604393260553e-05); >   </text><text style=color:white;background-color:rgba(53,183,121,1.8652477592695504e-05); >   </text><text style=color:white;background-color:rgba(53,183,121,1.8513836039346643e-05); >   </text><text style=color:white;background-color:rgba(53,183,121,1.8667513359105214e-05); >   </text></div><div id = \"input14\"> <text style=color:white;background-color:rgba(53,183,121,0.02667846530675888); > d </text><text style=color:white;background-color:rgba(53,183,121,0.07186122238636017); > e </text><text style=color:white;background-color:rgba(53,183,121,0.06882294267416); > v </text><text style=color:white;background-color:rgba(53,183,121,0.0013231445336714387); > a </text><text style=color:white;background-color:rgba(53,183,121,0.04177337512373924); > n </text><text style=color:white;background-color:rgba(53,183,121,4.879483822151087e-05); > a </text><text style=color:white;background-color:rgba(53,183,121,0.0005387915880419314); > g </text><text style=color:white;background-color:rgba(53,183,121,7.774641517244163e-07); > a </text><text style=color:white;background-color:rgba(53,183,121,0.7851725220680237); > r </text><text style=color:white;background-color:rgba(53,183,121,0.0003260337689425796); > i </text><text style=color:white;background-color:rgba(53,183,121,0.002532735001295805); >   </text><text style=color:white;background-color:rgba(53,183,121,0.0004909902345389128); >   </text><text style=color:white;background-color:rgba(53,183,121,0.00022062199423089623); >   </text><text style=color:white;background-color:rgba(53,183,121,7.604015263495967e-05); >   </text><text style=color:white;background-color:rgba(53,183,121,3.303586345282383e-05); >   </text><text style=color:white;background-color:rgba(53,183,121,2.2660135073238052e-05); >   </text><text style=color:white;background-color:rgba(53,183,121,2.0032237443956546e-05); >   </text><text style=color:white;background-color:rgba(53,183,121,1.9296203390695155e-05); >   </text><text style=color:white;background-color:rgba(53,183,121,1.914127278723754e-05); >   </text><text style=color:white;background-color:rgba(53,183,121,1.928979872900527e-05); >   </text></div><div id = \"input15\"> <text style=color:white;background-color:rgba(53,183,121,0.027364926412701607); > d </text><text style=color:white;background-color:rgba(53,183,121,0.07491939514875412); > e </text><text style=color:white;background-color:rgba(53,183,121,0.07003230601549149); > v </text><text style=color:white;background-color:rgba(53,183,121,0.0013471338897943497); > a </text><text style=color:white;background-color:rgba(53,183,121,0.043156348168849945); > n </text><text style=color:white;background-color:rgba(53,183,121,4.722478115581907e-05); > a </text><text style=color:white;background-color:rgba(53,183,121,0.000528728764038533); > g </text><text style=color:white;background-color:rgba(53,183,121,7.298325499505154e-07); > a </text><text style=color:white;background-color:rgba(53,183,121,0.7787788510322571); > r </text><text style=color:white;background-color:rgba(53,183,121,0.0003125910589005798); > i </text><text style=color:white;background-color:rgba(53,183,121,0.002586789196357131); >   </text><text style=color:white;background-color:rgba(53,183,121,0.0004950008587911725); >   </text><text style=color:white;background-color:rgba(53,183,121,0.00022089410049375147); >   </text><text style=color:white;background-color:rgba(53,183,121,7.631799962837249e-05); >   </text><text style=color:white;background-color:rgba(53,183,121,3.300029129604809e-05); >   </text><text style=color:white;background-color:rgba(53,183,121,2.2554522729478776e-05); >   </text><text style=color:white;background-color:rgba(53,183,121,1.9913544747396372e-05); >   </text><text style=color:white;background-color:rgba(53,183,121,1.9170311134075746e-05); >   </text><text style=color:white;background-color:rgba(53,183,121,1.9009210518561304e-05); >   </text><text style=color:white;background-color:rgba(53,183,121,1.9151160813635215e-05); >   </text></div><div id = \"input16\"> <text style=color:white;background-color:rgba(53,183,121,0.027713444083929062); > d </text><text style=color:white;background-color:rgba(53,183,121,0.07647484540939331); > e </text><text style=color:white;background-color:rgba(53,183,121,0.0705435648560524); > v </text><text style=color:white;background-color:rgba(53,183,121,0.001352485385723412); > a </text><text style=color:white;background-color:rgba(53,183,121,0.04365874454379082); > n </text><text style=color:white;background-color:rgba(53,183,121,4.6196299081202596e-05); > a </text><text style=color:white;background-color:rgba(53,183,121,0.0005200306186452508); > g </text><text style=color:white;background-color:rgba(53,183,121,7.0761024062449e-07); > a </text><text style=color:white;background-color:rgba(53,183,121,0.7758797407150269); > r </text><text style=color:white;background-color:rgba(53,183,121,0.0003039875300601125); > i </text><text style=color:white;background-color:rgba(53,183,121,0.002586131216958165); >   </text><text style=color:white;background-color:rgba(53,183,121,0.0004926631809212267); >   </text><text style=color:white;background-color:rgba(53,183,121,0.00021948243374936283); >   </text><text style=color:white;background-color:rgba(53,183,121,7.601533434353769e-05); >   </text><text style=color:white;background-color:rgba(53,183,121,3.282237230450846e-05); >   </text><text style=color:white;background-color:rgba(53,183,121,2.239880086563062e-05); >   </text><text style=color:white;background-color:rgba(53,183,121,1.9765213437494822e-05); >   </text><text style=color:white;background-color:rgba(53,183,121,1.90228547580773e-05); >   </text><text style=color:white;background-color:rgba(53,183,121,1.88604408322135e-05); >   </text><text style=color:white;background-color:rgba(53,183,121,1.899950257211458e-05); >   </text></div><div id = \"input17\"> <text style=color:white;background-color:rgba(53,183,121,0.027749357745051384); > d </text><text style=color:white;background-color:rgba(53,183,121,0.07682022452354431); > e </text><text style=color:white;background-color:rgba(53,183,121,0.07063060253858566); > v </text><text style=color:white;background-color:rgba(53,183,121,0.0013517341576516628); > a </text><text style=color:white;background-color:rgba(53,183,121,0.04367581754922867); > n </text><text style=color:white;background-color:rgba(53,183,121,4.5914097427157685e-05); > a </text><text style=color:white;background-color:rgba(53,183,121,0.0005174657562747598); > g </text><text style=color:white;background-color:rgba(53,183,121,7.012449714238755e-07); > a </text><text style=color:white;background-color:rgba(53,183,121,0.7754085063934326); > r </text><text style=color:white;background-color:rgba(53,183,121,0.00030123910983093083); > i </text><text style=color:white;background-color:rgba(53,183,121,0.002580858301371336); >   </text><text style=color:white;background-color:rgba(53,183,121,0.0004913592129014432); >   </text><text style=color:white;background-color:rgba(53,183,121,0.00021888292394578457); >   </text><text style=color:white;background-color:rgba(53,183,121,7.587923755636439e-05); >   </text><text style=color:white;background-color:rgba(53,183,121,3.274124173913151e-05); >   </text><text style=color:white;background-color:rgba(53,183,121,2.23298447963316e-05); >   </text><text style=color:white;background-color:rgba(53,183,121,1.9700419215951115e-05); >   </text><text style=color:white;background-color:rgba(53,183,121,1.89588845387334e-05); >   </text><text style=color:white;background-color:rgba(53,183,121,1.8795977666741237e-05); >   </text><text style=color:white;background-color:rgba(53,183,121,1.8933678802568465e-05); >   </text></div><div id = \"input18\"> <text style=color:white;background-color:rgba(53,183,121,0.027752336114645004); > d </text><text style=color:white;background-color:rgba(53,183,121,0.07688761502504349); > e </text><text style=color:white;background-color:rgba(53,183,121,0.07069580256938934); > v </text><text style=color:white;background-color:rgba(53,183,121,0.0013520887587219477); > a </text><text style=color:white;background-color:rgba(53,183,121,0.04363786429166794); > n </text><text style=color:white;background-color:rgba(53,183,121,4.5845161366742104e-05); > a </text><text style=color:white;background-color:rgba(53,183,121,0.0005169943906366825); > g </text><text style=color:white;background-color:rgba(53,183,121,6.995493322392576e-07); > a </text><text style=color:white;background-color:rgba(53,183,121,0.7753157019615173); > r </text><text style=color:white;background-color:rgba(53,183,121,0.00030036858515813947); > i </text><text style=color:white;background-color:rgba(53,183,121,0.0025783011224120855); >   </text><text style=color:white;background-color:rgba(53,183,121,0.0004907614202238619); >   </text><text style=color:white;background-color:rgba(53,183,121,0.0002185957710025832); >   </text><text style=color:white;background-color:rgba(53,183,121,7.577556243631989e-05); >   </text><text style=color:white;background-color:rgba(53,183,121,3.268821819801815e-05); >   </text><text style=color:white;background-color:rgba(53,183,121,2.229108940809965e-05); >   </text><text style=color:white;background-color:rgba(53,183,121,1.966570198419504e-05); >   </text><text style=color:white;background-color:rgba(53,183,121,1.892532964120619e-05); >   </text><text style=color:white;background-color:rgba(53,183,121,1.876263922895305e-05); >   </text><text style=color:white;background-color:rgba(53,183,121,1.8899932911153883e-05); >   </text></div> </body> </html>"
            ],
            "text/plain": [
              "<IPython.core.display.HTML object>"
            ]
          },
          "metadata": {
            "tags": []
          }
        },
        {
          "output_type": "display_data",
          "data": {
            "text/html": [
              "<html><h1>Attention corresponding to 2 decoder layer</h1></html>"
            ],
            "text/plain": [
              "<IPython.core.display.HTML object>"
            ]
          },
          "metadata": {
            "tags": []
          }
        },
        {
          "output_type": "display_data",
          "data": {
            "text/html": [
              "<!DOCTYPE html> <html>  <head>  <style>  h2 {color:#636363; text-align: center; font-size: 27px; padding: 3px 5px 3px 5px;} div {text-align: center; width: 85%; margin: auto;} text {text-align: center; font-size: 25px; padding: 3px 5px 3px 5px; font-family: Arial, Helvetica, sans-serif; }  #input0 { display:block; background-color:#365d8d; }  #input1 { display : none; background-color:#365d8d; }  #input2 { display : none; background-color:#365d8d; }  #input3 { display : none; background-color:#365d8d; }  #input4 { display : none; background-color:#365d8d; }  #input5 { display : none; background-color:#365d8d; }  #input6 { display : none; background-color:#365d8d; }  #input7 { display : none; background-color:#365d8d; }  #input8 { display : none; background-color:#365d8d; }  #input9 { display : none; background-color:#365d8d; }  #input10 { display : none; background-color:#365d8d; }  #input11 { display : none; background-color:#365d8d; }  #input12 { display : none; background-color:#365d8d; }  #input13 { display : none; background-color:#365d8d; }  #input14 { display : none; background-color:#365d8d; }  #input15 { display : none; background-color:#365d8d; }  #input16 { display : none; background-color:#365d8d; }  #input17 { display : none; background-color:#365d8d; }  #input18 { display : none; background-color:#365d8d; }  .output0 { background-color:#365d8d; }  .output0:hover { background-color:#35b779; text-decoration:underline; text-decoration-color: white; }  .output0:hover ~#input0 { display : block; background-color:#365d8d;  }  .output1 { background-color:#365d8d; }  .output1:hover { background-color:#35b779; text-decoration:underline; text-decoration-color: white;  }  .output1:hover ~#input0 { display : none; background-color:#365d8d; }  .output1:hover ~#input1 { display : block; background-color:#365d8d; }  .output2 { background-color:#365d8d; }  .output2:hover { background-color:#35b779; text-decoration:underline; text-decoration-color: white;  }  .output2:hover ~#input0 { display : none; background-color:#365d8d; }  .output2:hover ~#input2 { display : block; background-color:#365d8d; }  .output3 { background-color:#365d8d; }  .output3:hover { background-color:#35b779; text-decoration:underline; text-decoration-color: white;  }  .output3:hover ~#input0 { display : none; background-color:#365d8d; }  .output3:hover ~#input3 { display : block; background-color:#365d8d; }  .output4 { background-color:#365d8d; }  .output4:hover { background-color:#35b779; text-decoration:underline; text-decoration-color: white;  }  .output4:hover ~#input0 { display : none; background-color:#365d8d; }  .output4:hover ~#input4 { display : block; background-color:#365d8d; }  .output5 { background-color:#365d8d; }  .output5:hover { background-color:#35b779; text-decoration:underline; text-decoration-color: white;  }  .output5:hover ~#input0 { display : none; background-color:#365d8d; }  .output5:hover ~#input5 { display : block; background-color:#365d8d; }  .output6 { background-color:#365d8d; }  .output6:hover { background-color:#35b779; text-decoration:underline; text-decoration-color: white;  }  .output6:hover ~#input0 { display : none; background-color:#365d8d; }  .output6:hover ~#input6 { display : block; background-color:#365d8d; }  .output7 { background-color:#365d8d; }  .output7:hover { background-color:#35b779; text-decoration:underline; text-decoration-color: white;  }  .output7:hover ~#input0 { display : none; background-color:#365d8d; }  .output7:hover ~#input7 { display : block; background-color:#365d8d; }  .output8 { background-color:#365d8d; }  .output8:hover { background-color:#35b779; text-decoration:underline; text-decoration-color: white;  }  .output8:hover ~#input0 { display : none; background-color:#365d8d; }  .output8:hover ~#input8 { display : block; background-color:#365d8d; }  .output9 { background-color:#365d8d; }  .output9:hover { background-color:#35b779; text-decoration:underline; text-decoration-color: white;  }  .output9:hover ~#input0 { display : none; background-color:#365d8d; }  .output9:hover ~#input9 { display : block; background-color:#365d8d; }  .output10 { background-color:#365d8d; }  .output10:hover { background-color:#35b779; text-decoration:underline; text-decoration-color: white;  }  .output10:hover ~#input0 { display : none; background-color:#365d8d; }  .output10:hover ~#input10 { display : block; background-color:#365d8d; }  .output11 { background-color:#365d8d; }  .output11:hover { background-color:#35b779; text-decoration:underline; text-decoration-color: white;  }  .output11:hover ~#input0 { display : none; background-color:#365d8d; }  .output11:hover ~#input11 { display : block; background-color:#365d8d; }  .output12 { background-color:#365d8d; }  .output12:hover { background-color:#35b779; text-decoration:underline; text-decoration-color: white;  }  .output12:hover ~#input0 { display : none; background-color:#365d8d; }  .output12:hover ~#input12 { display : block; background-color:#365d8d; }  .output13 { background-color:#365d8d; }  .output13:hover { background-color:#35b779; text-decoration:underline; text-decoration-color: white;  }  .output13:hover ~#input0 { display : none; background-color:#365d8d; }  .output13:hover ~#input13 { display : block; background-color:#365d8d; }  .output14 { background-color:#365d8d; }  .output14:hover { background-color:#35b779; text-decoration:underline; text-decoration-color: white;  }  .output14:hover ~#input0 { display : none; background-color:#365d8d; }  .output14:hover ~#input14 { display : block; background-color:#365d8d; }  .output15 { background-color:#365d8d; }  .output15:hover { background-color:#35b779; text-decoration:underline; text-decoration-color: white;  }  .output15:hover ~#input0 { display : none; background-color:#365d8d; }  .output15:hover ~#input15 { display : block; background-color:#365d8d; }  .output16 { background-color:#365d8d; }  .output16:hover { background-color:#35b779; text-decoration:underline; text-decoration-color: white;  }  .output16:hover ~#input0 { display : none; background-color:#365d8d; }  .output16:hover ~#input16 { display : block; background-color:#365d8d; }  .output17 { background-color:#365d8d; }  .output17:hover { background-color:#35b779; text-decoration:underline; text-decoration-color: white;  }  .output17:hover ~#input0 { display : none; background-color:#365d8d; }  .output17:hover ~#input17 { display : block; background-color:#365d8d; }  .output18 { background-color:#365d8d; }  .output18:hover { background-color:#35b779; text-decoration:underline; text-decoration-color: white;  }  .output18:hover ~#input0 { display : none; background-color:#365d8d; }  .output18:hover ~#input18 { display : block; background-color:#365d8d; }  </style>  </head>  <body>  <h2> Output Text </h2> <text class = \"output0\" style=color:white; > द </text><text class = \"output1\" style=color:white; > े </text><text class = \"output2\" style=color:white; > व </text><text class = \"output3\" style=color:white; > ा </text><text class = \"output4\" style=color:white; > न </text><text class = \"output5\" style=color:white; > ग </text><text class = \"output6\" style=color:white; > र </text><text class = \"output7\" style=color:white; > ी </text><text class = \"output8\" style=color:white; >   </text><text class = \"output9\" style=color:white; >   </text><text class = \"output10\" style=color:white; >   </text><text class = \"output11\" style=color:white; >   </text><text class = \"output12\" style=color:white; >   </text><text class = \"output13\" style=color:white; >   </text><text class = \"output14\" style=color:white; >   </text><text class = \"output15\" style=color:white; >   </text><text class = \"output16\" style=color:white; >   </text><text class = \"output17\" style=color:white; >   </text><text class = \"output18\" style=color:white; >   </text> <h2> Input Text </h2> <div id = \"input0\"> <text style=color:white;background-color:rgba(53,183,121,0.8806632161140442); > d </text><text style=color:white;background-color:rgba(53,183,121,0.10239969193935394); > e </text><text style=color:white;background-color:rgba(53,183,121,5.0270158681087196e-05); > v </text><text style=color:white;background-color:rgba(53,183,121,5.602068085863721e-06); > a </text><text style=color:white;background-color:rgba(53,183,121,3.1534241315966938e-06); > n </text><text style=color:white;background-color:rgba(53,183,121,4.997832547815051e-07); > a </text><text style=color:white;background-color:rgba(53,183,121,1.9258200723015761e-07); > g </text><text style=color:white;background-color:rgba(53,183,121,8.177257200259191e-07); > a </text><text style=color:white;background-color:rgba(53,183,121,4.089012509211898e-05); > r </text><text style=color:white;background-color:rgba(53,183,121,4.827612883673282e-06); > i </text><text style=color:white;background-color:rgba(53,183,121,3.175894744344987e-05); >   </text><text style=color:white;background-color:rgba(53,183,121,0.0001659803674556315); >   </text><text style=color:white;background-color:rgba(53,183,121,0.0004455224552657455); >   </text><text style=color:white;background-color:rgba(53,183,121,0.001123290043324232); >   </text><text style=color:white;background-color:rgba(53,183,121,0.001980421831831336); >   </text><text style=color:white;background-color:rgba(53,183,121,0.002419512951746583); >   </text><text style=color:white;background-color:rgba(53,183,121,0.0025762238074094057); >   </text><text style=color:white;background-color:rgba(53,183,121,0.0026491195894777775); >   </text><text style=color:white;background-color:rgba(53,183,121,0.0026988605968654156); >   </text><text style=color:white;background-color:rgba(53,183,121,0.002740195719525218); >   </text></div><div id = \"input1\"> <text style=color:white;background-color:rgba(53,183,121,0.004912304691970348); > d </text><text style=color:white;background-color:rgba(53,183,121,0.993228018283844); > e </text><text style=color:white;background-color:rgba(53,183,121,0.0018247754778712988); > v </text><text style=color:white;background-color:rgba(53,183,121,3.427930278121494e-05); > a </text><text style=color:white;background-color:rgba(53,183,121,5.540405823012406e-07); > n </text><text style=color:white;background-color:rgba(53,183,121,5.294207383599314e-08); > a </text><text style=color:white;background-color:rgba(53,183,121,2.7113808087619873e-08); > g </text><text style=color:white;background-color:rgba(53,183,121,8.786265226490286e-08); > a </text><text style=color:white;background-color:rgba(53,183,121,3.316311492085333e-08); > r </text><text style=color:white;background-color:rgba(53,183,121,1.0535347039208887e-09); > i </text><text style=color:white;background-color:rgba(53,183,121,6.191981372083433e-10); >   </text><text style=color:white;background-color:rgba(53,183,121,1.8604373597241874e-09); >   </text><text style=color:white;background-color:rgba(53,183,121,2.468772297703481e-09); >   </text><text style=color:white;background-color:rgba(53,183,121,3.1805527100914333e-09); >   </text><text style=color:white;background-color:rgba(53,183,121,3.7140550634973124e-09); >   </text><text style=color:white;background-color:rgba(53,183,121,4.0357539532465125e-09); >   </text><text style=color:white;background-color:rgba(53,183,121,4.168423828332379e-09); >   </text><text style=color:white;background-color:rgba(53,183,121,4.221116789437929e-09); >   </text><text style=color:white;background-color:rgba(53,183,121,4.236587525241475e-09); >   </text><text style=color:white;background-color:rgba(53,183,121,4.221737182064089e-09); >   </text></div><div id = \"input2\"> <text style=color:white;background-color:rgba(53,183,121,0.19967778027057648); > d </text><text style=color:white;background-color:rgba(53,183,121,0.27138954401016235); > e </text><text style=color:white;background-color:rgba(53,183,121,0.027250254526734352); > v </text><text style=color:white;background-color:rgba(53,183,121,0.5011470317840576); > a </text><text style=color:white;background-color:rgba(53,183,121,9.889427747111768e-05); > n </text><text style=color:white;background-color:rgba(53,183,121,0.00013294689415488392); > a </text><text style=color:white;background-color:rgba(53,183,121,2.702825076994486e-05); > g </text><text style=color:white;background-color:rgba(53,183,121,0.00026778594474308193); > a </text><text style=color:white;background-color:rgba(53,183,121,8.524279110133648e-06); > r </text><text style=color:white;background-color:rgba(53,183,121,4.1781145654340435e-08); > i </text><text style=color:white;background-color:rgba(53,183,121,5.835145255872476e-09); >   </text><text style=color:white;background-color:rgba(53,183,121,3.2255865534125405e-08); >   </text><text style=color:white;background-color:rgba(53,183,121,3.595136632839058e-08); >   </text><text style=color:white;background-color:rgba(53,183,121,2.2284424971985572e-08); >   </text><text style=color:white;background-color:rgba(53,183,121,1.3831541245679091e-08); >   </text><text style=color:white;background-color:rgba(53,183,121,1.1140526723352195e-08); >   </text><text style=color:white;background-color:rgba(53,183,121,1.0388352400525491e-08); >   </text><text style=color:white;background-color:rgba(53,183,121,1.0160044361384735e-08); >   </text><text style=color:white;background-color:rgba(53,183,121,1.0061116384463276e-08); >   </text><text style=color:white;background-color:rgba(53,183,121,9.96022464505586e-09); >   </text></div><div id = \"input3\"> <text style=color:white;background-color:rgba(53,183,121,0.01868273876607418); > d </text><text style=color:white;background-color:rgba(53,183,121,0.033271677792072296); > e </text><text style=color:white;background-color:rgba(53,183,121,0.06758704036474228); > v </text><text style=color:white;background-color:rgba(53,183,121,0.8761310577392578); > a </text><text style=color:white;background-color:rgba(53,183,121,0.00011401256051613018); > n </text><text style=color:white;background-color:rgba(53,183,121,0.0007346368511207402); > a </text><text style=color:white;background-color:rgba(53,183,121,0.0002617819991428405); > g </text><text style=color:white;background-color:rgba(53,183,121,0.0032116519287228584); > a </text><text style=color:white;background-color:rgba(53,183,121,2.796078433675575e-06); > r </text><text style=color:white;background-color:rgba(53,183,121,7.756768809485948e-07); > i </text><text style=color:white;background-color:rgba(53,183,121,4.1374306647412595e-08); >   </text><text style=color:white;background-color:rgba(53,183,121,4.2793539023477933e-07); >   </text><text style=color:white;background-color:rgba(53,183,121,3.338369367611449e-07); >   </text><text style=color:white;background-color:rgba(53,183,121,2.1954906515020411e-07); >   </text><text style=color:white;background-color:rgba(53,183,121,1.6949653058873082e-07); >   </text><text style=color:white;background-color:rgba(53,183,121,1.5309143464037334e-07); >   </text><text style=color:white;background-color:rgba(53,183,121,1.4732351871771243e-07); >   </text><text style=color:white;background-color:rgba(53,183,121,1.4460428587881324e-07); >   </text><text style=color:white;background-color:rgba(53,183,121,1.42415771620108e-07); >   </text><text style=color:white;background-color:rgba(53,183,121,1.3968436007871787e-07); >   </text></div><div id = \"input4\"> <text style=color:white;background-color:rgba(53,183,121,0.06955213099718094); > d </text><text style=color:white;background-color:rgba(53,183,121,0.022666573524475098); > e </text><text style=color:white;background-color:rgba(53,183,121,0.050099197775125504); > v </text><text style=color:white;background-color:rgba(53,183,121,0.4513440728187561); > a </text><text style=color:white;background-color:rgba(53,183,121,0.04380670189857483); > n </text><text style=color:white;background-color:rgba(53,183,121,0.17777162790298462); > a </text><text style=color:white;background-color:rgba(53,183,121,0.01258642878383398); > g </text><text style=color:white;background-color:rgba(53,183,121,0.17176634073257446); > a </text><text style=color:white;background-color:rgba(53,183,121,0.00033915528911165893); > r </text><text style=color:white;background-color:rgba(53,183,121,5.140936264069751e-05); > i </text><text style=color:white;background-color:rgba(53,183,121,1.674927716521779e-06); >   </text><text style=color:white;background-color:rgba(53,183,121,6.124972060206346e-06); >   </text><text style=color:white;background-color:rgba(53,183,121,3.7910338051005965e-06); >   </text><text style=color:white;background-color:rgba(53,183,121,1.6282937167488853e-06); >   </text><text style=color:white;background-color:rgba(53,183,121,7.03401440205198e-07); >   </text><text style=color:white;background-color:rgba(53,183,121,5.010934387428279e-07); >   </text><text style=color:white;background-color:rgba(53,183,121,4.5896081246610265e-07); >   </text><text style=color:white;background-color:rgba(53,183,121,4.4935845266991237e-07); >   </text><text style=color:white;background-color:rgba(53,183,121,4.4590788661480474e-07); >   </text><text style=color:white;background-color:rgba(53,183,121,4.411489840094873e-07); >   </text></div><div id = \"input5\"> <text style=color:white;background-color:rgba(53,183,121,0.015685223042964935); > d </text><text style=color:white;background-color:rgba(53,183,121,0.008388684131205082); > e </text><text style=color:white;background-color:rgba(53,183,121,0.041988808661699295); > v </text><text style=color:white;background-color:rgba(53,183,121,0.03131600096821785); > a </text><text style=color:white;background-color:rgba(53,183,121,0.0646771565079689); > n </text><text style=color:white;background-color:rgba(53,183,121,0.22183562815189362); > a </text><text style=color:white;background-color:rgba(53,183,121,0.060119353234767914); > g </text><text style=color:white;background-color:rgba(53,183,121,0.5496415495872498); > a </text><text style=color:white;background-color:rgba(53,183,121,0.004600259941071272); > r </text><text style=color:white;background-color:rgba(53,183,121,0.0014159741112962365); > i </text><text style=color:white;background-color:rgba(53,183,121,4.939242353430018e-05); >   </text><text style=color:white;background-color:rgba(53,183,121,0.00014133438526187092); >   </text><text style=color:white;background-color:rgba(53,183,121,5.964168667560443e-05); >   </text><text style=color:white;background-color:rgba(53,183,121,2.5944931621779688e-05); >   </text><text style=color:white;background-color:rgba(53,183,121,1.2717814570351038e-05); >   </text><text style=color:white;background-color:rgba(53,183,121,9.504749868938234e-06); >   </text><text style=color:white;background-color:rgba(53,183,121,8.636519851279445e-06); >   </text><text style=color:white;background-color:rgba(53,183,121,8.298827196995262e-06); >   </text><text style=color:white;background-color:rgba(53,183,121,8.094156328297686e-06); >   </text><text style=color:white;background-color:rgba(53,183,121,7.893469955888577e-06); >   </text></div><div id = \"input6\"> <text style=color:white;background-color:rgba(53,183,121,0.07545281201601028); > d </text><text style=color:white;background-color:rgba(53,183,121,0.014714022167026997); > e </text><text style=color:white;background-color:rgba(53,183,121,0.04175794869661331); > v </text><text style=color:white;background-color:rgba(53,183,121,0.017148250713944435); > a </text><text style=color:white;background-color:rgba(53,183,121,0.06744814664125443); > n </text><text style=color:white;background-color:rgba(53,183,121,0.20291364192962646); > a </text><text style=color:white;background-color:rgba(53,183,121,0.0217563696205616); > g </text><text style=color:white;background-color:rgba(53,183,121,0.49535974860191345); > a </text><text style=color:white;background-color:rgba(53,183,121,0.027199743315577507); > r </text><text style=color:white;background-color:rgba(53,183,121,0.02873331308364868); > i </text><text style=color:white;background-color:rgba(53,183,121,0.0024020117707550526); >   </text><text style=color:white;background-color:rgba(53,183,121,0.00345016666688025); >   </text><text style=color:white;background-color:rgba(53,183,121,0.0009613293805159628); >   </text><text style=color:white;background-color:rgba(53,183,121,0.000267871655523777); >   </text><text style=color:white;background-color:rgba(53,183,121,0.00010393849515821785); >   </text><text style=color:white;background-color:rgba(53,183,121,7.315386028494686e-05); >   </text><text style=color:white;background-color:rgba(53,183,121,6.616253813263029e-05); >   </text><text style=color:white;background-color:rgba(53,183,121,6.422950536943972e-05); >   </text><text style=color:white;background-color:rgba(53,183,121,6.36104159639217e-05); >   </text><text style=color:white;background-color:rgba(53,183,121,6.34123498457484e-05); >   </text></div><div id = \"input7\"> <text style=color:white;background-color:rgba(53,183,121,0.19057562947273254); > d </text><text style=color:white;background-color:rgba(53,183,121,0.028812376782298088); > e </text><text style=color:white;background-color:rgba(53,183,121,0.09695740044116974); > v </text><text style=color:white;background-color:rgba(53,183,121,0.022359296679496765); > a </text><text style=color:white;background-color:rgba(53,183,121,0.07192932069301605); > n </text><text style=color:white;background-color:rgba(53,183,121,0.04630104452371597); > a </text><text style=color:white;background-color:rgba(53,183,121,0.019259555265307426); > g </text><text style=color:white;background-color:rgba(53,183,121,0.11028052121400833); > a </text><text style=color:white;background-color:rgba(53,183,121,0.13156524300575256); > r </text><text style=color:white;background-color:rgba(53,183,121,0.19011999666690826); > i </text><text style=color:white;background-color:rgba(53,183,121,0.021460112184286118); >   </text><text style=color:white;background-color:rgba(53,183,121,0.0384935699403286); >   </text><text style=color:white;background-color:rgba(53,183,121,0.01634153723716736); >   </text><text style=color:white;background-color:rgba(53,183,121,0.005375409498810768); >   </text><text style=color:white;background-color:rgba(53,183,121,0.0023009544238448143); >   </text><text style=color:white;background-color:rgba(53,183,121,0.0017136691603809595); >   </text><text style=color:white;background-color:rgba(53,183,121,0.0015787601005285978); >   </text><text style=color:white;background-color:rgba(53,183,121,0.0015376092633232474); >   </text><text style=color:white;background-color:rgba(53,183,121,0.0015220103086903691); >   </text><text style=color:white;background-color:rgba(53,183,121,0.0015160071197897196); >   </text></div><div id = \"input8\"> <text style=color:white;background-color:rgba(53,183,121,0.0395171158015728); > d </text><text style=color:white;background-color:rgba(53,183,121,0.033872611820697784); > e </text><text style=color:white;background-color:rgba(53,183,121,0.027493000030517578); > v </text><text style=color:white;background-color:rgba(53,183,121,0.037366125732660294); > a </text><text style=color:white;background-color:rgba(53,183,121,0.04648657888174057); > n </text><text style=color:white;background-color:rgba(53,183,121,0.074514240026474); > a </text><text style=color:white;background-color:rgba(53,183,121,0.014195168390870094); > g </text><text style=color:white;background-color:rgba(53,183,121,0.13510219752788544); > a </text><text style=color:white;background-color:rgba(53,183,121,0.09696898609399796); > r </text><text style=color:white;background-color:rgba(53,183,121,0.31903037428855896); > i </text><text style=color:white;background-color:rgba(53,183,121,0.032140180468559265); >   </text><text style=color:white;background-color:rgba(53,183,121,0.044258423149585724); >   </text><text style=color:white;background-color:rgba(53,183,121,0.028537150472402573); >   </text><text style=color:white;background-color:rgba(53,183,121,0.017149047926068306); >   </text><text style=color:white;background-color:rgba(53,183,121,0.011160184629261494); >   </text><text style=color:white;background-color:rgba(53,183,121,0.009166888892650604); >   </text><text style=color:white;background-color:rgba(53,183,121,0.008509025909006596); >   </text><text style=color:white;background-color:rgba(53,183,121,0.008257809095084667); >   </text><text style=color:white;background-color:rgba(53,183,121,0.008153511211276054); >   </text><text style=color:white;background-color:rgba(53,183,121,0.008121290244162083); >   </text></div><div id = \"input9\"> <text style=color:white;background-color:rgba(53,183,121,0.09268868714570999); > d </text><text style=color:white;background-color:rgba(53,183,121,0.09521270543336868); > e </text><text style=color:white;background-color:rgba(53,183,121,0.18196088075637817); > v </text><text style=color:white;background-color:rgba(53,183,121,0.07877708226442337); > a </text><text style=color:white;background-color:rgba(53,183,121,0.1091325581073761); > n </text><text style=color:white;background-color:rgba(53,183,121,0.08263108134269714); > a </text><text style=color:white;background-color:rgba(53,183,121,0.04555651545524597); > g </text><text style=color:white;background-color:rgba(53,183,121,0.17911182343959808); > a </text><text style=color:white;background-color:rgba(53,183,121,0.06345860660076141); > r </text><text style=color:white;background-color:rgba(53,183,121,0.03560194373130798); > i </text><text style=color:white;background-color:rgba(53,183,121,0.0027030534110963345); >   </text><text style=color:white;background-color:rgba(53,183,121,0.007190511096268892); >   </text><text style=color:white;background-color:rgba(53,183,121,0.006444892846047878); >   </text><text style=color:white;background-color:rgba(53,183,121,0.0046529327519237995); >   </text><text style=color:white;background-color:rgba(53,183,121,0.0031050299294292927); >   </text><text style=color:white;background-color:rgba(53,183,121,0.002554030856117606); >   </text><text style=color:white;background-color:rgba(53,183,121,0.002374922391027212); >   </text><text style=color:white;background-color:rgba(53,183,121,0.002306912327185273); >   </text><text style=color:white;background-color:rgba(53,183,121,0.002276234095916152); >   </text><text style=color:white;background-color:rgba(53,183,121,0.002259571570903063); >   </text></div><div id = \"input10\"> <text style=color:white;background-color:rgba(53,183,121,0.07766026258468628); > d </text><text style=color:white;background-color:rgba(53,183,121,0.06611678004264832); > e </text><text style=color:white;background-color:rgba(53,183,121,0.11238780617713928); > v </text><text style=color:white;background-color:rgba(53,183,121,0.05831325426697731); > a </text><text style=color:white;background-color:rgba(53,183,121,0.1032237708568573); > n </text><text style=color:white;background-color:rgba(53,183,121,0.15460562705993652); > a </text><text style=color:white;background-color:rgba(53,183,121,0.02711181901395321); > g </text><text style=color:white;background-color:rgba(53,183,121,0.380399614572525); > a </text><text style=color:white;background-color:rgba(53,183,121,0.016530314460396767); > r </text><text style=color:white;background-color:rgba(53,183,121,0.002909471048042178); > i </text><text style=color:white;background-color:rgba(53,183,121,0.00011461215035524219); >   </text><text style=color:white;background-color:rgba(53,183,121,0.00026257007266394794); >   </text><text style=color:white;background-color:rgba(53,183,121,0.00014168863708619028); >   </text><text style=color:white;background-color:rgba(53,183,121,6.125310756033286e-05); >   </text><text style=color:white;background-color:rgba(53,183,121,3.337882662890479e-05); >   </text><text style=color:white;background-color:rgba(53,183,121,2.7507019694894552e-05); >   </text><text style=color:white;background-color:rgba(53,183,121,2.5910683689289726e-05); >   </text><text style=color:white;background-color:rgba(53,183,121,2.5198663934133947e-05); >   </text><text style=color:white;background-color:rgba(53,183,121,2.475311885064002e-05); >   </text><text style=color:white;background-color:rgba(53,183,121,2.436240902170539e-05); >   </text></div><div id = \"input11\"> <text style=color:white;background-color:rgba(53,183,121,0.13863413035869598); > d </text><text style=color:white;background-color:rgba(53,183,121,0.11255515366792679); > e </text><text style=color:white;background-color:rgba(53,183,121,0.1605251133441925); > v </text><text style=color:white;background-color:rgba(53,183,121,0.0791487991809845); > a </text><text style=color:white;background-color:rgba(53,183,121,0.10170411318540573); > n </text><text style=color:white;background-color:rgba(53,183,121,0.1430138349533081); > a </text><text style=color:white;background-color:rgba(53,183,121,0.011911564506590366); > g </text><text style=color:white;background-color:rgba(53,183,121,0.24298907816410065); > a </text><text style=color:white;background-color:rgba(53,183,121,0.008163722231984138); > r </text><text style=color:white;background-color:rgba(53,183,121,0.00098992430139333); > i </text><text style=color:white;background-color:rgba(53,183,121,5.815577969769947e-05); >   </text><text style=color:white;background-color:rgba(53,183,121,0.00011264775093877688); >   </text><text style=color:white;background-color:rgba(53,183,121,6.651994772255421e-05); >   </text><text style=color:white;background-color:rgba(53,183,121,3.2418367482023314e-05); >   </text><text style=color:white;background-color:rgba(53,183,121,1.9032890122616664e-05); >   </text><text style=color:white;background-color:rgba(53,183,121,1.6120840882649645e-05); >   </text><text style=color:white;background-color:rgba(53,183,121,1.5359541066573e-05); >   </text><text style=color:white;background-color:rgba(53,183,121,1.500688540545525e-05); >   </text><text style=color:white;background-color:rgba(53,183,121,1.4772112081118394e-05); >   </text><text style=color:white;background-color:rgba(53,183,121,1.455073470424395e-05); >   </text></div><div id = \"input12\"> <text style=color:white;background-color:rgba(53,183,121,0.13117702305316925); > d </text><text style=color:white;background-color:rgba(53,183,121,0.11134718358516693); > e </text><text style=color:white;background-color:rgba(53,183,121,0.1699545979499817); > v </text><text style=color:white;background-color:rgba(53,183,121,0.07421553134918213); > a </text><text style=color:white;background-color:rgba(53,183,121,0.09839164465665817); > n </text><text style=color:white;background-color:rgba(53,183,121,0.1447432041168213); > a </text><text style=color:white;background-color:rgba(53,183,121,0.012181063182651997); > g </text><text style=color:white;background-color:rgba(53,183,121,0.24795787036418915); > a </text><text style=color:white;background-color:rgba(53,183,121,0.008789385668933392); > r </text><text style=color:white;background-color:rgba(53,183,121,0.0009230520226992667); > i </text><text style=color:white;background-color:rgba(53,183,121,5.2063762268517166e-05); >   </text><text style=color:white;background-color:rgba(53,183,121,0.00010268916230415925); >   </text><text style=color:white;background-color:rgba(53,183,121,5.840164521941915e-05); >   </text><text style=color:white;background-color:rgba(53,183,121,2.7652911740005948e-05); >   </text><text style=color:white;background-color:rgba(53,183,121,1.5898429410299286e-05); >   </text><text style=color:white;background-color:rgba(53,183,121,1.3374153240874875e-05); >   </text><text style=color:white;background-color:rgba(53,183,121,1.2719799087790307e-05); >   </text><text style=color:white;background-color:rgba(53,183,121,1.241842892341083e-05); >   </text><text style=color:white;background-color:rgba(53,183,121,1.2215340575494338e-05); >   </text><text style=color:white;background-color:rgba(53,183,121,1.2020317626593169e-05); >   </text></div><div id = \"input13\"> <text style=color:white;background-color:rgba(53,183,121,0.14148542284965515); > d </text><text style=color:white;background-color:rgba(53,183,121,0.12008398771286011); > e </text><text style=color:white;background-color:rgba(53,183,121,0.18263253569602966); > v </text><text style=color:white;background-color:rgba(53,183,121,0.0746137723326683); > a </text><text style=color:white;background-color:rgba(53,183,121,0.09211673587560654); > n </text><text style=color:white;background-color:rgba(53,183,121,0.13586914539337158); > a </text><text style=color:white;background-color:rgba(53,183,121,0.010531218722462654); > g </text><text style=color:white;background-color:rgba(53,183,121,0.23390357196331024); > a </text><text style=color:white;background-color:rgba(53,183,121,0.007744628936052322); > r </text><text style=color:white;background-color:rgba(53,183,121,0.0007502268417738378); > i </text><text style=color:white;background-color:rgba(53,183,121,4.251864811521955e-05); >   </text><text style=color:white;background-color:rgba(53,183,121,8.551291830372065e-05); >   </text><text style=color:white;background-color:rgba(53,183,121,4.942189116263762e-05); >   </text><text style=color:white;background-color:rgba(53,183,121,2.3602668079547584e-05); >   </text><text style=color:white;background-color:rgba(53,183,121,1.3646126717503648e-05); >   </text><text style=color:white;background-color:rgba(53,183,121,1.149787840404315e-05); >   </text><text style=color:white;background-color:rgba(53,183,121,1.094025810743915e-05); >   </text><text style=color:white;background-color:rgba(53,183,121,1.067980792868184e-05); >   </text><text style=color:white;background-color:rgba(53,183,121,1.0500854841666296e-05); >   </text><text style=color:white;background-color:rgba(53,183,121,1.0325806215405464e-05); >   </text></div><div id = \"input14\"> <text style=color:white;background-color:rgba(53,183,121,0.14089280366897583); > d </text><text style=color:white;background-color:rgba(53,183,121,0.12092553824186325); > e </text><text style=color:white;background-color:rgba(53,183,121,0.18695871531963348); > v </text><text style=color:white;background-color:rgba(53,183,121,0.07348563522100449); > a </text><text style=color:white;background-color:rgba(53,183,121,0.08912714570760727); > n </text><text style=color:white;background-color:rgba(53,183,121,0.13499149680137634); > a </text><text style=color:white;background-color:rgba(53,183,121,0.010201334953308105); > g </text><text style=color:white;background-color:rgba(53,183,121,0.23488417267799377); > a </text><text style=color:white;background-color:rgba(53,183,121,0.007586920168250799); > r </text><text style=color:white;background-color:rgba(53,183,121,0.0006955708377063274); > i </text><text style=color:white;background-color:rgba(53,183,121,3.942251714761369e-05); >   </text><text style=color:white;background-color:rgba(53,183,121,8.038435771595687e-05); >   </text><text style=color:white;background-color:rgba(53,183,121,4.642632120521739e-05); >   </text><text style=color:white;background-color:rgba(53,183,121,2.2005642676958814e-05); >   </text><text style=color:white;background-color:rgba(53,183,121,1.2648169104068074e-05); >   </text><text style=color:white;background-color:rgba(53,183,121,1.0632650628394913e-05); >   </text><text style=color:white;background-color:rgba(53,183,121,1.0110800758411642e-05); >   </text><text style=color:white;background-color:rgba(53,183,121,9.866792424872983e-06); >   </text><text style=color:white;background-color:rgba(53,183,121,9.697974746813998e-06); >   </text><text style=color:white;background-color:rgba(53,183,121,9.531355317449197e-06); >   </text></div><div id = \"input15\"> <text style=color:white;background-color:rgba(53,183,121,0.14221835136413574); > d </text><text style=color:white;background-color:rgba(53,183,121,0.12226898223161697); > e </text><text style=color:white;background-color:rgba(53,183,121,0.18980532884597778); > v </text><text style=color:white;background-color:rgba(53,183,121,0.07324600964784622); > a </text><text style=color:white;background-color:rgba(53,183,121,0.087226502597332); > n </text><text style=color:white;background-color:rgba(53,183,121,0.13343624770641327); > a </text><text style=color:white;background-color:rgba(53,183,121,0.009895539842545986); > g </text><text style=color:white;background-color:rgba(53,183,121,0.23359324038028717); > a </text><text style=color:white;background-color:rgba(53,183,121,0.007407107390463352); > r </text><text style=color:white;background-color:rgba(53,183,121,0.0006608843104913831); > i </text><text style=color:white;background-color:rgba(53,183,121,3.7770045310026035e-05); >   </text><text style=color:white;background-color:rgba(53,183,121,7.753621321171522e-05); >   </text><text style=color:white;background-color:rgba(53,183,121,4.495346001931466e-05); >   </text><text style=color:white;background-color:rgba(53,183,121,2.12665709113935e-05); >   </text><text style=color:white;background-color:rgba(53,183,121,1.2197559044579975e-05); >   </text><text style=color:white;background-color:rgba(53,183,121,1.0243642464047298e-05); >   </text><text style=color:white;background-color:rgba(53,183,121,9.7380407169112e-06); >   </text><text style=color:white;background-color:rgba(53,183,121,9.501334716333076e-06); >   </text><text style=color:white;background-color:rgba(53,183,121,9.336909897683654e-06); >   </text><text style=color:white;background-color:rgba(53,183,121,9.173832950182259e-06); >   </text></div><div id = \"input16\"> <text style=color:white;background-color:rgba(53,183,121,0.14243224263191223); > d </text><text style=color:white;background-color:rgba(53,183,121,0.12259075790643692); > e </text><text style=color:white;background-color:rgba(53,183,121,0.1908336728811264); > v </text><text style=color:white;background-color:rgba(53,183,121,0.07294902950525284); > a </text><text style=color:white;background-color:rgba(53,183,121,0.08659475296735764); > n </text><text style=color:white;background-color:rgba(53,183,121,0.13295556604862213); > a </text><text style=color:white;background-color:rgba(53,183,121,0.009809041395783424); > g </text><text style=color:white;background-color:rgba(53,183,121,0.23357227444648743); > a </text><text style=color:white;background-color:rgba(53,183,121,0.007373094093054533); > r </text><text style=color:white;background-color:rgba(53,183,121,0.0006507349899038672); > i </text><text style=color:white;background-color:rgba(53,183,121,3.724274574778974e-05); >   </text><text style=color:white;background-color:rgba(53,183,121,7.662462303414941e-05); >   </text><text style=color:white;background-color:rgba(53,183,121,4.4458636693889275e-05); >   </text><text style=color:white;background-color:rgba(53,183,121,2.1018906409153715e-05); >   </text><text style=color:white;background-color:rgba(53,183,121,1.2047084965161048e-05); >   </text><text style=color:white;background-color:rgba(53,183,121,1.0113760254171211e-05); >   </text><text style=color:white;background-color:rgba(53,183,121,9.613497240934521e-06); >   </text><text style=color:white;background-color:rgba(53,183,121,9.379201401316095e-06); >   </text><text style=color:white;background-color:rgba(53,183,121,9.216204489348456e-06); >   </text><text style=color:white;background-color:rgba(53,183,121,9.054294423549436e-06); >   </text></div><div id = \"input17\"> <text style=color:white;background-color:rgba(53,183,121,0.1426716446876526); > d </text><text style=color:white;background-color:rgba(53,183,121,0.12282232195138931); > e </text><text style=color:white;background-color:rgba(53,183,121,0.1913783997297287); > v </text><text style=color:white;background-color:rgba(53,183,121,0.0728282704949379); > a </text><text style=color:white;background-color:rgba(53,183,121,0.0862998440861702); > n </text><text style=color:white;background-color:rgba(53,183,121,0.1325990855693817); > a </text><text style=color:white;background-color:rgba(53,183,121,0.009766130708158016); > g </text><text style=color:white;background-color:rgba(53,183,121,0.23339922726154327); > a </text><text style=color:white;background-color:rgba(53,183,121,0.007351390551775694); > r </text><text style=color:white;background-color:rgba(53,183,121,0.0006462972960434854); > i </text><text style=color:white;background-color:rgba(53,183,121,3.6985205952078104e-05); >   </text><text style=color:white;background-color:rgba(53,183,121,7.616365473950282e-05); >   </text><text style=color:white;background-color:rgba(53,183,121,4.421495759743266e-05); >   </text><text style=color:white;background-color:rgba(53,183,121,2.0908144506393e-05); >   </text><text style=color:white;background-color:rgba(53,183,121,1.1985373930656351e-05); >   </text><text style=color:white;background-color:rgba(53,183,121,1.0062105502584018e-05); >   </text><text style=color:white;background-color:rgba(53,183,121,9.564370884618256e-06); >   </text><text style=color:white;background-color:rgba(53,183,121,9.331120054412168e-06); >   </text><text style=color:white;background-color:rgba(53,183,121,9.168722499452997e-06); >   </text><text style=color:white;background-color:rgba(53,183,121,9.007363587443251e-06); >   </text></div><div id = \"input18\"> <text style=color:white;background-color:rgba(53,183,121,0.1427135020494461); > d </text><text style=color:white;background-color:rgba(53,183,121,0.12289492040872574); > e </text><text style=color:white;background-color:rgba(53,183,121,0.19162452220916748); > v </text><text style=color:white;background-color:rgba(53,183,121,0.07279603183269501); > a </text><text style=color:white;background-color:rgba(53,183,121,0.08618894219398499); > n </text><text style=color:white;background-color:rgba(53,183,121,0.13247087597846985); > a </text><text style=color:white;background-color:rgba(53,183,121,0.00975175853818655); > g </text><text style=color:white;background-color:rgba(53,183,121,0.23333193361759186); > a </text><text style=color:white;background-color:rgba(53,183,121,0.0073454310186207294); > r </text><text style=color:white;background-color:rgba(53,183,121,0.0006450754008255899); > i </text><text style=color:white;background-color:rgba(53,183,121,3.690483208629303e-05); >   </text><text style=color:white;background-color:rgba(53,183,121,7.60327820898965e-05); >   </text><text style=color:white;background-color:rgba(53,183,121,4.414167779032141e-05); >   </text><text style=color:white;background-color:rgba(53,183,121,2.0875464542768896e-05); >   </text><text style=color:white;background-color:rgba(53,183,121,1.1967905265919399e-05); >   </text><text style=color:white;background-color:rgba(53,183,121,1.0047642717836425e-05); >   </text><text style=color:white;background-color:rgba(53,183,121,9.550613867759239e-06); >   </text><text style=color:white;background-color:rgba(53,183,121,9.31765498535242e-06); >   </text><text style=color:white;background-color:rgba(53,183,121,9.155456609732937e-06); >   </text><text style=color:white;background-color:rgba(53,183,121,8.994245035864878e-06); >   </text></div> </body> </html>"
            ],
            "text/plain": [
              "<IPython.core.display.HTML object>"
            ]
          },
          "metadata": {
            "tags": []
          }
        },
        {
          "output_type": "display_data",
          "data": {
            "text/html": [
              "<html><h1>Attention corresponding to 3 decoder layer</h1></html>"
            ],
            "text/plain": [
              "<IPython.core.display.HTML object>"
            ]
          },
          "metadata": {
            "tags": []
          }
        },
        {
          "output_type": "display_data",
          "data": {
            "text/html": [
              "<!DOCTYPE html> <html>  <head>  <style>  h2 {color:#636363; text-align: center; font-size: 27px; padding: 3px 5px 3px 5px;} div {text-align: center; width: 85%; margin: auto;} text {text-align: center; font-size: 25px; padding: 3px 5px 3px 5px; font-family: Arial, Helvetica, sans-serif; }  #input0 { display:block; background-color:#365d8d; }  #input1 { display : none; background-color:#365d8d; }  #input2 { display : none; background-color:#365d8d; }  #input3 { display : none; background-color:#365d8d; }  #input4 { display : none; background-color:#365d8d; }  #input5 { display : none; background-color:#365d8d; }  #input6 { display : none; background-color:#365d8d; }  #input7 { display : none; background-color:#365d8d; }  #input8 { display : none; background-color:#365d8d; }  #input9 { display : none; background-color:#365d8d; }  #input10 { display : none; background-color:#365d8d; }  #input11 { display : none; background-color:#365d8d; }  #input12 { display : none; background-color:#365d8d; }  #input13 { display : none; background-color:#365d8d; }  #input14 { display : none; background-color:#365d8d; }  #input15 { display : none; background-color:#365d8d; }  #input16 { display : none; background-color:#365d8d; }  #input17 { display : none; background-color:#365d8d; }  #input18 { display : none; background-color:#365d8d; }  .output0 { background-color:#365d8d; }  .output0:hover { background-color:#35b779; text-decoration:underline; text-decoration-color: white; }  .output0:hover ~#input0 { display : block; background-color:#365d8d;  }  .output1 { background-color:#365d8d; }  .output1:hover { background-color:#35b779; text-decoration:underline; text-decoration-color: white;  }  .output1:hover ~#input0 { display : none; background-color:#365d8d; }  .output1:hover ~#input1 { display : block; background-color:#365d8d; }  .output2 { background-color:#365d8d; }  .output2:hover { background-color:#35b779; text-decoration:underline; text-decoration-color: white;  }  .output2:hover ~#input0 { display : none; background-color:#365d8d; }  .output2:hover ~#input2 { display : block; background-color:#365d8d; }  .output3 { background-color:#365d8d; }  .output3:hover { background-color:#35b779; text-decoration:underline; text-decoration-color: white;  }  .output3:hover ~#input0 { display : none; background-color:#365d8d; }  .output3:hover ~#input3 { display : block; background-color:#365d8d; }  .output4 { background-color:#365d8d; }  .output4:hover { background-color:#35b779; text-decoration:underline; text-decoration-color: white;  }  .output4:hover ~#input0 { display : none; background-color:#365d8d; }  .output4:hover ~#input4 { display : block; background-color:#365d8d; }  .output5 { background-color:#365d8d; }  .output5:hover { background-color:#35b779; text-decoration:underline; text-decoration-color: white;  }  .output5:hover ~#input0 { display : none; background-color:#365d8d; }  .output5:hover ~#input5 { display : block; background-color:#365d8d; }  .output6 { background-color:#365d8d; }  .output6:hover { background-color:#35b779; text-decoration:underline; text-decoration-color: white;  }  .output6:hover ~#input0 { display : none; background-color:#365d8d; }  .output6:hover ~#input6 { display : block; background-color:#365d8d; }  .output7 { background-color:#365d8d; }  .output7:hover { background-color:#35b779; text-decoration:underline; text-decoration-color: white;  }  .output7:hover ~#input0 { display : none; background-color:#365d8d; }  .output7:hover ~#input7 { display : block; background-color:#365d8d; }  .output8 { background-color:#365d8d; }  .output8:hover { background-color:#35b779; text-decoration:underline; text-decoration-color: white;  }  .output8:hover ~#input0 { display : none; background-color:#365d8d; }  .output8:hover ~#input8 { display : block; background-color:#365d8d; }  .output9 { background-color:#365d8d; }  .output9:hover { background-color:#35b779; text-decoration:underline; text-decoration-color: white;  }  .output9:hover ~#input0 { display : none; background-color:#365d8d; }  .output9:hover ~#input9 { display : block; background-color:#365d8d; }  .output10 { background-color:#365d8d; }  .output10:hover { background-color:#35b779; text-decoration:underline; text-decoration-color: white;  }  .output10:hover ~#input0 { display : none; background-color:#365d8d; }  .output10:hover ~#input10 { display : block; background-color:#365d8d; }  .output11 { background-color:#365d8d; }  .output11:hover { background-color:#35b779; text-decoration:underline; text-decoration-color: white;  }  .output11:hover ~#input0 { display : none; background-color:#365d8d; }  .output11:hover ~#input11 { display : block; background-color:#365d8d; }  .output12 { background-color:#365d8d; }  .output12:hover { background-color:#35b779; text-decoration:underline; text-decoration-color: white;  }  .output12:hover ~#input0 { display : none; background-color:#365d8d; }  .output12:hover ~#input12 { display : block; background-color:#365d8d; }  .output13 { background-color:#365d8d; }  .output13:hover { background-color:#35b779; text-decoration:underline; text-decoration-color: white;  }  .output13:hover ~#input0 { display : none; background-color:#365d8d; }  .output13:hover ~#input13 { display : block; background-color:#365d8d; }  .output14 { background-color:#365d8d; }  .output14:hover { background-color:#35b779; text-decoration:underline; text-decoration-color: white;  }  .output14:hover ~#input0 { display : none; background-color:#365d8d; }  .output14:hover ~#input14 { display : block; background-color:#365d8d; }  .output15 { background-color:#365d8d; }  .output15:hover { background-color:#35b779; text-decoration:underline; text-decoration-color: white;  }  .output15:hover ~#input0 { display : none; background-color:#365d8d; }  .output15:hover ~#input15 { display : block; background-color:#365d8d; }  .output16 { background-color:#365d8d; }  .output16:hover { background-color:#35b779; text-decoration:underline; text-decoration-color: white;  }  .output16:hover ~#input0 { display : none; background-color:#365d8d; }  .output16:hover ~#input16 { display : block; background-color:#365d8d; }  .output17 { background-color:#365d8d; }  .output17:hover { background-color:#35b779; text-decoration:underline; text-decoration-color: white;  }  .output17:hover ~#input0 { display : none; background-color:#365d8d; }  .output17:hover ~#input17 { display : block; background-color:#365d8d; }  .output18 { background-color:#365d8d; }  .output18:hover { background-color:#35b779; text-decoration:underline; text-decoration-color: white;  }  .output18:hover ~#input0 { display : none; background-color:#365d8d; }  .output18:hover ~#input18 { display : block; background-color:#365d8d; }  </style>  </head>  <body>  <h2> Output Text </h2> <text class = \"output0\" style=color:white; > द </text><text class = \"output1\" style=color:white; > े </text><text class = \"output2\" style=color:white; > व </text><text class = \"output3\" style=color:white; > ा </text><text class = \"output4\" style=color:white; > न </text><text class = \"output5\" style=color:white; > ग </text><text class = \"output6\" style=color:white; > र </text><text class = \"output7\" style=color:white; > ी </text><text class = \"output8\" style=color:white; >   </text><text class = \"output9\" style=color:white; >   </text><text class = \"output10\" style=color:white; >   </text><text class = \"output11\" style=color:white; >   </text><text class = \"output12\" style=color:white; >   </text><text class = \"output13\" style=color:white; >   </text><text class = \"output14\" style=color:white; >   </text><text class = \"output15\" style=color:white; >   </text><text class = \"output16\" style=color:white; >   </text><text class = \"output17\" style=color:white; >   </text><text class = \"output18\" style=color:white; >   </text> <h2> Input Text </h2> <div id = \"input0\"> <text style=color:white;background-color:rgba(53,183,121,0.9841118454933167); > d </text><text style=color:white;background-color:rgba(53,183,121,0.0034534374717622995); > e </text><text style=color:white;background-color:rgba(53,183,121,0.00020421667431946844); > v </text><text style=color:white;background-color:rgba(53,183,121,1.239324433299771e-06); > a </text><text style=color:white;background-color:rgba(53,183,121,1.1343216783643584e-06); > n </text><text style=color:white;background-color:rgba(53,183,121,2.0561263625040738e-07); > a </text><text style=color:white;background-color:rgba(53,183,121,4.214283308101585e-06); > g </text><text style=color:white;background-color:rgba(53,183,121,6.518558848256362e-07); > a </text><text style=color:white;background-color:rgba(53,183,121,1.0247292721032863e-06); > r </text><text style=color:white;background-color:rgba(53,183,121,4.0767349673842546e-06); > i </text><text style=color:white;background-color:rgba(53,183,121,2.4980961825349368e-05); >   </text><text style=color:white;background-color:rgba(53,183,121,0.00010194803326157853); >   </text><text style=color:white;background-color:rgba(53,183,121,0.0004932861775159836); >   </text><text style=color:white;background-color:rgba(53,183,121,0.0011792747536674142); >   </text><text style=color:white;background-color:rgba(53,183,121,0.0015535386046394706); >   </text><text style=color:white;background-color:rgba(53,183,121,0.0016980292275547981); >   </text><text style=color:white;background-color:rgba(53,183,121,0.0017712812405079603); >   </text><text style=color:white;background-color:rgba(53,183,121,0.0017983317375183105); >   </text><text style=color:white;background-color:rgba(53,183,121,0.0018021714640781283); >   </text><text style=color:white;background-color:rgba(53,183,121,0.0017951446352526546); >   </text></div><div id = \"input1\"> <text style=color:white;background-color:rgba(53,183,121,0.006043439265340567); > d </text><text style=color:white;background-color:rgba(53,183,121,0.5921235084533691); > e </text><text style=color:white;background-color:rgba(53,183,121,0.38457971811294556); > v </text><text style=color:white;background-color:rgba(53,183,121,0.00048804344260133803); > a </text><text style=color:white;background-color:rgba(53,183,121,0.0013988781720399857); > n </text><text style=color:white;background-color:rgba(53,183,121,3.7605364923365414e-05); > a </text><text style=color:white;background-color:rgba(53,183,121,0.0006604997324757278); > g </text><text style=color:white;background-color:rgba(53,183,121,2.268972275487613e-05); > a </text><text style=color:white;background-color:rgba(53,183,121,6.851127545814961e-05); > r </text><text style=color:white;background-color:rgba(53,183,121,7.41344629204832e-05); > i </text><text style=color:white;background-color:rgba(53,183,121,0.0001155036297859624); >   </text><text style=color:white;background-color:rgba(53,183,121,0.0002811563026625663); >   </text><text style=color:white;background-color:rgba(53,183,121,0.0007988294237293303); >   </text><text style=color:white;background-color:rgba(53,183,121,0.0014416063204407692); >   </text><text style=color:white;background-color:rgba(53,183,121,0.0018322586547583342); >   </text><text style=color:white;background-color:rgba(53,183,121,0.001964585157111287); >   </text><text style=color:white;background-color:rgba(53,183,121,0.0020135000813752413); >   </text><text style=color:white;background-color:rgba(53,183,121,0.0020249171648174524); >   </text><text style=color:white;background-color:rgba(53,183,121,0.0020204728934913874); >   </text><text style=color:white;background-color:rgba(53,183,121,0.0020101903937757015); >   </text></div><div id = \"input2\"> <text style=color:white;background-color:rgba(53,183,121,0.0004067923000548035); > d </text><text style=color:white;background-color:rgba(53,183,121,0.00836401991546154); > e </text><text style=color:white;background-color:rgba(53,183,121,0.963773250579834); > v </text><text style=color:white;background-color:rgba(53,183,121,0.008004650473594666); > a </text><text style=color:white;background-color:rgba(53,183,121,0.015898915007710457); > n </text><text style=color:white;background-color:rgba(53,183,121,0.0003276218776591122); > a </text><text style=color:white;background-color:rgba(53,183,121,0.0012799513060599566); > g </text><text style=color:white;background-color:rgba(53,183,121,3.0111134037724696e-05); > a </text><text style=color:white;background-color:rgba(53,183,121,5.992800652165897e-06); > r </text><text style=color:white;background-color:rgba(53,183,121,4.6343131543835625e-05); > i </text><text style=color:white;background-color:rgba(53,183,121,3.043296601390466e-05); >   </text><text style=color:white;background-color:rgba(53,183,121,6.7975401179865e-05); >   </text><text style=color:white;background-color:rgba(53,183,121,0.00015071356028784066); >   </text><text style=color:white;background-color:rgba(53,183,121,0.00021777035726699978); >   </text><text style=color:white;background-color:rgba(53,183,121,0.0002280960325151682); >   </text><text style=color:white;background-color:rgba(53,183,121,0.00023095033247955143); >   </text><text style=color:white;background-color:rgba(53,183,121,0.00023384412634186447); >   </text><text style=color:white;background-color:rgba(53,183,121,0.00023490830790251493); >   </text><text style=color:white;background-color:rgba(53,183,121,0.0002345982356928289); >   </text><text style=color:white;background-color:rgba(53,183,121,0.0002331011346541345); >   </text></div><div id = \"input3\"> <text style=color:white;background-color:rgba(53,183,121,3.431358345551416e-05); > d </text><text style=color:white;background-color:rgba(53,183,121,0.008651633746922016); > e </text><text style=color:white;background-color:rgba(53,183,121,0.04177692160010338); > v </text><text style=color:white;background-color:rgba(53,183,121,0.25212687253952026); > a </text><text style=color:white;background-color:rgba(53,183,121,0.6610541939735413); > n </text><text style=color:white;background-color:rgba(53,183,121,0.007229296490550041); > a </text><text style=color:white;background-color:rgba(53,183,121,0.019002851098775864); > g </text><text style=color:white;background-color:rgba(53,183,121,0.0002403943071840331); > a </text><text style=color:white;background-color:rgba(53,183,121,0.00020494707860052586); > r </text><text style=color:white;background-color:rgba(53,183,121,0.0005185327026993036); > i </text><text style=color:white;background-color:rgba(53,183,121,0.00016740649880375713); >   </text><text style=color:white;background-color:rgba(53,183,121,0.0003911940730176866); >   </text><text style=color:white;background-color:rgba(53,183,121,0.0007956853951327503); >   </text><text style=color:white;background-color:rgba(53,183,121,0.0010245786979794502); >   </text><text style=color:white;background-color:rgba(53,183,121,0.0010912257712334394); >   </text><text style=color:white;background-color:rgba(53,183,121,0.0011236693244427443); >   </text><text style=color:white;background-color:rgba(53,183,121,0.0011420710943639278); >   </text><text style=color:white;background-color:rgba(53,183,121,0.0011459890520200133); >   </text><text style=color:white;background-color:rgba(53,183,121,0.0011428327998146415); >   </text><text style=color:white;background-color:rgba(53,183,121,0.0011353946756571531); >   </text></div><div id = \"input4\"> <text style=color:white;background-color:rgba(53,183,121,8.347899893124122e-06); > d </text><text style=color:white;background-color:rgba(53,183,121,0.00023883377434685826); > e </text><text style=color:white;background-color:rgba(53,183,121,0.004787977319210768); > v </text><text style=color:white;background-color:rgba(53,183,121,0.016808880493044853); > a </text><text style=color:white;background-color:rgba(53,183,121,0.08100444078445435); > n </text><text style=color:white;background-color:rgba(53,183,121,0.14237357676029205); > a </text><text style=color:white;background-color:rgba(53,183,121,0.7410702705383301); > g </text><text style=color:white;background-color:rgba(53,183,121,0.0010562259703874588); > a </text><text style=color:white;background-color:rgba(53,183,121,0.001714270911179483); > r </text><text style=color:white;background-color:rgba(53,183,121,0.005269593559205532); > i </text><text style=color:white;background-color:rgba(53,183,121,0.0007817227742634714); >   </text><text style=color:white;background-color:rgba(53,183,121,0.0009360258118249476); >   </text><text style=color:white;background-color:rgba(53,183,121,0.0008613026584498584); >   </text><text style=color:white;background-color:rgba(53,183,121,0.0006390094640664756); >   </text><text style=color:white;background-color:rgba(53,183,121,0.0004696374526247382); >   </text><text style=color:white;background-color:rgba(53,183,121,0.0004116697527933866); >   </text><text style=color:white;background-color:rgba(53,183,121,0.00039795268094167113); >   </text><text style=color:white;background-color:rgba(53,183,121,0.00039337374619208276); >   </text><text style=color:white;background-color:rgba(53,183,121,0.0003903369070030749); >   </text><text style=color:white;background-color:rgba(53,183,121,0.00038658446283079684); >   </text></div><div id = \"input5\"> <text style=color:white;background-color:rgba(53,183,121,8.248300218838267e-06); > d </text><text style=color:white;background-color:rgba(53,183,121,4.955601252731867e-05); > e </text><text style=color:white;background-color:rgba(53,183,121,0.0008318523177877069); > v </text><text style=color:white;background-color:rgba(53,183,121,0.019129185006022453); > a </text><text style=color:white;background-color:rgba(53,183,121,0.027037616819143295); > n </text><text style=color:white;background-color:rgba(53,183,121,0.11352159082889557); > a </text><text style=color:white;background-color:rgba(53,183,121,0.81314617395401); > g </text><text style=color:white;background-color:rgba(53,183,121,0.003387642093002796); > a </text><text style=color:white;background-color:rgba(53,183,121,0.00498267961665988); > r </text><text style=color:white;background-color:rgba(53,183,121,0.014166204258799553); > i </text><text style=color:white;background-color:rgba(53,183,121,0.0008118614787235856); >   </text><text style=color:white;background-color:rgba(53,183,121,0.0006346213049255311); >   </text><text style=color:white;background-color:rgba(53,183,121,0.0005229076487012208); >   </text><text style=color:white;background-color:rgba(53,183,121,0.00037953181890770793); >   </text><text style=color:white;background-color:rgba(53,183,121,0.0002633121330291033); >   </text><text style=color:white;background-color:rgba(53,183,121,0.00023244216572493315); >   </text><text style=color:white;background-color:rgba(53,183,121,0.0002270578988827765); >   </text><text style=color:white;background-color:rgba(53,183,121,0.00022494611039292067); >   </text><text style=color:white;background-color:rgba(53,183,121,0.00022279639961197972); >   </text><text style=color:white;background-color:rgba(53,183,121,0.00021975807612761855); >   </text></div><div id = \"input6\"> <text style=color:white;background-color:rgba(53,183,121,6.91466557327658e-05); > d </text><text style=color:white;background-color:rgba(53,183,121,6.294637569226325e-05); > e </text><text style=color:white;background-color:rgba(53,183,121,0.000478671514429152); > v </text><text style=color:white;background-color:rgba(53,183,121,0.0006133530987426639); > a </text><text style=color:white;background-color:rgba(53,183,121,0.0026843356899917126); > n </text><text style=color:white;background-color:rgba(53,183,121,0.01379684079438448); > a </text><text style=color:white;background-color:rgba(53,183,121,0.3687751591205597); > g </text><text style=color:white;background-color:rgba(53,183,121,0.17966684699058533); > a </text><text style=color:white;background-color:rgba(53,183,121,0.3678229749202728); > r </text><text style=color:white;background-color:rgba(53,183,121,0.0641167014837265); > i </text><text style=color:white;background-color:rgba(53,183,121,0.0009069643565453589); >   </text><text style=color:white;background-color:rgba(53,183,121,0.0004148945736233145); >   </text><text style=color:white;background-color:rgba(53,183,121,0.00018379706307314336); >   </text><text style=color:white;background-color:rgba(53,183,121,8.61275548231788e-05); >   </text><text style=color:white;background-color:rgba(53,183,121,5.976769534754567e-05); >   </text><text style=color:white;background-color:rgba(53,183,121,5.3742747695650905e-05); >   </text><text style=color:white;background-color:rgba(53,183,121,5.253992276266217e-05); >   </text><text style=color:white;background-color:rgba(53,183,121,5.210213203099556e-05); >   </text><text style=color:white;background-color:rgba(53,183,121,5.176070044399239e-05); >   </text><text style=color:white;background-color:rgba(53,183,121,5.137538391863927e-05); >   </text></div><div id = \"input7\"> <text style=color:white;background-color:rgba(53,183,121,7.861496123950928e-05); > d </text><text style=color:white;background-color:rgba(53,183,121,1.8386650481261313e-05); > e </text><text style=color:white;background-color:rgba(53,183,121,1.2770992725563701e-05); > v </text><text style=color:white;background-color:rgba(53,183,121,8.183800673577935e-06); > a </text><text style=color:white;background-color:rgba(53,183,121,5.716612213291228e-05); > n </text><text style=color:white;background-color:rgba(53,183,121,0.00026443885872140527); > a </text><text style=color:white;background-color:rgba(53,183,121,0.0056483689695596695); > g </text><text style=color:white;background-color:rgba(53,183,121,0.005885362159460783); > a </text><text style=color:white;background-color:rgba(53,183,121,0.013227032497525215); > r </text><text style=color:white;background-color:rgba(53,183,121,0.9691863059997559); > i </text><text style=color:white;background-color:rgba(53,183,121,0.003599808318540454); >   </text><text style=color:white;background-color:rgba(53,183,121,0.0017472815234214067); >   </text><text style=color:white;background-color:rgba(53,183,121,0.00018554228881839663); >   </text><text style=color:white;background-color:rgba(53,183,121,2.9944605557830073e-05); >   </text><text style=color:white;background-color:rgba(53,183,121,1.0918671250692569e-05); >   </text><text style=color:white;background-color:rgba(53,183,121,8.29084910947131e-06); >   </text><text style=color:white;background-color:rgba(53,183,121,7.93335129856132e-06); >   </text><text style=color:white;background-color:rgba(53,183,121,7.907864528533537e-06); >   </text><text style=color:white;background-color:rgba(53,183,121,7.896101124060806e-06); >   </text><text style=color:white;background-color:rgba(53,183,121,7.799206287018023e-06); >   </text></div><div id = \"input8\"> <text style=color:white;background-color:rgba(53,183,121,0.02016107365489006); > d </text><text style=color:white;background-color:rgba(53,183,121,0.0015228951815515757); > e </text><text style=color:white;background-color:rgba(53,183,121,0.003273122012615204); > v </text><text style=color:white;background-color:rgba(53,183,121,0.0015114129055291414); > a </text><text style=color:white;background-color:rgba(53,183,121,0.001000573392957449); > n </text><text style=color:white;background-color:rgba(53,183,121,0.0019429371459409595); > a </text><text style=color:white;background-color:rgba(53,183,121,0.0037425351329147816); > g </text><text style=color:white;background-color:rgba(53,183,121,0.008942029438912868); > a </text><text style=color:white;background-color:rgba(53,183,121,0.009262148290872574); > r </text><text style=color:white;background-color:rgba(53,183,121,0.6985145211219788); > i </text><text style=color:white;background-color:rgba(53,183,121,0.21567972004413605); >   </text><text style=color:white;background-color:rgba(53,183,121,0.030308449640870094); >   </text><text style=color:white;background-color:rgba(53,183,121,0.0026044114492833614); >   </text><text style=color:white;background-color:rgba(53,183,121,0.000486013013869524); >   </text><text style=color:white;background-color:rgba(53,183,121,0.0002124227030435577); >   </text><text style=color:white;background-color:rgba(53,183,121,0.00017088545428123325); >   </text><text style=color:white;background-color:rgba(53,183,121,0.00016583839897066355); >   </text><text style=color:white;background-color:rgba(53,183,121,0.0001662497961660847); >   </text><text style=color:white;background-color:rgba(53,183,121,0.0001668081822572276); >   </text><text style=color:white;background-color:rgba(53,183,121,0.00016591463645454496); >   </text></div><div id = \"input9\"> <text style=color:white;background-color:rgba(53,183,121,0.0006354737561196089); > d </text><text style=color:white;background-color:rgba(53,183,121,0.000219783338252455); > e </text><text style=color:white;background-color:rgba(53,183,121,6.166066305013373e-05); > v </text><text style=color:white;background-color:rgba(53,183,121,6.593978469027206e-05); > a </text><text style=color:white;background-color:rgba(53,183,121,0.00020786515960935503); > n </text><text style=color:white;background-color:rgba(53,183,121,0.00033033249201253057); > a </text><text style=color:white;background-color:rgba(53,183,121,0.00037396178231574595); > g </text><text style=color:white;background-color:rgba(53,183,121,0.004327964503318071); > a </text><text style=color:white;background-color:rgba(53,183,121,0.0043606990948319435); > r </text><text style=color:white;background-color:rgba(53,183,121,0.9267236590385437); > i </text><text style=color:white;background-color:rgba(53,183,121,0.04234427958726883); >   </text><text style=color:white;background-color:rgba(53,183,121,0.016590403392910957); >   </text><text style=color:white;background-color:rgba(53,183,121,0.00184361741412431); >   </text><text style=color:white;background-color:rgba(53,183,121,0.0004962813691236079); >   </text><text style=color:white;background-color:rgba(53,183,121,0.0002641951432451606); >   </text><text style=color:white;background-color:rgba(53,183,121,0.00022977108892519027); >   </text><text style=color:white;background-color:rgba(53,183,121,0.0002278991014463827); >   </text><text style=color:white;background-color:rgba(53,183,121,0.00023008574498817325); >   </text><text style=color:white;background-color:rgba(53,183,121,0.0002323762746527791); >   </text><text style=color:white;background-color:rgba(53,183,121,0.000233602782827802); >   </text></div><div id = \"input10\"> <text style=color:white;background-color:rgba(53,183,121,0.010190118104219437); > d </text><text style=color:white;background-color:rgba(53,183,121,0.0026905296836048365); > e </text><text style=color:white;background-color:rgba(53,183,121,0.0006011570803821087); > v </text><text style=color:white;background-color:rgba(53,183,121,0.0014318679459393024); > a </text><text style=color:white;background-color:rgba(53,183,121,0.0032686542253941298); > n </text><text style=color:white;background-color:rgba(53,183,121,0.002099259290844202); > a </text><text style=color:white;background-color:rgba(53,183,121,0.0007070564897730947); > g </text><text style=color:white;background-color:rgba(53,183,121,0.007828249596059322); > a </text><text style=color:white;background-color:rgba(53,183,121,0.01101008802652359); > r </text><text style=color:white;background-color:rgba(53,183,121,0.8769239187240601); > i </text><text style=color:white;background-color:rgba(53,183,121,0.03204743564128876); >   </text><text style=color:white;background-color:rgba(53,183,121,0.029292495921254158); >   </text><text style=color:white;background-color:rgba(53,183,121,0.007979345507919788); >   </text><text style=color:white;background-color:rgba(53,183,121,0.0032120575197041035); >   </text><text style=color:white;background-color:rgba(53,183,121,0.00198935903608799); >   </text><text style=color:white;background-color:rgba(53,183,121,0.0017592818476259708); >   </text><text style=color:white;background-color:rgba(53,183,121,0.00173141248524189); >   </text><text style=color:white;background-color:rgba(53,183,121,0.001736497157253325); >   </text><text style=color:white;background-color:rgba(53,183,121,0.0017471167957410216); >   </text><text style=color:white;background-color:rgba(53,183,121,0.0017540919361636043); >   </text></div><div id = \"input11\"> <text style=color:white;background-color:rgba(53,183,121,0.010624022223055363); > d </text><text style=color:white;background-color:rgba(53,183,121,0.0019891897682100534); > e </text><text style=color:white;background-color:rgba(53,183,121,0.0004660974664147943); > v </text><text style=color:white;background-color:rgba(53,183,121,0.0010971121955662966); > a </text><text style=color:white;background-color:rgba(53,183,121,0.0023849045392125845); > n </text><text style=color:white;background-color:rgba(53,183,121,0.0014282508054748178); > a </text><text style=color:white;background-color:rgba(53,183,121,0.0005213461699895561); > g </text><text style=color:white;background-color:rgba(53,183,121,0.005647031590342522); > a </text><text style=color:white;background-color:rgba(53,183,121,0.011604982428252697); > r </text><text style=color:white;background-color:rgba(53,183,121,0.8993346691131592); > i </text><text style=color:white;background-color:rgba(53,183,121,0.02913038246333599); >   </text><text style=color:white;background-color:rgba(53,183,121,0.02240610681474209); >   </text><text style=color:white;background-color:rgba(53,183,121,0.005042645614594221); >   </text><text style=color:white;background-color:rgba(53,183,121,0.0019087245455011725); >   </text><text style=color:white;background-color:rgba(53,183,121,0.001168420072644949); >   </text><text style=color:white;background-color:rgba(53,183,121,0.0010455576702952385); >   </text><text style=color:white;background-color:rgba(53,183,121,0.0010383572662249207); >   </text><text style=color:white;background-color:rgba(53,183,121,0.0010464914375916123); >   </text><text style=color:white;background-color:rgba(53,183,121,0.001055489992722869); >   </text><text style=color:white;background-color:rgba(53,183,121,0.0010602902621030807); >   </text></div><div id = \"input12\"> <text style=color:white;background-color:rgba(53,183,121,0.01519092358648777); > d </text><text style=color:white;background-color:rgba(53,183,121,0.0020631507504731417); > e </text><text style=color:white;background-color:rgba(53,183,121,0.000546405790373683); > v </text><text style=color:white;background-color:rgba(53,183,121,0.001216443139128387); > a </text><text style=color:white;background-color:rgba(53,183,121,0.0028031484689563513); > n </text><text style=color:white;background-color:rgba(53,183,121,0.0015622284263372421); > a </text><text style=color:white;background-color:rgba(53,183,121,0.0005041364929638803); > g </text><text style=color:white;background-color:rgba(53,183,121,0.00396330701187253); > a </text><text style=color:white;background-color:rgba(53,183,121,0.009983174502849579); > r </text><text style=color:white;background-color:rgba(53,183,121,0.9006566405296326); > i </text><text style=color:white;background-color:rgba(53,183,121,0.028010470792651176); >   </text><text style=color:white;background-color:rgba(53,183,121,0.02146652340888977); >   </text><text style=color:white;background-color:rgba(53,183,121,0.004559802357107401); >   </text><text style=color:white;background-color:rgba(53,183,121,0.0016936833271756768); >   </text><text style=color:white;background-color:rgba(53,183,121,0.0010410933755338192); >   </text><text style=color:white;background-color:rgba(53,183,121,0.0009393992950208485); >   </text><text style=color:white;background-color:rgba(53,183,121,0.000937284785322845); >   </text><text style=color:white;background-color:rgba(53,183,121,0.0009465991170145571); >   </text><text style=color:white;background-color:rgba(53,183,121,0.0009555815486237407); >   </text><text style=color:white;background-color:rgba(53,183,121,0.0009600280318409204); >   </text></div><div id = \"input13\"> <text style=color:white;background-color:rgba(53,183,121,0.025513792410492897); > d </text><text style=color:white;background-color:rgba(53,183,121,0.0027027579490095377); > e </text><text style=color:white;background-color:rgba(53,183,121,0.0007628548191860318); > v </text><text style=color:white;background-color:rgba(53,183,121,0.0015029562637209892); > a </text><text style=color:white;background-color:rgba(53,183,121,0.0034632158931344748); > n </text><text style=color:white;background-color:rgba(53,183,121,0.0016947010299190879); > a </text><text style=color:white;background-color:rgba(53,183,121,0.0005343527882359922); > g </text><text style=color:white;background-color:rgba(53,183,121,0.002900855615735054); > a </text><text style=color:white;background-color:rgba(53,183,121,0.008171264082193375); > r </text><text style=color:white;background-color:rgba(53,183,121,0.8788418769836426); > i </text><text style=color:white;background-color:rgba(53,183,121,0.03432123363018036); >   </text><text style=color:white;background-color:rgba(53,183,121,0.026077494025230408); >   </text><text style=color:white;background-color:rgba(53,183,121,0.0051966519095003605); >   </text><text style=color:white;background-color:rgba(53,183,121,0.00186239427421242); >   </text><text style=color:white;background-color:rgba(53,183,121,0.0011516918893903494); >   </text><text style=color:white;background-color:rgba(53,183,121,0.00104710238520056); >   </text><text style=color:white;background-color:rgba(53,183,121,0.0010481174103915691); >   </text><text style=color:white;background-color:rgba(53,183,121,0.0010600071400403976); >   </text><text style=color:white;background-color:rgba(53,183,121,0.0010707331821322441); >   </text><text style=color:white;background-color:rgba(53,183,121,0.001076004933565855); >   </text></div><div id = \"input14\"> <text style=color:white;background-color:rgba(53,183,121,0.037068240344524384); > d </text><text style=color:white;background-color:rgba(53,183,121,0.003744426416233182); > e </text><text style=color:white;background-color:rgba(53,183,121,0.0010782312601804733); > v </text><text style=color:white;background-color:rgba(53,183,121,0.002098612952977419); > a </text><text style=color:white;background-color:rgba(53,183,121,0.0038124280981719494); > n </text><text style=color:white;background-color:rgba(53,183,121,0.0016278291586786509); > a </text><text style=color:white;background-color:rgba(53,183,121,0.0006333344499580562); > g </text><text style=color:white;background-color:rgba(53,183,121,0.0019572400487959385); > a </text><text style=color:white;background-color:rgba(53,183,121,0.006111072842031717); > r </text><text style=color:white;background-color:rgba(53,183,121,0.8227505087852478); > i </text><text style=color:white;background-color:rgba(53,183,121,0.05092494934797287); >   </text><text style=color:white;background-color:rgba(53,183,121,0.04598686099052429); >   </text><text style=color:white;background-color:rgba(53,183,121,0.009193372912704945); >   </text><text style=color:white;background-color:rgba(53,183,121,0.0030970857478678226); >   </text><text style=color:white;background-color:rgba(53,183,121,0.0018173865973949432); >   </text><text style=color:white;background-color:rgba(53,183,121,0.001615289133042097); >   </text><text style=color:white;background-color:rgba(53,183,121,0.0016035246662795544); >   </text><text style=color:white;background-color:rgba(53,183,121,0.0016163571272045374); >   </text><text style=color:white;background-color:rgba(53,183,121,0.0016292547807097435); >   </text><text style=color:white;background-color:rgba(53,183,121,0.0016340881120413542); >   </text></div><div id = \"input15\"> <text style=color:white;background-color:rgba(53,183,121,0.04772867262363434); > d </text><text style=color:white;background-color:rgba(53,183,121,0.005115026608109474); > e </text><text style=color:white;background-color:rgba(53,183,121,0.001405578339472413); > v </text><text style=color:white;background-color:rgba(53,183,121,0.002614528639242053); > a </text><text style=color:white;background-color:rgba(53,183,121,0.004125275183469057); > n </text><text style=color:white;background-color:rgba(53,183,121,0.0015323099214583635); > a </text><text style=color:white;background-color:rgba(53,183,121,0.0007666085730306804); > g </text><text style=color:white;background-color:rgba(53,183,121,0.0015604501822963357); > a </text><text style=color:white;background-color:rgba(53,183,121,0.004958334378898144); > r </text><text style=color:white;background-color:rgba(53,183,121,0.7455746531486511); > i </text><text style=color:white;background-color:rgba(53,183,121,0.06956717371940613); >   </text><text style=color:white;background-color:rgba(53,183,121,0.07626518607139587); >   </text><text style=color:white;background-color:rgba(53,183,121,0.016745172441005707); >   </text><text style=color:white;background-color:rgba(53,183,121,0.005588336382061243); >   </text><text style=color:white;background-color:rgba(53,183,121,0.003111537778750062); >   </text><text style=color:white;background-color:rgba(53,183,121,0.002692118054255843); >   </text><text style=color:white;background-color:rgba(53,183,121,0.0026464834809303284); >   </text><text style=color:white;background-color:rgba(53,183,121,0.0026573913637548685); >   </text><text style=color:white;background-color:rgba(53,183,121,0.0026719144079834223); >   </text><text style=color:white;background-color:rgba(53,183,121,0.002673249924555421); >   </text></div><div id = \"input16\"> <text style=color:white;background-color:rgba(53,183,121,0.05294528231024742); > d </text><text style=color:white;background-color:rgba(53,183,121,0.006063670851290226); > e </text><text style=color:white;background-color:rgba(53,183,121,0.0016372795216739178); > v </text><text style=color:white;background-color:rgba(53,183,121,0.0029055410996079445); > a </text><text style=color:white;background-color:rgba(53,183,121,0.004716554190963507); > n </text><text style=color:white;background-color:rgba(53,183,121,0.0016103131929412484); > a </text><text style=color:white;background-color:rgba(53,183,121,0.0008399988291785121); > g </text><text style=color:white;background-color:rgba(53,183,121,0.0014936388470232487); > a </text><text style=color:white;background-color:rgba(53,183,121,0.004764307290315628); > r </text><text style=color:white;background-color:rgba(53,183,121,0.719701886177063); > i </text><text style=color:white;background-color:rgba(53,183,121,0.07087220251560211); >   </text><text style=color:white;background-color:rgba(53,183,121,0.08515555411577225); >   </text><text style=color:white;background-color:rgba(53,183,121,0.020125988870859146); >   </text><text style=color:white;background-color:rgba(53,183,121,0.006904889363795519); >   </text><text style=color:white;background-color:rgba(53,183,121,0.0038434979505836964); >   </text><text style=color:white;background-color:rgba(53,183,121,0.003318206639960408); >   </text><text style=color:white;background-color:rgba(53,183,121,0.003258449025452137); >   </text><text style=color:white;background-color:rgba(53,183,121,0.0032701848540455103); >   </text><text style=color:white;background-color:rgba(53,183,121,0.0032865458633750677); >   </text><text style=color:white;background-color:rgba(53,183,121,0.0032860913779586554); >   </text></div><div id = \"input17\"> <text style=color:white;background-color:rgba(53,183,121,0.055169470608234406); > d </text><text style=color:white;background-color:rgba(53,183,121,0.006904274225234985); > e </text><text style=color:white;background-color:rgba(53,183,121,0.0017961165867745876); > v </text><text style=color:white;background-color:rgba(53,183,121,0.002928758505731821); > a </text><text style=color:white;background-color:rgba(53,183,121,0.005072065629065037); > n </text><text style=color:white;background-color:rgba(53,183,121,0.0015649298438802361); > a </text><text style=color:white;background-color:rgba(53,183,121,0.0009357143426313996); > g </text><text style=color:white;background-color:rgba(53,183,121,0.001558602903969586); > a </text><text style=color:white;background-color:rgba(53,183,121,0.004988898988813162); > r </text><text style=color:white;background-color:rgba(53,183,121,0.7073109149932861); > i </text><text style=color:white;background-color:rgba(53,183,121,0.06844735890626907); >   </text><text style=color:white;background-color:rgba(53,183,121,0.0891733169555664); >   </text><text style=color:white;background-color:rgba(53,183,121,0.02236325666308403); >   </text><text style=color:white;background-color:rgba(53,183,121,0.007940642535686493); >   </text><text style=color:white;background-color:rgba(53,183,121,0.004509420599788427); >   </text><text style=color:white;background-color:rgba(53,183,121,0.003909324295818806); >   </text><text style=color:white;background-color:rgba(53,183,121,0.0038382255006581545); >   </text><text style=color:white;background-color:rgba(53,183,121,0.0038505990523844957); >   </text><text style=color:white;background-color:rgba(53,183,121,0.003869196167215705); >   </text><text style=color:white;background-color:rgba(53,183,121,0.0038688606582581997); >   </text></div><div id = \"input18\"> <text style=color:white;background-color:rgba(53,183,121,0.05708511546254158); > d </text><text style=color:white;background-color:rgba(53,183,121,0.008365093730390072); > e </text><text style=color:white;background-color:rgba(53,183,121,0.0020654983818531036); > v </text><text style=color:white;background-color:rgba(53,183,121,0.0026655609253793955); > a </text><text style=color:white;background-color:rgba(53,183,121,0.005156996194273233); > n </text><text style=color:white;background-color:rgba(53,183,121,0.0013696500100195408); > a </text><text style=color:white;background-color:rgba(53,183,121,0.001226293039508164); > g </text><text style=color:white;background-color:rgba(53,183,121,0.0019011665135622025); > a </text><text style=color:white;background-color:rgba(53,183,121,0.005796557758003473); > r </text><text style=color:white;background-color:rgba(53,183,121,0.6809619069099426); > i </text><text style=color:white;background-color:rgba(53,183,121,0.06608923524618149); >   </text><text style=color:white;background-color:rgba(53,183,121,0.09848957508802414); >   </text><text style=color:white;background-color:rgba(53,183,121,0.027173375710844994); >   </text><text style=color:white;background-color:rgba(53,183,121,0.010134078562259674); >   </text><text style=color:white;background-color:rgba(53,183,121,0.005946504883468151); >   </text><text style=color:white;background-color:rgba(53,183,121,0.005181432701647282); >   </text><text style=color:white;background-color:rgba(53,183,121,0.005079165566712618); >   </text><text style=color:white;background-color:rgba(53,183,121,0.005089231301099062); >   </text><text style=color:white;background-color:rgba(53,183,121,0.005111260339617729); >   </text><text style=color:white;background-color:rgba(53,183,121,0.00511237233877182); >   </text></div> </body> </html>"
            ],
            "text/plain": [
              "<IPython.core.display.HTML object>"
            ]
          },
          "metadata": {
            "tags": []
          }
        }
      ]
    }
  ]
}